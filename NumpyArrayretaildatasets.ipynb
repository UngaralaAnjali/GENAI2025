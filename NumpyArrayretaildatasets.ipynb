{
  "nbformat": 4,
  "nbformat_minor": 0,
  "metadata": {
    "colab": {
      "provenance": []
    },
    "kernelspec": {
      "name": "python3",
      "display_name": "Python 3"
    },
    "language_info": {
      "name": "python"
    }
  },
  "cells": [
    {
      "cell_type": "code",
      "execution_count": 1,
      "metadata": {
        "colab": {
          "base_uri": "https://localhost:8080/"
        },
        "id": "PwVGl_AU0CLI",
        "outputId": "536d320c-bfff-4b65-87e6-c2263ea81377"
      },
      "outputs": [
        {
          "output_type": "execute_result",
          "data": {
            "text/plain": [
              "array([[1001, 'Laptop', 1, 50000, 50000],\n",
              "       [1002, 'Mouse', 2, 500, 1000],\n",
              "       [1003, 'Keyboard', 1, 1000, 1000],\n",
              "       [1004, 'Monitor', 2, 7000, 14000],\n",
              "       [1005, 'Headphones', 1, 2000, 2000]], dtype=object)"
            ]
          },
          "metadata": {},
          "execution_count": 1
        }
      ],
      "source": [
        "import numpy as np\n",
        "\n",
        "# Retail dataset as numpy array\n",
        "retail_np_array = np.array([\n",
        "    [1001, \"Laptop\", 1, 50000, 50000],\n",
        "    [1002, \"Mouse\", 2, 500, 1000],\n",
        "    [1003, \"Keyboard\", 1, 1000, 1000],\n",
        "    [1004, \"Monitor\", 2, 7000, 14000],\n",
        "    [1005, \"Headphones\", 1, 2000, 2000]\n",
        "], dtype=object)\n",
        "retail_np_array"
      ]
    },
    {
      "cell_type": "code",
      "source": [
        "type(retail_np_array[0,2])"
      ],
      "metadata": {
        "colab": {
          "base_uri": "https://localhost:8080/"
        },
        "id": "rPtJUohd0OTb",
        "outputId": "80972753-606f-4c41-c98a-b80edfd1a268"
      },
      "execution_count": 2,
      "outputs": [
        {
          "output_type": "execute_result",
          "data": {
            "text/plain": [
              "int"
            ]
          },
          "metadata": {},
          "execution_count": 2
        }
      ]
    },
    {
      "cell_type": "code",
      "source": [
        "\n",
        "quantities = retail_np_array[:, 2].astype(int)\n",
        "prices = retail_np_array[:, 3].astype(int)\n",
        "totals = retail_np_array[:, 4].astype(int)\n",
        "retail_np_array"
      ],
      "metadata": {
        "colab": {
          "base_uri": "https://localhost:8080/"
        },
        "id": "DVQ2M4_-0OR8",
        "outputId": "0548944f-f53f-400c-99f2-4ad7a39f223c"
      },
      "execution_count": 3,
      "outputs": [
        {
          "output_type": "execute_result",
          "data": {
            "text/plain": [
              "array([[1001, 'Laptop', 1, 50000, 50000],\n",
              "       [1002, 'Mouse', 2, 500, 1000],\n",
              "       [1003, 'Keyboard', 1, 1000, 1000],\n",
              "       [1004, 'Monitor', 2, 7000, 14000],\n",
              "       [1005, 'Headphones', 1, 2000, 2000]], dtype=object)"
            ]
          },
          "metadata": {},
          "execution_count": 3
        }
      ]
    },
    {
      "cell_type": "code",
      "source": [
        "retail_np_array"
      ],
      "metadata": {
        "colab": {
          "base_uri": "https://localhost:8080/"
        },
        "id": "mKEYErLR2Did",
        "outputId": "4d6d322c-73a0-4e21-9c3c-5588d0665e1b"
      },
      "execution_count": 4,
      "outputs": [
        {
          "output_type": "execute_result",
          "data": {
            "text/plain": [
              "array([[1001, 'Laptop', 1, 50000, 50000],\n",
              "       [1002, 'Mouse', 2, 500, 1000],\n",
              "       [1003, 'Keyboard', 1, 1000, 1000],\n",
              "       [1004, 'Monitor', 2, 7000, 14000],\n",
              "       [1005, 'Headphones', 1, 2000, 2000]], dtype=object)"
            ]
          },
          "metadata": {},
          "execution_count": 4
        }
      ]
    },
    {
      "cell_type": "code",
      "source": [
        " retail_np_array.size"
      ],
      "metadata": {
        "colab": {
          "base_uri": "https://localhost:8080/"
        },
        "id": "ENRO2VqQ2KlC",
        "outputId": "c56e3e3f-5775-4d9e-830c-c07d0ad31a99"
      },
      "execution_count": 5,
      "outputs": [
        {
          "output_type": "execute_result",
          "data": {
            "text/plain": [
              "25"
            ]
          },
          "metadata": {},
          "execution_count": 5
        }
      ]
    },
    {
      "cell_type": "code",
      "source": [
        " retail_np_array.shape[0]"
      ],
      "metadata": {
        "colab": {
          "base_uri": "https://localhost:8080/"
        },
        "id": "J0xWwbHM2RRt",
        "outputId": "130d5e8e-d807-4053-a52f-0c6df00bb8cc"
      },
      "execution_count": 6,
      "outputs": [
        {
          "output_type": "execute_result",
          "data": {
            "text/plain": [
              "5"
            ]
          },
          "metadata": {},
          "execution_count": 6
        }
      ]
    },
    {
      "cell_type": "code",
      "source": [
        "\n",
        "customer_ids = retail_np_array[:, 0]\n",
        "products = retail_np_array[:, 1]\n",
        "quantities = retail_np_array[:, 2].astype(int)\n",
        "prices = retail_np_array[:, 3].astype(int)\n",
        "totals = retail_np_array[:, 4].astype(int)\n",
        "retail_np_array"
      ],
      "metadata": {
        "colab": {
          "base_uri": "https://localhost:8080/"
        },
        "id": "Rh08PuOG2RFi",
        "outputId": "37502103-d192-44e9-8879-4f0df53effff"
      },
      "execution_count": 7,
      "outputs": [
        {
          "output_type": "execute_result",
          "data": {
            "text/plain": [
              "array([[1001, 'Laptop', 1, 50000, 50000],\n",
              "       [1002, 'Mouse', 2, 500, 1000],\n",
              "       [1003, 'Keyboard', 1, 1000, 1000],\n",
              "       [1004, 'Monitor', 2, 7000, 14000],\n",
              "       [1005, 'Headphones', 1, 2000, 2000]], dtype=object)"
            ]
          },
          "metadata": {},
          "execution_count": 7
        }
      ]
    },
    {
      "cell_type": "code",
      "source": [],
      "metadata": {
        "id": "rpCNhBHa22eD"
      },
      "execution_count": null,
      "outputs": []
    },
    {
      "cell_type": "code",
      "source": [
        "\n",
        "# Compute answers using NumPy\n",
        "answers_np = {\n",
        "    \"1. Total number of transactions\": retail_np_array.shape[0],\n",
        "    \"2. Total revenue generated\": np.sum(totals),\n",
        "\n",
        "\n",
        "\n",
        "    \"3. Average order value\": np.mean(totals),\n",
        "    \"4. Product with the highest total price\": products[np.argmax(totals)],\n",
        "    \"5. Product with the lowest total price\": products[np.argmin(totals)],\n",
        "    \"6. Average price of products\": np.mean(prices),\n",
        "    \"7. Total quantity sold\": np.sum(quantities),\n",
        "    \"8. Most frequently purchased product\": np.unique(products, return_counts=True)[0][np.argmax(np.unique(products, return_counts=True)[1])],\n",
        "    \"9. Number of unique products\": len(np.unique(products)),\n",
        "    \"10. Number of unique customers\": len(np.unique(customer_ids)),\n",
        "    \"11. List all products sold\": products.tolist(),\n",
        "    \"12. Revenue per product\": {prod: np.sum(totals[products == prod]) for prod in np.unique(products)},\n",
        "    \"13. Quantity sold per product\": {prod: np.sum(quantities[products == prod]) for prod in np.unique(products)},\n",
        "    \"14. Highest price of a product\": np.max(prices),\n",
        "    \"15. Lowest price of a product\": np.min(prices),\n",
        "    \"16. Products sold more than once\": products[quantities > 1].tolist(),\n",
        "    \"17. Customers who bought more than one item\": customer_ids[quantities > 1].tolist(),\n",
        "    \"18. Total spent by CustomerID 1002\": np.sum(totals[customer_ids == 1002]),\n",
        "    \"19. Products priced above 1000\": products[prices > 1000].tolist(),\n",
        "    \"20. Products with total >= 2000\": products[totals >= 2000].tolist()\n",
        "}\n",
        "\n",
        "answers_np\n"
      ],
      "metadata": {
        "colab": {
          "base_uri": "https://localhost:8080/"
        },
        "id": "r0XSTxki2qio",
        "outputId": "c9a92367-19c8-4588-954a-2237afaa57ee"
      },
      "execution_count": 12,
      "outputs": [
        {
          "output_type": "execute_result",
          "data": {
            "text/plain": [
              "{'1. Total number of transactions': 5,\n",
              " '2. Total revenue generated': np.int64(68000),\n",
              " '3. Average order value': np.float64(13600.0),\n",
              " '4. Product with the highest total price': 'Laptop',\n",
              " '5. Product with the lowest total price': 'Mouse',\n",
              " '6. Average price of products': np.float64(12100.0),\n",
              " '7. Total quantity sold': np.int64(7),\n",
              " '8. Most frequently purchased product': 'Headphones',\n",
              " '9. Number of unique products': 5,\n",
              " '10. Number of unique customers': 5,\n",
              " '11. List all products sold': ['Laptop',\n",
              "  'Mouse',\n",
              "  'Keyboard',\n",
              "  'Monitor',\n",
              "  'Headphones'],\n",
              " '12. Revenue per product': {'Headphones': np.int64(2000),\n",
              "  'Keyboard': np.int64(1000),\n",
              "  'Laptop': np.int64(50000),\n",
              "  'Monitor': np.int64(14000),\n",
              "  'Mouse': np.int64(1000)},\n",
              " '13. Quantity sold per product': {'Headphones': np.int64(1),\n",
              "  'Keyboard': np.int64(1),\n",
              "  'Laptop': np.int64(1),\n",
              "  'Monitor': np.int64(2),\n",
              "  'Mouse': np.int64(2)},\n",
              " '14. Highest price of a product': np.int64(50000),\n",
              " '15. Lowest price of a product': np.int64(500),\n",
              " '16. Products sold more than once': ['Mouse', 'Monitor'],\n",
              " '17. Customers who bought more than one item': [1002, 1004],\n",
              " '18. Total spent by CustomerID 1002': np.int64(1000),\n",
              " '19. Products priced above 1000': ['Laptop', 'Monitor', 'Headphones'],\n",
              " '20. Products with total >= 2000': ['Laptop', 'Monitor', 'Headphones']}"
            ]
          },
          "metadata": {},
          "execution_count": 12
        }
      ]
    },
    {
      "cell_type": "code",
      "source": [
        "np.unique(products, return_counts=True)[0][np.argmax(np.unique(products, return_counts=True)[1])]"
      ],
      "metadata": {
        "colab": {
          "base_uri": "https://localhost:8080/",
          "height": 36
        },
        "id": "MhdHHLEO2qhO",
        "outputId": "03c52dd5-af41-4c77-952d-08a864bd89fb"
      },
      "execution_count": 13,
      "outputs": [
        {
          "output_type": "execute_result",
          "data": {
            "text/plain": [
              "'Headphones'"
            ],
            "application/vnd.google.colaboratory.intrinsic+json": {
              "type": "string"
            }
          },
          "metadata": {},
          "execution_count": 13
        }
      ]
    },
    {
      "cell_type": "code",
      "source": [
        "np.unique(products, return_counts=True)[0][np.argmax(np.unique(products, return_counts=True)[1])]"
      ],
      "metadata": {
        "colab": {
          "base_uri": "https://localhost:8080/",
          "height": 36
        },
        "id": "ZwfNyycU3Lnp",
        "outputId": "60aeaf29-e216-42c8-ae1e-ef0233ee8b08"
      },
      "execution_count": 14,
      "outputs": [
        {
          "output_type": "execute_result",
          "data": {
            "text/plain": [
              "'Headphones'"
            ],
            "application/vnd.google.colaboratory.intrinsic+json": {
              "type": "string"
            }
          },
          "metadata": {},
          "execution_count": 14
        }
      ]
    },
    {
      "cell_type": "code",
      "source": [
        "\n",
        "products.tolist()\n"
      ],
      "metadata": {
        "colab": {
          "base_uri": "https://localhost:8080/"
        },
        "id": "IFm0Gy0G3LmO",
        "outputId": "f7a1f682-22ed-4c49-cdcc-9e7af1978cb9"
      },
      "execution_count": 15,
      "outputs": [
        {
          "output_type": "execute_result",
          "data": {
            "text/plain": [
              "['Laptop', 'Mouse', 'Keyboard', 'Monitor', 'Headphones']"
            ]
          },
          "metadata": {},
          "execution_count": 15
        }
      ]
    },
    {
      "cell_type": "code",
      "source": [
        "products"
      ],
      "metadata": {
        "colab": {
          "base_uri": "https://localhost:8080/"
        },
        "id": "TKW6dpA53bXj",
        "outputId": "9f4b427c-08f2-4040-b46d-598804626487"
      },
      "execution_count": 16,
      "outputs": [
        {
          "output_type": "execute_result",
          "data": {
            "text/plain": [
              "array(['Laptop', 'Mouse', 'Keyboard', 'Monitor', 'Headphones'],\n",
              "      dtype=object)"
            ]
          },
          "metadata": {},
          "execution_count": 16
        }
      ]
    }
  ]
}