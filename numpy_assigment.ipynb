{
  "nbformat": 4,
  "nbformat_minor": 0,
  "metadata": {
    "colab": {
      "provenance": []
    },
    "kernelspec": {
      "name": "python3",
      "display_name": "Python 3"
    },
    "language_info": {
      "name": "python"
    }
  },
  "cells": [
    {
      "cell_type": "code",
      "source": [
        "import numpy as np\n",
        "\n",
        "# Your provided dataset\n",
        "data_array = np.array([\n",
        "    [1001, 207, 307, 2, 8.5, 0, 4, 'West', 'PayPal', 503.0, 17.00],\n",
        "    [1002, 206, 305, 4, 10.99, 5, 6, 'Online', 'Cash', np.nan, 41.75],\n",
        "    [1003, 205, 301, 5, 10.99, 10, 6, 'Online', 'PayPal', np.nan, 49.46],\n",
        "    [1004, 206, 307, 2, 7.25, 10, 0, 'West', 'Credit Card', 501.0, 13.05],\n",
        "    [1005, 207, 306, 2, 49.99, 10, 6, 'West', 'PayPal', 502.0, 89.98],\n",
        "    [1006, 208, 308, 1, 12.75, 0, 0, 'East', 'Cash', 502.0, 12.75],\n",
        "    [1007, 206, 302, 3, 7.25, 0, 1, 'Online', 'PayPal', np.nan, 21.75],\n",
        "    [1008, 206, 308, 1, 10.99, 5, 8, 'West', 'Credit Card', 503.0, 10.44],\n",
        "    [1009, 204, 304, 5, 25.5, 0, 6, 'South', 'Credit Card', 501.0, 127.50],\n",
        "    [1010, 210, 302, 3, 8.5, 0, 4, 'North', 'Debit Card', 503.0, 25.50],\n",
        "    [1011, 202, 305, 3, 8.5, 0, 1, 'North', 'PayPal', 501.0, 25.50],\n",
        "    [1012, 205, 301, 1, 10.99, 0, 1, 'West', 'Debit Card', 503.0, 10.99],\n",
        "    [1013, 206, 307, 2, 25.5, 10, 1, 'North', 'Credit Card', 502.0, 45.90],\n",
        "    [1014, 202, 304, 1, 12.75, 5, 5, 'East', 'Cash', 501.0, 12.11],\n",
        "    [1015, 208, 303, 5, 49.99, 5, 4, 'Online', 'Credit Card', np.nan, 237.41],\n",
        "    [1016, 207, 301, 2, 10.99, 5, 5, 'West', 'Credit Card', 503.0, 20.88],\n",
        "    [1017, 203, 303, 2, 10.99, 10, 5, 'North', 'PayPal', 502.0, 19.78],\n",
        "    [1018, 202, 302, 5, 49.99, 5, 8, 'North', 'Credit Card', 503.0, 237.41],\n",
        "    [1019, 208, 304, 2, 7.25, 5, 7, 'South', 'Debit Card', 502.0, 13.78],\n",
        "    [1020, 206, 305, 3, 25.5, 10, 0, 'South', 'Debit Card', 503.0, 68.85]\n",
        "], dtype=object)\n"
      ],
      "metadata": {
        "id": "0w2nB4ADzDw9"
      },
      "execution_count": 3,
      "outputs": []
    },
    {
      "cell_type": "code",
      "source": [
        "data_array.shape"
      ],
      "metadata": {
        "colab": {
          "base_uri": "https://localhost:8080/"
        },
        "id": "dbMzDFiNzMIT",
        "outputId": "36634de7-bbef-4df6-de48-7101789a4178"
      },
      "execution_count": 4,
      "outputs": [
        {
          "output_type": "execute_result",
          "data": {
            "text/plain": [
              "(20, 11)"
            ]
          },
          "metadata": {},
          "execution_count": 4
        }
      ]
    },
    {
      "cell_type": "code",
      "source": [
        "data_array.dtype"
      ],
      "metadata": {
        "colab": {
          "base_uri": "https://localhost:8080/"
        },
        "id": "tcLEMQ2qzMG6",
        "outputId": "e9fb526c-258f-404b-9b25-4e7c0f006e1b"
      },
      "execution_count": 5,
      "outputs": [
        {
          "output_type": "execute_result",
          "data": {
            "text/plain": [
              "dtype('O')"
            ]
          },
          "metadata": {},
          "execution_count": 5
        }
      ]
    },
    {
      "cell_type": "code",
      "source": [
        "quantities = data_array[:, 3].astype(int); np.sum(quantities)"
      ],
      "metadata": {
        "colab": {
          "base_uri": "https://localhost:8080/"
        },
        "id": "vc7XhNo6zdKm",
        "outputId": "0e100bca-4d72-4da6-c0cc-b6646cbbec18"
      },
      "execution_count": 6,
      "outputs": [
        {
          "output_type": "execute_result",
          "data": {
            "text/plain": [
              "np.int64(54)"
            ]
          },
          "metadata": {},
          "execution_count": 6
        }
      ]
    },
    {
      "cell_type": "code",
      "source": [
        "total_sales = data_array[:, 10].astype(float); np.mean(total_sales)"
      ],
      "metadata": {
        "colab": {
          "base_uri": "https://localhost:8080/"
        },
        "id": "1WD-tiPozdF3",
        "outputId": "aa01d1ee-18ea-4e09-8f5b-6675081b1f4a"
      },
      "execution_count": 7,
      "outputs": [
        {
          "output_type": "execute_result",
          "data": {
            "text/plain": [
              "np.float64(55.0895)"
            ]
          },
          "metadata": {},
          "execution_count": 7
        }
      ]
    },
    {
      "cell_type": "code",
      "source": [
        "data_array[0, 7]"
      ],
      "metadata": {
        "colab": {
          "base_uri": "https://localhost:8080/",
          "height": 35
        },
        "id": "YwbtyYnIzdEc",
        "outputId": "0023a456-c534-4289-fd40-f3e598e8c929"
      },
      "execution_count": 8,
      "outputs": [
        {
          "output_type": "execute_result",
          "data": {
            "text/plain": [
              "'West'"
            ],
            "application/vnd.google.colaboratory.intrinsic+json": {
              "type": "string"
            }
          },
          "metadata": {},
          "execution_count": 8
        }
      ]
    },
    {
      "cell_type": "code",
      "source": [
        "type(data_array[0, 9])\n"
      ],
      "metadata": {
        "colab": {
          "base_uri": "https://localhost:8080/"
        },
        "id": "EeUgEOxG0ZID",
        "outputId": "fc56c261-e48f-4b66-ac05-383f7b1bfa05"
      },
      "execution_count": 16,
      "outputs": [
        {
          "output_type": "execute_result",
          "data": {
            "text/plain": [
              "float"
            ]
          },
          "metadata": {},
          "execution_count": 16
        }
      ]
    },
    {
      "cell_type": "code",
      "source": [
        "data_array[0, :]"
      ],
      "metadata": {
        "colab": {
          "base_uri": "https://localhost:8080/"
        },
        "id": "D3j2Q2lq0ZGr",
        "outputId": "f651856e-6e6a-44db-f76d-98ea4bdbe6f5"
      },
      "execution_count": 17,
      "outputs": [
        {
          "output_type": "execute_result",
          "data": {
            "text/plain": [
              "array([1001, 207, 307, 2, 8.5, 0, 4, 'West', 'PayPal', 503.0, 17.0],\n",
              "      dtype=object)"
            ]
          },
          "metadata": {},
          "execution_count": 17
        }
      ]
    },
    {
      "cell_type": "code",
      "source": [
        "\n",
        "transaction_ids = data_array[:, 0].astype(int); np.all(transaction_ids == data_array[:, 0])"
      ],
      "metadata": {
        "colab": {
          "base_uri": "https://localhost:8080/"
        },
        "id": "qV1tuA-W0tlj",
        "outputId": "50fda5a9-ac16-4c0f-b1be-d77ee9aa8ca0"
      },
      "execution_count": 18,
      "outputs": [
        {
          "output_type": "execute_result",
          "data": {
            "text/plain": [
              "np.True_"
            ]
          },
          "metadata": {},
          "execution_count": 18
        }
      ]
    },
    {
      "cell_type": "code",
      "source": [
        "numerical_data = data_array[:, [0,1,2,3,4,5,6,10]].astype(float)\n"
      ],
      "metadata": {
        "id": "8KmSLpR00tj3"
      },
      "execution_count": 21,
      "outputs": []
    },
    {
      "cell_type": "code",
      "source": [
        "np.max(data_array[:, 3].astype(int))"
      ],
      "metadata": {
        "colab": {
          "base_uri": "https://localhost:8080/"
        },
        "id": "OhXB3KQA1JCm",
        "outputId": "95ee8af5-3d06-42d3-acfd-7298552ac9b5"
      },
      "execution_count": 22,
      "outputs": [
        {
          "output_type": "execute_result",
          "data": {
            "text/plain": [
              "np.int64(5)"
            ]
          },
          "metadata": {},
          "execution_count": 22
        }
      ]
    },
    {
      "cell_type": "code",
      "source": [
        "np.min(data_array[:, 4].astype(float))"
      ],
      "metadata": {
        "colab": {
          "base_uri": "https://localhost:8080/"
        },
        "id": "r_qGhvq31JBJ",
        "outputId": "ed29c5aa-7017-4ee6-8664-748bb5d7c2ff"
      },
      "execution_count": 23,
      "outputs": [
        {
          "output_type": "execute_result",
          "data": {
            "text/plain": [
              "np.float64(7.25)"
            ]
          },
          "metadata": {},
          "execution_count": 23
        }
      ]
    },
    {
      "cell_type": "code",
      "source": [
        "np.min(data_array[:, 4].astype(float))"
      ],
      "metadata": {
        "colab": {
          "base_uri": "https://localhost:8080/"
        },
        "id": "1oS4RZ_x1ULr",
        "outputId": "347ac799-265c-47ce-af97-ca2ee84078d1"
      },
      "execution_count": 24,
      "outputs": [
        {
          "output_type": "execute_result",
          "data": {
            "text/plain": [
              "np.float64(7.25)"
            ]
          },
          "metadata": {},
          "execution_count": 24
        }
      ]
    },
    {
      "cell_type": "code",
      "source": [
        "np.sum(data_array[:, 5].astype(int))"
      ],
      "metadata": {
        "colab": {
          "base_uri": "https://localhost:8080/"
        },
        "id": "MvAZB2Jw1UE9",
        "outputId": "4817fd2b-9af2-472e-d8c3-b1f3af4591a3"
      },
      "execution_count": 25,
      "outputs": [
        {
          "output_type": "execute_result",
          "data": {
            "text/plain": [
              "np.int64(95)"
            ]
          },
          "metadata": {},
          "execution_count": 25
        }
      ]
    },
    {
      "cell_type": "code",
      "source": [
        "np.median(data_array[:, 10].astype(float))"
      ],
      "metadata": {
        "colab": {
          "base_uri": "https://localhost:8080/"
        },
        "id": "76Kj8Tog1UDb",
        "outputId": "b9dc52a6-931a-4290-9f87-9735efb24c6b"
      },
      "execution_count": 26,
      "outputs": [
        {
          "output_type": "execute_result",
          "data": {
            "text/plain": [
              "np.float64(23.625)"
            ]
          },
          "metadata": {},
          "execution_count": 26
        }
      ]
    },
    {
      "cell_type": "code",
      "source": [
        "np.std(data_array[:, 4].astype(float))"
      ],
      "metadata": {
        "colab": {
          "base_uri": "https://localhost:8080/"
        },
        "id": "bYGismkU1pSc",
        "outputId": "4e2895e3-9b16-44c0-959e-a11fc3ffb3d3"
      },
      "execution_count": 27,
      "outputs": [
        {
          "output_type": "execute_result",
          "data": {
            "text/plain": [
              "np.float64(14.49983124039725)"
            ]
          },
          "metadata": {},
          "execution_count": 27
        }
      ]
    },
    {
      "cell_type": "code",
      "source": [
        "len(np.unique(data_array[:, 1].astype(int)))"
      ],
      "metadata": {
        "colab": {
          "base_uri": "https://localhost:8080/"
        },
        "id": "15JrBoL-1pNe",
        "outputId": "56388c6d-7f7d-4dad-eebc-b933324738dc"
      },
      "execution_count": 28,
      "outputs": [
        {
          "output_type": "execute_result",
          "data": {
            "text/plain": [
              "8"
            ]
          },
          "metadata": {},
          "execution_count": 28
        }
      ]
    },
    {
      "cell_type": "code",
      "source": [
        "len(np.unique(data_array[:, 2].astype(int)))"
      ],
      "metadata": {
        "colab": {
          "base_uri": "https://localhost:8080/"
        },
        "id": "x7IjuT5r1pLz",
        "outputId": "03d1d15e-f8ab-4bbc-c901-a485de8e70b7"
      },
      "execution_count": 29,
      "outputs": [
        {
          "output_type": "execute_result",
          "data": {
            "text/plain": [
              "8"
            ]
          },
          "metadata": {},
          "execution_count": 29
        }
      ]
    },
    {
      "cell_type": "code",
      "source": [
        "discounts = data_array[:, 5].astype(int); quantities = data_array[:, 3].astype(int); np.sum(quantities[discounts == 0])"
      ],
      "metadata": {
        "colab": {
          "base_uri": "https://localhost:8080/"
        },
        "id": "Rglv8Ivc1-U-",
        "outputId": "a37523d2-9166-483e-e1f2-749c4724798b"
      },
      "execution_count": 30,
      "outputs": [
        {
          "output_type": "execute_result",
          "data": {
            "text/plain": [
              "np.int64(18)"
            ]
          },
          "metadata": {},
          "execution_count": 30
        }
      ]
    },
    {
      "cell_type": "code",
      "source": [
        "quantities = data_array[:, 3].astype(int); total_sales = data_array[:, 10].astype(float); np.mean(total_sales[quantities > 3])"
      ],
      "metadata": {
        "colab": {
          "base_uri": "https://localhost:8080/"
        },
        "id": "abyr-yum1-Td",
        "outputId": "7fc00ed6-d12b-4a65-ea44-79b844d24954"
      },
      "execution_count": 31,
      "outputs": [
        {
          "output_type": "execute_result",
          "data": {
            "text/plain": [
              "np.float64(138.706)"
            ]
          },
          "metadata": {},
          "execution_count": 31
        }
      ]
    },
    {
      "cell_type": "code",
      "source": [
        "quantities = data_array[:, 3].astype(int); unit_prices = data_array[:, 4].astype(float); np.sum(quantities * unit_prices)\n"
      ],
      "metadata": {
        "colab": {
          "base_uri": "https://localhost:8080/"
        },
        "id": "ggQqLCD52QIq",
        "outputId": "cc864da0-5b40-4485-d820-60f3f9d1ae81"
      },
      "execution_count": 32,
      "outputs": [
        {
          "output_type": "execute_result",
          "data": {
            "text/plain": [
              "np.float64(1163.98)"
            ]
          },
          "metadata": {},
          "execution_count": 32
        }
      ]
    },
    {
      "cell_type": "code",
      "source": [
        "payment_types = data_array[:, 8]; np.sum(payment_types == 'PayPal')"
      ],
      "metadata": {
        "colab": {
          "base_uri": "https://localhost:8080/"
        },
        "id": "8CjNy3QM2QHG",
        "outputId": "07a05076-7bd4-407c-dfe8-636f5a92aeda"
      },
      "execution_count": 33,
      "outputs": [
        {
          "output_type": "execute_result",
          "data": {
            "text/plain": [
              "np.int64(6)"
            ]
          },
          "metadata": {},
          "execution_count": 33
        }
      ]
    },
    {
      "cell_type": "code",
      "source": [
        "salespersons = data_array[:, 9]; discounts = data_array[:, 5].astype(int); np.mean(discounts[salespersons == 501.0])"
      ],
      "metadata": {
        "colab": {
          "base_uri": "https://localhost:8080/"
        },
        "id": "-_DmsthY2hle",
        "outputId": "bec0aed7-5e3d-4a90-a48c-5473fc9b5498"
      },
      "execution_count": 35,
      "outputs": [
        {
          "output_type": "execute_result",
          "data": {
            "text/plain": [
              "np.float64(3.75)"
            ]
          },
          "metadata": {},
          "execution_count": 35
        }
      ]
    },
    {
      "cell_type": "code",
      "source": [
        "np.min(data_array[:, 6].astype(int))"
      ],
      "metadata": {
        "colab": {
          "base_uri": "https://localhost:8080/"
        },
        "id": "Zn_6iSiE2hjs",
        "outputId": "18a05110-fb39-47ae-8255-492563522b8f"
      },
      "execution_count": 36,
      "outputs": [
        {
          "output_type": "execute_result",
          "data": {
            "text/plain": [
              "np.int64(0)"
            ]
          },
          "metadata": {},
          "execution_count": 36
        }
      ]
    },
    {
      "cell_type": "code",
      "source": [
        "product_ids = data_array[:, 2].astype(int); transaction_ids = data_array[:, 0].astype(int); transaction_ids[product_ids == 301]"
      ],
      "metadata": {
        "colab": {
          "base_uri": "https://localhost:8080/"
        },
        "id": "OAiecepI3ERP",
        "outputId": "f9f617a2-37b9-495e-d0bb-e33b3068ad71"
      },
      "execution_count": 37,
      "outputs": [
        {
          "output_type": "execute_result",
          "data": {
            "text/plain": [
              "array([1003, 1012, 1016])"
            ]
          },
          "metadata": {},
          "execution_count": 37
        }
      ]
    },
    {
      "cell_type": "code",
      "source": [
        "store_locations = data_array[:, 7]; total_sales = data_array[:, 10].astype(float); total_sales[store_locations == 'West']\n"
      ],
      "metadata": {
        "colab": {
          "base_uri": "https://localhost:8080/"
        },
        "id": "Q1FwSUnr3EMm",
        "outputId": "70114bb8-c0ec-4cb0-8fc0-9da994cf26bf"
      },
      "execution_count": 38,
      "outputs": [
        {
          "output_type": "execute_result",
          "data": {
            "text/plain": [
              "array([17.  , 13.05, 89.98, 10.44, 10.99, 20.88])"
            ]
          },
          "metadata": {},
          "execution_count": 38
        }
      ]
    },
    {
      "cell_type": "code",
      "source": [
        "store_locations = data_array[:, 7]; quantities = data_array[:, 3].astype(int); np.sum((store_locations == 'Online') & (quantities == 5))"
      ],
      "metadata": {
        "colab": {
          "base_uri": "https://localhost:8080/"
        },
        "id": "QhioA6vO3ELA",
        "outputId": "d348eb7a-9a69-4cf5-9185-43f14188cea8"
      },
      "execution_count": 39,
      "outputs": [
        {
          "output_type": "execute_result",
          "data": {
            "text/plain": [
              "np.int64(2)"
            ]
          },
          "metadata": {},
          "execution_count": 39
        }
      ]
    },
    {
      "cell_type": "code",
      "source": [
        "payment_types = data_array[:, 8]; total_sales = data_array[:, 10].astype(float); customer_ids = data_array[:, 1].astype(int); customer_ids[(payment_types == 'Credit Card') & (total_sales > 50)]\n"
      ],
      "metadata": {
        "colab": {
          "base_uri": "https://localhost:8080/"
        },
        "id": "h068z3c33imm",
        "outputId": "2a45d5ed-9bf6-48ab-ba34-378e32c41133"
      },
      "execution_count": 40,
      "outputs": [
        {
          "output_type": "execute_result",
          "data": {
            "text/plain": [
              "array([204, 208, 202])"
            ]
          },
          "metadata": {},
          "execution_count": 40
        }
      ]
    },
    {
      "cell_type": "code",
      "source": [
        "discounts = data_array[:, 5].astype(int); data_array[discounts == 10, :]"
      ],
      "metadata": {
        "colab": {
          "base_uri": "https://localhost:8080/"
        },
        "id": "UArgOkvp3ilB",
        "outputId": "7afbd285-5788-42fd-d1cd-becac4608d1e"
      },
      "execution_count": 41,
      "outputs": [
        {
          "output_type": "execute_result",
          "data": {
            "text/plain": [
              "array([[1003, 205, 301, 5, 10.99, 10, 6, 'Online', 'PayPal', nan, 49.46],\n",
              "       [1004, 206, 307, 2, 7.25, 10, 0, 'West', 'Credit Card', 501.0,\n",
              "        13.05],\n",
              "       [1005, 207, 306, 2, 49.99, 10, 6, 'West', 'PayPal', 502.0, 89.98],\n",
              "       [1013, 206, 307, 2, 25.5, 10, 1, 'North', 'Credit Card', 502.0,\n",
              "        45.9],\n",
              "       [1017, 203, 303, 2, 10.99, 10, 5, 'North', 'PayPal', 502.0, 19.78],\n",
              "       [1020, 206, 305, 3, 25.5, 10, 0, 'South', 'Debit Card', 503.0,\n",
              "        68.85]], dtype=object)"
            ]
          },
          "metadata": {},
          "execution_count": 41
        }
      ]
    },
    {
      "cell_type": "code",
      "source": [
        "product_ids = data_array[:, 2].astype(int); store_locations = data_array[:, 7]; unit_prices = data_array[:, 4].astype(float); unit_prices[(product_ids == 307) & (store_locations == 'West')]\n"
      ],
      "metadata": {
        "colab": {
          "base_uri": "https://localhost:8080/"
        },
        "id": "f3XpGO2O3yy4",
        "outputId": "979b165f-cfe8-4271-d578-9547b58dea41"
      },
      "execution_count": 42,
      "outputs": [
        {
          "output_type": "execute_result",
          "data": {
            "text/plain": [
              "array([8.5 , 7.25])"
            ]
          },
          "metadata": {},
          "execution_count": 42
        }
      ]
    },
    {
      "cell_type": "code",
      "source": [
        "discounts = data_array[:, 5].astype(int); total_sales = data_array[:, 10].astype(float); total_sales[discounts == 0]\n"
      ],
      "metadata": {
        "colab": {
          "base_uri": "https://localhost:8080/"
        },
        "id": "VpEknncn4HSs",
        "outputId": "d837a186-1d78-479d-f4a7-b85136f12229"
      },
      "execution_count": 44,
      "outputs": [
        {
          "output_type": "execute_result",
          "data": {
            "text/plain": [
              "array([ 17.  ,  12.75,  21.75, 127.5 ,  25.5 ,  25.5 ,  10.99])"
            ]
          },
          "metadata": {},
          "execution_count": 44
        }
      ]
    },
    {
      "cell_type": "code",
      "source": [
        "quantities = data_array[:, 3].astype(int); transaction_ids = data_array[:, 0].astype(int); transaction_ids[(quantities == 1) | (quantities == 5)]\n"
      ],
      "metadata": {
        "colab": {
          "base_uri": "https://localhost:8080/"
        },
        "id": "Jxl4K1x94HRI",
        "outputId": "15d31270-5466-4d1c-fd23-4e1e56560163"
      },
      "execution_count": 45,
      "outputs": [
        {
          "output_type": "execute_result",
          "data": {
            "text/plain": [
              "array([1003, 1006, 1008, 1009, 1012, 1014, 1015, 1018])"
            ]
          },
          "metadata": {},
          "execution_count": 45
        }
      ]
    },
    {
      "cell_type": "code",
      "source": [
        "store_locations = data_array[:, 7]; np.sum(np.isin(store_locations, ['North', 'South']))"
      ],
      "metadata": {
        "colab": {
          "base_uri": "https://localhost:8080/"
        },
        "id": "KjfLpVif4Xqs",
        "outputId": "e5a7a036-8ae9-4be1-8c1c-0464ef879225"
      },
      "execution_count": 46,
      "outputs": [
        {
          "output_type": "execute_result",
          "data": {
            "text/plain": [
              "np.int64(8)"
            ]
          },
          "metadata": {},
          "execution_count": 46
        }
      ]
    },
    {
      "cell_type": "code",
      "source": [
        "payment_types = data_array[:, 8]; data_array[payment_types != 'Cash', :]"
      ],
      "metadata": {
        "colab": {
          "base_uri": "https://localhost:8080/"
        },
        "id": "-fdcd7A44Xlt",
        "outputId": "96ad7009-6b2c-4022-a670-e07b580990a4"
      },
      "execution_count": 47,
      "outputs": [
        {
          "output_type": "execute_result",
          "data": {
            "text/plain": [
              "array([[1001, 207, 307, 2, 8.5, 0, 4, 'West', 'PayPal', 503.0, 17.0],\n",
              "       [1003, 205, 301, 5, 10.99, 10, 6, 'Online', 'PayPal', nan, 49.46],\n",
              "       [1004, 206, 307, 2, 7.25, 10, 0, 'West', 'Credit Card', 501.0,\n",
              "        13.05],\n",
              "       [1005, 207, 306, 2, 49.99, 10, 6, 'West', 'PayPal', 502.0, 89.98],\n",
              "       [1007, 206, 302, 3, 7.25, 0, 1, 'Online', 'PayPal', nan, 21.75],\n",
              "       [1008, 206, 308, 1, 10.99, 5, 8, 'West', 'Credit Card', 503.0,\n",
              "        10.44],\n",
              "       [1009, 204, 304, 5, 25.5, 0, 6, 'South', 'Credit Card', 501.0,\n",
              "        127.5],\n",
              "       [1010, 210, 302, 3, 8.5, 0, 4, 'North', 'Debit Card', 503.0, 25.5],\n",
              "       [1011, 202, 305, 3, 8.5, 0, 1, 'North', 'PayPal', 501.0, 25.5],\n",
              "       [1012, 205, 301, 1, 10.99, 0, 1, 'West', 'Debit Card', 503.0,\n",
              "        10.99],\n",
              "       [1013, 206, 307, 2, 25.5, 10, 1, 'North', 'Credit Card', 502.0,\n",
              "        45.9],\n",
              "       [1015, 208, 303, 5, 49.99, 5, 4, 'Online', 'Credit Card', nan,\n",
              "        237.41],\n",
              "       [1016, 207, 301, 2, 10.99, 5, 5, 'West', 'Credit Card', 503.0,\n",
              "        20.88],\n",
              "       [1017, 203, 303, 2, 10.99, 10, 5, 'North', 'PayPal', 502.0, 19.78],\n",
              "       [1018, 202, 302, 5, 49.99, 5, 8, 'North', 'Credit Card', 503.0,\n",
              "        237.41],\n",
              "       [1019, 208, 304, 2, 7.25, 5, 7, 'South', 'Debit Card', 502.0,\n",
              "        13.78],\n",
              "       [1020, 206, 305, 3, 25.5, 10, 0, 'South', 'Debit Card', 503.0,\n",
              "        68.85]], dtype=object)"
            ]
          },
          "metadata": {},
          "execution_count": 47
        }
      ]
    },
    {
      "cell_type": "code",
      "source": [
        "total_sales = data_array[:, 10].astype(float); product_ids = data_array[:, 2].astype(int); product_ids[(total_sales >= 10) & (total_sales <= 20)]"
      ],
      "metadata": {
        "colab": {
          "base_uri": "https://localhost:8080/"
        },
        "id": "RupjccQi4XkF",
        "outputId": "6fa89bb9-38d0-4d1a-fa2e-69fa4397b99e"
      },
      "execution_count": 48,
      "outputs": [
        {
          "output_type": "execute_result",
          "data": {
            "text/plain": [
              "array([307, 307, 308, 308, 301, 304, 303, 304])"
            ]
          },
          "metadata": {},
          "execution_count": 48
        }
      ]
    },
    {
      "cell_type": "code",
      "source": [
        "salespersons = data_array[:, 9]; discounts = data_array[:, 5].astype(int); np.sum((salespersons == 503.0) & (discounts > 0))\n"
      ],
      "metadata": {
        "colab": {
          "base_uri": "https://localhost:8080/"
        },
        "id": "AfqjKKOs4xBU",
        "outputId": "a4ed1321-65c7-4be4-ab05-743f2b22455e"
      },
      "execution_count": 49,
      "outputs": [
        {
          "output_type": "execute_result",
          "data": {
            "text/plain": [
              "np.int64(4)"
            ]
          },
          "metadata": {},
          "execution_count": 49
        }
      ]
    },
    {
      "cell_type": "code",
      "source": [
        "transaction_days = data_array[:, 6].astype(int); data_array[transaction_days == 0, :]"
      ],
      "metadata": {
        "colab": {
          "base_uri": "https://localhost:8080/"
        },
        "id": "MLko1qxO4w5B",
        "outputId": "c809fb9e-7777-4104-f2e1-95a09ce1d7d5"
      },
      "execution_count": 50,
      "outputs": [
        {
          "output_type": "execute_result",
          "data": {
            "text/plain": [
              "array([[1004, 206, 307, 2, 7.25, 10, 0, 'West', 'Credit Card', 501.0,\n",
              "        13.05],\n",
              "       [1006, 208, 308, 1, 12.75, 0, 0, 'East', 'Cash', 502.0, 12.75],\n",
              "       [1020, 206, 305, 3, 25.5, 10, 0, 'South', 'Debit Card', 503.0,\n",
              "        68.85]], dtype=object)"
            ]
          },
          "metadata": {},
          "execution_count": 50
        }
      ]
    },
    {
      "cell_type": "code",
      "source": [
        "store_locations = data_array[:, 7]; east_indices = (store_locations == 'East'); data_array[east_indices][:, [0, 10]]"
      ],
      "metadata": {
        "colab": {
          "base_uri": "https://localhost:8080/"
        },
        "id": "5dFP46Kk4_T1",
        "outputId": "08f727b9-4d60-49cc-902e-efc33f5ad139"
      },
      "execution_count": 51,
      "outputs": [
        {
          "output_type": "execute_result",
          "data": {
            "text/plain": [
              "array([[1006, 12.75],\n",
              "       [1014, 12.11]], dtype=object)"
            ]
          },
          "metadata": {},
          "execution_count": 51
        }
      ]
    },
    {
      "cell_type": "code",
      "source": [
        "product_ids = data_array[:, 2].astype(int); quantities = data_array[:, 3].astype(int); np.sum((product_ids == 304) & (quantities == 1))\n"
      ],
      "metadata": {
        "colab": {
          "base_uri": "https://localhost:8080/"
        },
        "id": "mwCz6U9Y4_SN",
        "outputId": "a8413895-73a7-4cca-e7b8-780a28560dcc"
      },
      "execution_count": 52,
      "outputs": [
        {
          "output_type": "execute_result",
          "data": {
            "text/plain": [
              "np.int64(1)"
            ]
          },
          "metadata": {},
          "execution_count": 52
        }
      ]
    },
    {
      "cell_type": "code",
      "source": [
        "customer_ids = data_array[:, 1].astype(int); payment_types = data_array[:, 8]; total_sales = data_array[:, 10].astype(float); total_sales[(customer_ids == 206) & (payment_types == 'Cash')]\n"
      ],
      "metadata": {
        "colab": {
          "base_uri": "https://localhost:8080/"
        },
        "id": "rq71RW5E4_LZ",
        "outputId": "bad93e93-58af-4839-8f7f-fe8ae7176d80"
      },
      "execution_count": 53,
      "outputs": [
        {
          "output_type": "execute_result",
          "data": {
            "text/plain": [
              "array([41.75])"
            ]
          },
          "metadata": {},
          "execution_count": 53
        }
      ]
    },
    {
      "cell_type": "code",
      "source": [
        "np.unique(data_array[:, 7])"
      ],
      "metadata": {
        "colab": {
          "base_uri": "https://localhost:8080/"
        },
        "id": "EfRE5fPU5cl5",
        "outputId": "1253ae37-0ec3-40a0-ce44-b156be8fea08"
      },
      "execution_count": 54,
      "outputs": [
        {
          "output_type": "execute_result",
          "data": {
            "text/plain": [
              "array(['East', 'North', 'Online', 'South', 'West'], dtype=object)"
            ]
          },
          "metadata": {},
          "execution_count": 54
        }
      ]
    },
    {
      "cell_type": "code",
      "source": [
        "unit_prices = data_array[:, 4].astype(float); data_array[np.isclose(unit_prices, 10.99), :]\n"
      ],
      "metadata": {
        "colab": {
          "base_uri": "https://localhost:8080/"
        },
        "id": "60vZ3N8G5kk9",
        "outputId": "830079c1-473f-4e45-c8ad-178e48f877b6"
      },
      "execution_count": 55,
      "outputs": [
        {
          "output_type": "execute_result",
          "data": {
            "text/plain": [
              "array([[1002, 206, 305, 4, 10.99, 5, 6, 'Online', 'Cash', nan, 41.75],\n",
              "       [1003, 205, 301, 5, 10.99, 10, 6, 'Online', 'PayPal', nan, 49.46],\n",
              "       [1008, 206, 308, 1, 10.99, 5, 8, 'West', 'Credit Card', 503.0,\n",
              "        10.44],\n",
              "       [1012, 205, 301, 1, 10.99, 0, 1, 'West', 'Debit Card', 503.0,\n",
              "        10.99],\n",
              "       [1016, 207, 301, 2, 10.99, 5, 5, 'West', 'Credit Card', 503.0,\n",
              "        20.88],\n",
              "       [1017, 203, 303, 2, 10.99, 10, 5, 'North', 'PayPal', 502.0, 19.78]],\n",
              "      dtype=object)"
            ]
          },
          "metadata": {},
          "execution_count": 55
        }
      ]
    },
    {
      "cell_type": "code",
      "source": [
        "unit_prices = data_array[:, 4].astype(float); data_array[np.isclose(unit_prices, 10.99), :]\n"
      ],
      "metadata": {
        "colab": {
          "base_uri": "https://localhost:8080/"
        },
        "id": "gj5rDfBC5khB",
        "outputId": "c278b397-95b4-4c95-b7ce-09426ed78d5f"
      },
      "execution_count": 56,
      "outputs": [
        {
          "output_type": "execute_result",
          "data": {
            "text/plain": [
              "array([[1002, 206, 305, 4, 10.99, 5, 6, 'Online', 'Cash', nan, 41.75],\n",
              "       [1003, 205, 301, 5, 10.99, 10, 6, 'Online', 'PayPal', nan, 49.46],\n",
              "       [1008, 206, 308, 1, 10.99, 5, 8, 'West', 'Credit Card', 503.0,\n",
              "        10.44],\n",
              "       [1012, 205, 301, 1, 10.99, 0, 1, 'West', 'Debit Card', 503.0,\n",
              "        10.99],\n",
              "       [1016, 207, 301, 2, 10.99, 5, 5, 'West', 'Credit Card', 503.0,\n",
              "        20.88],\n",
              "       [1017, 203, 303, 2, 10.99, 10, 5, 'North', 'PayPal', 502.0, 19.78]],\n",
              "      dtype=object)"
            ]
          },
          "metadata": {},
          "execution_count": 56
        }
      ]
    },
    {
      "cell_type": "code",
      "source": [
        "salespersons = data_array[:, 9]; data_array[np.isin(salespersons, [501.0, 502.0]), :]"
      ],
      "metadata": {
        "colab": {
          "base_uri": "https://localhost:8080/"
        },
        "id": "_W9tQdwK5kej",
        "outputId": "e10cf9fc-4746-45a9-96b0-cb13d5ac2552"
      },
      "execution_count": 57,
      "outputs": [
        {
          "output_type": "execute_result",
          "data": {
            "text/plain": [
              "array([[1004, 206, 307, 2, 7.25, 10, 0, 'West', 'Credit Card', 501.0,\n",
              "        13.05],\n",
              "       [1005, 207, 306, 2, 49.99, 10, 6, 'West', 'PayPal', 502.0, 89.98],\n",
              "       [1006, 208, 308, 1, 12.75, 0, 0, 'East', 'Cash', 502.0, 12.75],\n",
              "       [1009, 204, 304, 5, 25.5, 0, 6, 'South', 'Credit Card', 501.0,\n",
              "        127.5],\n",
              "       [1011, 202, 305, 3, 8.5, 0, 1, 'North', 'PayPal', 501.0, 25.5],\n",
              "       [1013, 206, 307, 2, 25.5, 10, 1, 'North', 'Credit Card', 502.0,\n",
              "        45.9],\n",
              "       [1014, 202, 304, 1, 12.75, 5, 5, 'East', 'Cash', 501.0, 12.11],\n",
              "       [1017, 203, 303, 2, 10.99, 10, 5, 'North', 'PayPal', 502.0, 19.78],\n",
              "       [1019, 208, 304, 2, 7.25, 5, 7, 'South', 'Debit Card', 502.0,\n",
              "        13.78]], dtype=object)"
            ]
          },
          "metadata": {},
          "execution_count": 57
        }
      ]
    },
    {
      "cell_type": "code",
      "source": [
        "data_array[:, 4].astype(float) * data_array[:, 3].astype(int)"
      ],
      "metadata": {
        "colab": {
          "base_uri": "https://localhost:8080/"
        },
        "id": "2lZ4dEZV56vr",
        "outputId": "aaa7d643-2949-4917-9a25-eac2ccd86aa9"
      },
      "execution_count": 58,
      "outputs": [
        {
          "output_type": "execute_result",
          "data": {
            "text/plain": [
              "array([ 17.  ,  43.96,  54.95,  14.5 ,  99.98,  12.75,  21.75,  10.99,\n",
              "       127.5 ,  25.5 ,  25.5 ,  10.99,  51.  ,  12.75, 249.95,  21.98,\n",
              "        21.98, 249.95,  14.5 ,  76.5 ])"
            ]
          },
          "metadata": {},
          "execution_count": 58
        }
      ]
    },
    {
      "cell_type": "code",
      "source": [
        "(data_array[:, 4].astype(float) * data_array[:, 3].astype(int) * data_array[:, 5].astype(int)) / 100.0\n"
      ],
      "metadata": {
        "colab": {
          "base_uri": "https://localhost:8080/"
        },
        "id": "_48TPWfi56t4",
        "outputId": "fbb068e6-e1f0-4e12-ef5a-ed5c54aeb81e"
      },
      "execution_count": 59,
      "outputs": [
        {
          "output_type": "execute_result",
          "data": {
            "text/plain": [
              "array([ 0.    ,  2.198 ,  5.495 ,  1.45  ,  9.998 ,  0.    ,  0.    ,\n",
              "        0.5495,  0.    ,  0.    ,  0.    ,  0.    ,  5.1   ,  0.6375,\n",
              "       12.4975,  1.099 ,  2.198 , 12.4975,  0.725 ,  7.65  ])"
            ]
          },
          "metadata": {},
          "execution_count": 59
        }
      ]
    },
    {
      "cell_type": "code",
      "source": [
        "data_array[:, 10].astype(float) > 75"
      ],
      "metadata": {
        "colab": {
          "base_uri": "https://localhost:8080/"
        },
        "id": "caoKRUxB56nT",
        "outputId": "68a861b8-57c9-4732-8a7b-379d0b1e142f"
      },
      "execution_count": 60,
      "outputs": [
        {
          "output_type": "execute_result",
          "data": {
            "text/plain": [
              "array([False, False, False, False,  True, False, False, False,  True,\n",
              "       False, False, False, False, False,  True, False, False,  True,\n",
              "       False, False])"
            ]
          },
          "metadata": {},
          "execution_count": 60
        }
      ]
    },
    {
      "cell_type": "code",
      "source": [
        "data_array[:, 10].astype(float) * 1.05"
      ],
      "metadata": {
        "colab": {
          "base_uri": "https://localhost:8080/"
        },
        "id": "RRtRx6Yb6O5P",
        "outputId": "03d39699-51c3-46d3-93c4-4a14ae648993"
      },
      "execution_count": 61,
      "outputs": [
        {
          "output_type": "execute_result",
          "data": {
            "text/plain": [
              "array([ 17.85  ,  43.8375,  51.933 ,  13.7025,  94.479 ,  13.3875,\n",
              "        22.8375,  10.962 , 133.875 ,  26.775 ,  26.775 ,  11.5395,\n",
              "        48.195 ,  12.7155, 249.2805,  21.924 ,  20.769 , 249.2805,\n",
              "        14.469 ,  72.2925])"
            ]
          },
          "metadata": {},
          "execution_count": 61
        }
      ]
    },
    {
      "cell_type": "code",
      "source": [
        "np.where(data_array[:, 10].astype(float) > 100, 1, 0)"
      ],
      "metadata": {
        "colab": {
          "base_uri": "https://localhost:8080/"
        },
        "id": "pGUWwrve6O3b",
        "outputId": "b43fc738-ae8a-4cf8-a4a5-3608d7a0d2d3"
      },
      "execution_count": 62,
      "outputs": [
        {
          "output_type": "execute_result",
          "data": {
            "text/plain": [
              "array([0, 0, 0, 0, 0, 0, 0, 0, 1, 0, 0, 0, 0, 0, 1, 0, 0, 1, 0, 0])"
            ]
          },
          "metadata": {},
          "execution_count": 62
        }
      ]
    },
    {
      "cell_type": "code",
      "source": [
        "(data_array[:, 4].astype(float) * data_array[:, 3].astype(int)) - data_array[:, 10].astype(float)\n"
      ],
      "metadata": {
        "colab": {
          "base_uri": "https://localhost:8080/"
        },
        "id": "OG7S4M4oV-dS",
        "outputId": "dc8447aa-9f1e-4a82-d3f7-a06655431921"
      },
      "execution_count": 4,
      "outputs": [
        {
          "output_type": "execute_result",
          "data": {
            "text/plain": [
              "array([ 0.  ,  2.21,  5.49,  1.45, 10.  ,  0.  ,  0.  ,  0.55,  0.  ,\n",
              "        0.  ,  0.  ,  0.  ,  5.1 ,  0.64, 12.54,  1.1 ,  2.2 , 12.54,\n",
              "        0.72,  7.65])"
            ]
          },
          "metadata": {},
          "execution_count": 4
        }
      ]
    },
    {
      "cell_type": "code",
      "source": [
        "total_sales = data_array[:, 10].astype(float); quantities = data_array[:, 3].astype(int); np.divide(total_sales, quantities, out=np.zeros_like(total_sales), where=quantities!=0)"
      ],
      "metadata": {
        "colab": {
          "base_uri": "https://localhost:8080/"
        },
        "id": "qmrUCCfWWhLq",
        "outputId": "6f83aa4f-647a-4430-b763-b3f01abbaef8"
      },
      "execution_count": 5,
      "outputs": [
        {
          "output_type": "execute_result",
          "data": {
            "text/plain": [
              "array([ 8.5   , 10.4375,  9.892 ,  6.525 , 44.99  , 12.75  ,  7.25  ,\n",
              "       10.44  , 25.5   ,  8.5   ,  8.5   , 10.99  , 22.95  , 12.11  ,\n",
              "       47.482 , 10.44  ,  9.89  , 47.482 ,  6.89  , 22.95  ])"
            ]
          },
          "metadata": {},
          "execution_count": 5
        }
      ]
    },
    {
      "cell_type": "code",
      "source": [
        "data_array[:, 3].astype(int) + 5"
      ],
      "metadata": {
        "colab": {
          "base_uri": "https://localhost:8080/"
        },
        "id": "CMJK_K5tWhJW",
        "outputId": "0b0ff8b5-b361-4f84-a04b-2995e7dcf699"
      },
      "execution_count": 6,
      "outputs": [
        {
          "output_type": "execute_result",
          "data": {
            "text/plain": [
              "array([ 7,  9, 10,  7,  7,  6,  8,  6, 10,  8,  8,  6,  7,  6, 10,  7,  7,\n",
              "       10,  7,  8])"
            ]
          },
          "metadata": {},
          "execution_count": 6
        }
      ]
    },
    {
      "cell_type": "code",
      "source": [
        "unit_prices = data_array[:, 4].astype(float); (unit_prices - np.mean(unit_prices)) / np.std(unit_prices)\n"
      ],
      "metadata": {
        "colab": {
          "base_uri": "https://localhost:8080/"
        },
        "id": "IaLxPTCPWviO",
        "outputId": "e404fe12-cc01-416d-d1fb-904544c4ec0c"
      },
      "execution_count": 7,
      "outputs": [
        {
          "output_type": "execute_result",
          "data": {
            "text/plain": [
              "array([-0.67297335, -0.50124721, -0.50124721, -0.75918125,  2.18843926,\n",
              "       -0.37986649, -0.75918125, -0.50124721,  0.49945409, -0.67297335,\n",
              "       -0.67297335, -0.50124721,  0.49945409, -0.37986649,  2.18843926,\n",
              "       -0.50124721, -0.50124721,  2.18843926, -0.75918125,  0.49945409])"
            ]
          },
          "metadata": {},
          "execution_count": 7
        }
      ]
    },
    {
      "cell_type": "code",
      "source": [
        "np.where(data_array[:, 5].astype(int) > 0, 1, 0)"
      ],
      "metadata": {
        "colab": {
          "base_uri": "https://localhost:8080/"
        },
        "id": "4zVCNLHAWvgY",
        "outputId": "e281ccbd-b15b-4e72-a641-58ea800e98c5"
      },
      "execution_count": 8,
      "outputs": [
        {
          "output_type": "execute_result",
          "data": {
            "text/plain": [
              "array([0, 1, 1, 1, 1, 0, 0, 1, 0, 0, 0, 0, 1, 1, 1, 1, 1, 1, 1, 1])"
            ]
          },
          "metadata": {},
          "execution_count": 8
        }
      ]
    },
    {
      "cell_type": "code",
      "source": [
        "online_sales_indices = (data_array[:, 7] == 'Online'); online_total_sales = data_array[online_sales_indices, 10].astype(float); online_total_sales * 0.98\n"
      ],
      "metadata": {
        "colab": {
          "base_uri": "https://localhost:8080/"
        },
        "id": "HwI6ZOdPW9X0",
        "outputId": "72b5f7d6-43f6-4316-f287-e57fc524b960"
      },
      "execution_count": 11,
      "outputs": [
        {
          "output_type": "execute_result",
          "data": {
            "text/plain": [
              "array([ 40.915 ,  48.4708,  21.315 , 232.6618])"
            ]
          },
          "metadata": {},
          "execution_count": 11
        }
      ]
    },
    {
      "cell_type": "code",
      "source": [
        "total_sales = data_array[:, 10].astype(float); quantities = data_array[:, 3].astype(int); np.divide(total_sales, quantities, out=np.zeros_like(total_sales), where=quantities!=0)"
      ],
      "metadata": {
        "colab": {
          "base_uri": "https://localhost:8080/"
        },
        "id": "Hy8-K4qQXUky",
        "outputId": "7c810b2c-0e0b-455d-d363-069fca2c88c5"
      },
      "execution_count": 13,
      "outputs": [
        {
          "output_type": "execute_result",
          "data": {
            "text/plain": [
              "array([ 8.5   , 10.4375,  9.892 ,  6.525 , 44.99  , 12.75  ,  7.25  ,\n",
              "       10.44  , 25.5   ,  8.5   ,  8.5   , 10.99  , 22.95  , 12.11  ,\n",
              "       47.482 , 10.44  ,  9.89  , 47.482 ,  6.89  , 22.95  ])"
            ]
          },
          "metadata": {},
          "execution_count": 13
        }
      ]
    },
    {
      "cell_type": "code",
      "source": [
        "salespersons_float = data_array[:, 9].astype(float); np.where(np.isnan(salespersons_float), -1.0, salespersons_float)\n"
      ],
      "metadata": {
        "colab": {
          "base_uri": "https://localhost:8080/"
        },
        "id": "57p6I8CYXZu2",
        "outputId": "224542c0-240d-4d21-ecca-9324cb2f5bad"
      },
      "execution_count": 14,
      "outputs": [
        {
          "output_type": "execute_result",
          "data": {
            "text/plain": [
              "array([503.,  -1.,  -1., 501., 502., 502.,  -1., 503., 501., 503., 501.,\n",
              "       503., 502., 501.,  -1., 503., 502., 503., 502., 503.])"
            ]
          },
          "metadata": {},
          "execution_count": 14
        }
      ]
    },
    {
      "cell_type": "code",
      "source": [
        "data_array[:, 6].astype(int) % 3"
      ],
      "metadata": {
        "colab": {
          "base_uri": "https://localhost:8080/"
        },
        "id": "3Vgf7ZErXhfn",
        "outputId": "5ae711f8-6d4e-4065-823e-8f80a90869f5"
      },
      "execution_count": 15,
      "outputs": [
        {
          "output_type": "execute_result",
          "data": {
            "text/plain": [
              "array([1, 0, 0, 0, 0, 0, 1, 2, 0, 1, 1, 1, 1, 2, 1, 2, 2, 2, 1, 0])"
            ]
          },
          "metadata": {},
          "execution_count": 15
        }
      ]
    },
    {
      "cell_type": "code",
      "source": [
        "total_sales = data_array[:, 10].astype(float); transaction_ids = data_array[:, 0].astype(int); transaction_ids[np.argsort(total_sales)]"
      ],
      "metadata": {
        "colab": {
          "base_uri": "https://localhost:8080/"
        },
        "id": "iF3hUemdXha6",
        "outputId": "c7b8cd9f-ed4d-4db3-8d00-7f731df74b48"
      },
      "execution_count": 16,
      "outputs": [
        {
          "output_type": "execute_result",
          "data": {
            "text/plain": [
              "array([1008, 1012, 1014, 1006, 1004, 1019, 1001, 1017, 1016, 1007, 1011,\n",
              "       1010, 1002, 1013, 1003, 1020, 1005, 1009, 1015, 1018])"
            ]
          },
          "metadata": {},
          "execution_count": 16
        }
      ]
    },
    {
      "cell_type": "code",
      "source": [
        "np.sort(data_array[:, 3].astype(int))[-3:]"
      ],
      "metadata": {
        "colab": {
          "base_uri": "https://localhost:8080/"
        },
        "id": "9zZwWJYyXhY_",
        "outputId": "82268f17-4832-4000-d2eb-39b7367578ea"
      },
      "execution_count": 17,
      "outputs": [
        {
          "output_type": "execute_result",
          "data": {
            "text/plain": [
              "array([5, 5, 5])"
            ]
          },
          "metadata": {},
          "execution_count": 17
        }
      ]
    },
    {
      "cell_type": "code",
      "source": [
        "total_sales = data_array[:, 10].astype(float); data_array[np.argmax(total_sales), 7]"
      ],
      "metadata": {
        "colab": {
          "base_uri": "https://localhost:8080/",
          "height": 35
        },
        "id": "VDfVdrQXXvjT",
        "outputId": "3aca2d99-9b92-476c-e218-9df39be9758f"
      },
      "execution_count": 18,
      "outputs": [
        {
          "output_type": "execute_result",
          "data": {
            "text/plain": [
              "'Online'"
            ],
            "application/vnd.google.colaboratory.intrinsic+json": {
              "type": "string"
            }
          },
          "metadata": {},
          "execution_count": 18
        }
      ]
    },
    {
      "cell_type": "code",
      "source": [
        "np.sort(np.unique(data_array[:, 8].astype(str)))"
      ],
      "metadata": {
        "colab": {
          "base_uri": "https://localhost:8080/"
        },
        "id": "k7yqxUNbXvhN",
        "outputId": "7e70e9dd-1e30-407c-8a92-2f30ed8fe6fb"
      },
      "execution_count": 19,
      "outputs": [
        {
          "output_type": "execute_result",
          "data": {
            "text/plain": [
              "array(['Cash', 'Credit Card', 'Debit Card', 'PayPal'], dtype='<U11')"
            ]
          },
          "metadata": {},
          "execution_count": 19
        }
      ]
    },
    {
      "cell_type": "code",
      "source": [
        "customer_ids = data_array[:, 1].astype(int); data_array[np.argsort(customer_ids)]"
      ],
      "metadata": {
        "colab": {
          "base_uri": "https://localhost:8080/"
        },
        "id": "5_8Ou8rwXvdo",
        "outputId": "ad7892dc-1b97-4522-b54a-ff42b65faa1f"
      },
      "execution_count": 20,
      "outputs": [
        {
          "output_type": "execute_result",
          "data": {
            "text/plain": [
              "array([[1014, 202, 304, 1, 12.75, 5, 5, 'East', 'Cash', 501.0, 12.11],\n",
              "       [1011, 202, 305, 3, 8.5, 0, 1, 'North', 'PayPal', 501.0, 25.5],\n",
              "       [1018, 202, 302, 5, 49.99, 5, 8, 'North', 'Credit Card', 503.0,\n",
              "        237.41],\n",
              "       [1017, 203, 303, 2, 10.99, 10, 5, 'North', 'PayPal', 502.0, 19.78],\n",
              "       [1009, 204, 304, 5, 25.5, 0, 6, 'South', 'Credit Card', 501.0,\n",
              "        127.5],\n",
              "       [1003, 205, 301, 5, 10.99, 10, 6, 'Online', 'PayPal', nan, 49.46],\n",
              "       [1012, 205, 301, 1, 10.99, 0, 1, 'West', 'Debit Card', 503.0,\n",
              "        10.99],\n",
              "       [1002, 206, 305, 4, 10.99, 5, 6, 'Online', 'Cash', nan, 41.75],\n",
              "       [1013, 206, 307, 2, 25.5, 10, 1, 'North', 'Credit Card', 502.0,\n",
              "        45.9],\n",
              "       [1007, 206, 302, 3, 7.25, 0, 1, 'Online', 'PayPal', nan, 21.75],\n",
              "       [1004, 206, 307, 2, 7.25, 10, 0, 'West', 'Credit Card', 501.0,\n",
              "        13.05],\n",
              "       [1008, 206, 308, 1, 10.99, 5, 8, 'West', 'Credit Card', 503.0,\n",
              "        10.44],\n",
              "       [1020, 206, 305, 3, 25.5, 10, 0, 'South', 'Debit Card', 503.0,\n",
              "        68.85],\n",
              "       [1016, 207, 301, 2, 10.99, 5, 5, 'West', 'Credit Card', 503.0,\n",
              "        20.88],\n",
              "       [1001, 207, 307, 2, 8.5, 0, 4, 'West', 'PayPal', 503.0, 17.0],\n",
              "       [1005, 207, 306, 2, 49.99, 10, 6, 'West', 'PayPal', 502.0, 89.98],\n",
              "       [1006, 208, 308, 1, 12.75, 0, 0, 'East', 'Cash', 502.0, 12.75],\n",
              "       [1015, 208, 303, 5, 49.99, 5, 4, 'Online', 'Credit Card', nan,\n",
              "        237.41],\n",
              "       [1019, 208, 304, 2, 7.25, 5, 7, 'South', 'Debit Card', 502.0,\n",
              "        13.78],\n",
              "       [1010, 210, 302, 3, 8.5, 0, 4, 'North', 'Debit Card', 503.0, 25.5]],\n",
              "      dtype=object)"
            ]
          },
          "metadata": {},
          "execution_count": 20
        }
      ]
    },
    {
      "cell_type": "code",
      "source": [
        "unit_prices = data_array[:, 4].astype(float); transaction_ids = data_array[:, 0].astype(int); transaction_ids[np.argsort(unit_prices)[:5]]\n"
      ],
      "metadata": {
        "colab": {
          "base_uri": "https://localhost:8080/"
        },
        "id": "njJMOIGqXvbs",
        "outputId": "b5710acb-8a4f-489b-b54c-18ed02bdff0b"
      },
      "execution_count": 21,
      "outputs": [
        {
          "output_type": "execute_result",
          "data": {
            "text/plain": [
              "array([1004, 1007, 1019, 1001, 1011])"
            ]
          },
          "metadata": {},
          "execution_count": 21
        }
      ]
    },
    {
      "cell_type": "code",
      "source": [
        "store_locations = data_array[:, 7].astype(str); total_sales = data_array[:, 10].astype(float); total_sales[np.argsort(store_locations)]"
      ],
      "metadata": {
        "colab": {
          "base_uri": "https://localhost:8080/"
        },
        "id": "V08Ujz5IYVoQ",
        "outputId": "81e87cd3-4a57-4c99-90a8-0e1e2ad305b5"
      },
      "execution_count": 22,
      "outputs": [
        {
          "output_type": "execute_result",
          "data": {
            "text/plain": [
              "array([ 12.75,  12.11,  25.5 , 237.41,  19.78,  45.9 ,  25.5 ,  41.75,\n",
              "        49.46,  21.75, 237.41,  68.85,  13.78, 127.5 ,  10.44,  20.88,\n",
              "        89.98,  13.05,  10.99,  17.  ])"
            ]
          },
          "metadata": {},
          "execution_count": 22
        }
      ]
    },
    {
      "cell_type": "code",
      "source": [
        "total_sales = data_array[:, 10].astype(float); product_ids = data_array[:, 2].astype(int); sorted_indices = np.argsort(total_sales); median_index_in_sorted = (len(total_sales) - 1) // 2; product_ids[sorted_indices[median_index_in_sorted]]\n"
      ],
      "metadata": {
        "colab": {
          "base_uri": "https://localhost:8080/"
        },
        "id": "rCh0L22wYVl2",
        "outputId": "855417db-704e-4da9-d571-edde55e9568e"
      },
      "execution_count": 23,
      "outputs": [
        {
          "output_type": "execute_result",
          "data": {
            "text/plain": [
              "np.int64(302)"
            ]
          },
          "metadata": {},
          "execution_count": 23
        }
      ]
    },
    {
      "cell_type": "code",
      "source": [
        "product_ids = data_array[:, 2].astype(int); _, idx = np.unique(product_ids, return_index=True); product_ids[np.sort(idx)]"
      ],
      "metadata": {
        "colab": {
          "base_uri": "https://localhost:8080/"
        },
        "id": "8vW3Z1tAYmBd",
        "outputId": "5acb8450-8687-4f21-ccfa-e5adbb992084"
      },
      "execution_count": 24,
      "outputs": [
        {
          "output_type": "execute_result",
          "data": {
            "text/plain": [
              "array([307, 305, 301, 306, 308, 302, 304, 303])"
            ]
          },
          "metadata": {},
          "execution_count": 24
        }
      ]
    },
    {
      "cell_type": "code",
      "source": [
        "unique_locs = np.unique(data_array[:, 7].astype(str))\n",
        "sum_sales_per_loc = {loc: np.sum(data_array[data_array[:, 7] == loc, 10].astype(float)) for loc in unique_locs}\n",
        "# sum_sales_per_loc will be a dict"
      ],
      "metadata": {
        "id": "T_emYEcVYl9p"
      },
      "execution_count": 25,
      "outputs": []
    },
    {
      "cell_type": "code",
      "source": [
        "unique_pays, counts = np.unique(data_array[:, 8].astype(str), return_counts=True)\n",
        "# dict(zip(unique_pays, counts))"
      ],
      "metadata": {
        "id": "Bmnxdz2HYl7g"
      },
      "execution_count": 26,
      "outputs": []
    },
    {
      "cell_type": "code",
      "source": [
        "salespersons_float = data_array[:, 9].astype(float)\n",
        "valid_sp_indices = ~np.isnan(salespersons_float)\n",
        "unique_sps = np.unique(salespersons_float[valid_sp_indices])\n",
        "avg_disc_per_sp = {sp: np.mean(data_array[(salespersons_float == sp) & valid_sp_indices, 5].astype(int)) for sp in unique_sps}\n",
        "# avg_disc_per_sp"
      ],
      "metadata": {
        "id": "VxBso6YYY5lA"
      },
      "execution_count": 27,
      "outputs": []
    },
    {
      "cell_type": "code",
      "source": [
        "unique_prods = np.unique(data_array[:, 2].astype(int))\n",
        "max_qty_per_prod = {prod: np.max(data_array[data_array[:, 2].astype(int) == prod, 3].astype(int)) for prod in unique_prods}\n",
        "# max_qty_per_"
      ],
      "metadata": {
        "id": "jKWPIE1IY5hT"
      },
      "execution_count": 28,
      "outputs": []
    },
    {
      "cell_type": "code",
      "source": [
        "customer_ids = data_array[:, 1].astype(int); product_ids = data_array[:, 2].astype(int); len(np.unique(product_ids[customer_ids == 206]))"
      ],
      "metadata": {
        "colab": {
          "base_uri": "https://localhost:8080/"
        },
        "id": "b0aIfqstY5e4",
        "outputId": "95d4a715-7684-4fc2-c0b1-44133fb247f1"
      },
      "execution_count": 29,
      "outputs": [
        {
          "output_type": "execute_result",
          "data": {
            "text/plain": [
              "4"
            ]
          },
          "metadata": {},
          "execution_count": 29
        }
      ]
    },
    {
      "cell_type": "code",
      "source": [
        "unique_days = np.unique(data_array[:, 6].astype(int))\n",
        "qty_per_day = {day: np.sum(data_array[data_array[:, 6].astype(int) == day, 3].astype(int)) for day in unique_days}\n",
        "# qty_per_day"
      ],
      "metadata": {
        "id": "4DdmJgi5ZMka"
      },
      "execution_count": 30,
      "outputs": []
    },
    {
      "cell_type": "code",
      "source": [
        "paypal_transactions = data_array[data_array[:, 8] == 'PayPal', :]\n",
        "# if paypal_transactions.size > 0:\n",
        "#    unique_locs_paypal, counts_paypal = np.unique(paypal_transactions[:, 7].astype(str), return_counts=True)\n",
        "#    # unique_locs_paypal[np.argmax(counts_paypal)]\n",
        "# else: Non"
      ],
      "metadata": {
        "id": "Y8ZB7lIuZMhs"
      },
      "execution_count": 31,
      "outputs": []
    },
    {
      "cell_type": "code",
      "source": [
        "np.sum((data_array[:, 7] == 'Online') & (data_array[:, 8] == 'Credit Card'))\n"
      ],
      "metadata": {
        "colab": {
          "base_uri": "https://localhost:8080/"
        },
        "id": "BsFoiMWFZMe2",
        "outputId": "a733e675-6434-4e05-eb1f-6d70f1f4e65b"
      },
      "execution_count": 32,
      "outputs": [
        {
          "output_type": "execute_result",
          "data": {
            "text/plain": [
              "np.int64(1)"
            ]
          },
          "metadata": {},
          "execution_count": 32
        }
      ]
    },
    {
      "cell_type": "code",
      "source": [
        "unique_cust = np.unique(data_array[:, 1].astype(int))\n",
        "total_disc_per_cust = {cust: np.sum(data_array[data_array[:, 1].astype(int) == cust, 5].astype(int)) for cust in unique_cust}\n",
        "# total_disc_per_cust"
      ],
      "metadata": {
        "id": "TfrYLjeXZMcn"
      },
      "execution_count": 33,
      "outputs": []
    },
    {
      "cell_type": "code",
      "source": [
        "payment_types = data_array[:, 8]; unit_prices = data_array[:, 4].astype(float); np.min(unit_prices[payment_types == 'Cash'])\n"
      ],
      "metadata": {
        "colab": {
          "base_uri": "https://localhost:8080/"
        },
        "id": "v0m8WLEAZg_A",
        "outputId": "c49ee351-4f9f-4b33-d0b9-271bae5d0564"
      },
      "execution_count": 34,
      "outputs": [
        {
          "output_type": "execute_result",
          "data": {
            "text/plain": [
              "np.float64(10.99)"
            ]
          },
          "metadata": {},
          "execution_count": 34
        }
      ]
    },
    {
      "cell_type": "code",
      "source": [
        "salespersons = data_array[:, 9]; quantities = data_array[:, 3].astype(int); np.sum(quantities[salespersons == 502.0])\n"
      ],
      "metadata": {
        "colab": {
          "base_uri": "https://localhost:8080/"
        },
        "id": "eQcXSSthZg7A",
        "outputId": "3f6b5d7d-4492-4ee9-80af-f22b8fb998e3"
      },
      "execution_count": 35,
      "outputs": [
        {
          "output_type": "execute_result",
          "data": {
            "text/plain": [
              "np.int64(9)"
            ]
          },
          "metadata": {},
          "execution_count": 35
        }
      ]
    },
    {
      "cell_type": "code",
      "source": [
        "unique_locs, counts = np.unique(data_array[:, 7].astype(str), return_counts=True); dict(zip(unique_locs, counts))"
      ],
      "metadata": {
        "colab": {
          "base_uri": "https://localhost:8080/"
        },
        "id": "XiDRG4SYZg4w",
        "outputId": "d0c07a62-43e3-4339-b46a-0d72ba2c74d9"
      },
      "execution_count": 36,
      "outputs": [
        {
          "output_type": "execute_result",
          "data": {
            "text/plain": [
              "{np.str_('East'): np.int64(2),\n",
              " np.str_('North'): np.int64(5),\n",
              " np.str_('Online'): np.int64(4),\n",
              " np.str_('South'): np.int64(3),\n",
              " np.str_('West'): np.int64(6)}"
            ]
          },
          "metadata": {},
          "execution_count": 36
        }
      ]
    },
    {
      "cell_type": "code",
      "source": [
        "unique_locs, counts = np.unique(data_array[:, 7].astype(str), return_counts=True); dict(zip(unique_locs, counts))\n"
      ],
      "metadata": {
        "colab": {
          "base_uri": "https://localhost:8080/"
        },
        "id": "2eP_GChBZg1L",
        "outputId": "26f6e251-c486-417a-e77a-16ac0ae30383"
      },
      "execution_count": 37,
      "outputs": [
        {
          "output_type": "execute_result",
          "data": {
            "text/plain": [
              "{np.str_('East'): np.int64(2),\n",
              " np.str_('North'): np.int64(5),\n",
              " np.str_('Online'): np.int64(4),\n",
              " np.str_('South'): np.int64(3),\n",
              " np.str_('West'): np.int64(6)}"
            ]
          },
          "metadata": {},
          "execution_count": 37
        }
      ]
    },
    {
      "cell_type": "code",
      "source": [
        "unique_prods = np.unique(data_array[:, 2].astype(int))\n",
        "avg_sale_per_prod = {prod: np.mean(data_array[data_array[:, 2].astype(int) == prod, 10].astype(float)) for prod in unique_prods}\n",
        "# avg_sale_per_prod"
      ],
      "metadata": {
        "id": "jZ7fmkFNZgzC"
      },
      "execution_count": 38,
      "outputs": []
    },
    {
      "cell_type": "code",
      "source": [
        "unique_pays = np.unique(data_array[:, 8].astype(str))\n",
        "avg_sales = np.array([np.mean(data_array[data_array[:, 8] == pay, 10].astype(float)) for pay in unique_pays])\n",
        "# unique_pays[np.argmax(avg_sales)]"
      ],
      "metadata": {
        "id": "UhNcmCF2aKiM"
      },
      "execution_count": 39,
      "outputs": []
    },
    {
      "cell_type": "code",
      "source": [
        "unique_pays = np.unique(data_array[:, 8].astype(str))\n",
        "avg_sales = np.array([np.mean(data_array[data_array[:, 8] == pay, 10].astype(float)) for pay in unique_pays])\n",
        "# unique_pays[np.argmax(avg_sales)]"
      ],
      "metadata": {
        "id": "FKCr1BOvaKf6"
      },
      "execution_count": 40,
      "outputs": []
    },
    {
      "cell_type": "code",
      "source": [
        "np.where(data_array[:, 5].astype(int) > 0, \"Discounted\", \"No Discount\")"
      ],
      "metadata": {
        "colab": {
          "base_uri": "https://localhost:8080/"
        },
        "id": "16Hzt7ReafDp",
        "outputId": "1a663b24-1725-4483-b1d1-12073a29b4dc"
      },
      "execution_count": 41,
      "outputs": [
        {
          "output_type": "execute_result",
          "data": {
            "text/plain": [
              "array(['No Discount', 'Discounted', 'Discounted', 'Discounted',\n",
              "       'Discounted', 'No Discount', 'No Discount', 'Discounted',\n",
              "       'No Discount', 'No Discount', 'No Discount', 'No Discount',\n",
              "       'Discounted', 'Discounted', 'Discounted', 'Discounted',\n",
              "       'Discounted', 'Discounted', 'Discounted', 'Discounted'],\n",
              "      dtype='<U11')"
            ]
          },
          "metadata": {},
          "execution_count": 41
        }
      ]
    },
    {
      "cell_type": "code",
      "source": [
        "np.percentile(data_array[:, 4].astype(float), 75)"
      ],
      "metadata": {
        "colab": {
          "base_uri": "https://localhost:8080/"
        },
        "id": "SAQuDxpOafBG",
        "outputId": "fa2b2a25-f936-49db-e628-3d7426b1425e"
      },
      "execution_count": 42,
      "outputs": [
        {
          "output_type": "execute_result",
          "data": {
            "text/plain": [
              "np.float64(25.5)"
            ]
          },
          "metadata": {},
          "execution_count": 42
        }
      ]
    },
    {
      "cell_type": "code",
      "source": [
        "quantities = data_array[:, 3].astype(int); discounts = data_array[:, 5].astype(int); avg_qty = np.mean(quantities); np.mean(discounts[quantities > avg_qty])\n"
      ],
      "metadata": {
        "colab": {
          "base_uri": "https://localhost:8080/"
        },
        "id": "gru2ftp6asW-",
        "outputId": "5aa94d20-c9b6-452e-ab45-93f76b23b50c"
      },
      "execution_count": 43,
      "outputs": [
        {
          "output_type": "execute_result",
          "data": {
            "text/plain": [
              "np.float64(3.888888888888889)"
            ]
          },
          "metadata": {},
          "execution_count": 43
        }
      ]
    },
    {
      "cell_type": "code",
      "source": [
        "total_sales = data_array[:, 10].astype(float); store_locations = data_array[:, 7]; (np.sum(total_sales[store_locations == 'West']) / np.sum(total_sales)) * 100"
      ],
      "metadata": {
        "colab": {
          "base_uri": "https://localhost:8080/"
        },
        "id": "QKefBP02bAv_",
        "outputId": "caf702a1-d057-4a7b-9cc5-dca9c4f157ff"
      },
      "execution_count": 44,
      "outputs": [
        {
          "output_type": "execute_result",
          "data": {
            "text/plain": [
              "np.float64(14.734205247823997)"
            ]
          },
          "metadata": {},
          "execution_count": 44
        }
      ]
    },
    {
      "cell_type": "code",
      "source": [
        "customer_product_pairs = np.column_stack((data_array[:, 1].astype(int), data_array[:, 2].astype(int))); len(np.unique(customer_product_pairs, axis=0))"
      ],
      "metadata": {
        "colab": {
          "base_uri": "https://localhost:8080/"
        },
        "id": "VbhzuumIbAsx",
        "outputId": "e082f3d0-01b3-4360-a078-6e735e787f56"
      },
      "execution_count": 45,
      "outputs": [
        {
          "output_type": "execute_result",
          "data": {
            "text/plain": [
              "17"
            ]
          },
          "metadata": {},
          "execution_count": 45
        }
      ]
    },
    {
      "cell_type": "code",
      "source": [
        "total_sales = data_array[:, 10].astype(float); ranks = np.empty_like(total_sales, dtype=int); ranks[np.argsort(np.argsort(total_sales))] = np.arange(len(total_sales)) + 1; ranks_col_only = ranks.reshape(-1,1); # To replace in a copy: new_array = data_array.copy(); new_array[:, 10] = ranks`\n"
      ],
      "metadata": {
        "id": "IGkBR9xrbOb4"
      },
      "execution_count": 48,
      "outputs": []
    },
    {
      "cell_type": "code",
      "source": [
        "west_payments = data_array[data_array[:, 7] == 'West', 8].astype(str)\n",
        "# # if west_payments.size > 0:\n",
        "# #    unique_pays, counts = np.unique(west_payments, return_counts=True)\n",
        "# #    # unique_pays[np.argmax(counts)]\n",
        "# # else: None"
      ],
      "metadata": {
        "id": "RNfvwGiAbOZh"
      },
      "execution_count": 49,
      "outputs": []
    },
    {
      "cell_type": "code",
      "source": [
        "total_sales = data_array[:, 10].astype(float); np.sum(np.isclose(total_sales, np.round(total_sales)))"
      ],
      "metadata": {
        "colab": {
          "base_uri": "https://localhost:8080/"
        },
        "id": "hS0Ed8wxbndG",
        "outputId": "e95c73d4-70b9-49ed-bdc9-555c255428b4"
      },
      "execution_count": 50,
      "outputs": [
        {
          "output_type": "execute_result",
          "data": {
            "text/plain": [
              "np.int64(1)"
            ]
          },
          "metadata": {},
          "execution_count": 50
        }
      ]
    },
    {
      "cell_type": "code",
      "source": [
        "np.average(data_array[:, 5].astype(int), weights=data_array[:, 3].astype(int))\n"
      ],
      "metadata": {
        "colab": {
          "base_uri": "https://localhost:8080/"
        },
        "id": "jRxSUDUpbnSd",
        "outputId": "bd9badc1-49ed-4a21-9755-543719507baf"
      },
      "execution_count": 51,
      "outputs": [
        {
          "output_type": "execute_result",
          "data": {
            "text/plain": [
              "np.float64(4.814814814814815)"
            ]
          },
          "metadata": {},
          "execution_count": 51
        }
      ]
    }
  ]
}