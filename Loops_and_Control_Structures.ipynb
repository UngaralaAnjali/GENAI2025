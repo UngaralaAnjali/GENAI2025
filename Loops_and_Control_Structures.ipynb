{
  "nbformat": 4,
  "nbformat_minor": 0,
  "metadata": {
    "colab": {
      "provenance": []
    },
    "kernelspec": {
      "name": "python3",
      "display_name": "Python 3"
    },
    "language_info": {
      "name": "python"
    }
  },
  "cells": [
    {
      "cell_type": "code",
      "execution_count": null,
      "metadata": {
        "colab": {
          "base_uri": "https://localhost:8080/"
        },
        "id": "S20GF5GFvU1j",
        "outputId": "a65d2577-30af-4a98-ef7a-5ecf77967c64"
      },
      "outputs": [
        {
          "output_type": "stream",
          "name": "stdout",
          "text": [
            "1\n",
            "1\n",
            "1\n",
            "1\n"
          ]
        }
      ],
      "source": [
        "x=\"data\" #variable should have index,list, tuple, dict, set\n",
        "for i in x:\n",
        "  print(1)"
      ]
    },
    {
      "cell_type": "code",
      "source": [
        "x=[1,2,3,[4,5,6,7]]\n",
        "for i in x:\n",
        "  print(i)"
      ],
      "metadata": {
        "colab": {
          "base_uri": "https://localhost:8080/"
        },
        "id": "4M5YQSIj0lW9",
        "outputId": "e814fae8-f57e-4d0b-c8ee-78e3478a5507"
      },
      "execution_count": null,
      "outputs": [
        {
          "output_type": "stream",
          "name": "stdout",
          "text": [
            "1\n",
            "2\n",
            "3\n",
            "[4, 5, 6, 7]\n"
          ]
        }
      ]
    },
    {
      "cell_type": "code",
      "source": [
        "for i in [\"data\"]:\n",
        "  print(i)"
      ],
      "metadata": {
        "colab": {
          "base_uri": "https://localhost:8080/"
        },
        "id": "3ZQrHRDTvbMr",
        "outputId": "723a7ea3-f7cb-4de1-e0a4-0ba1f03ac9fc"
      },
      "execution_count": null,
      "outputs": [
        {
          "output_type": "stream",
          "name": "stdout",
          "text": [
            "data\n"
          ]
        }
      ]
    },
    {
      "cell_type": "code",
      "source": [
        "len([1,2,3,4,[5,6],[6,7]])"
      ],
      "metadata": {
        "colab": {
          "base_uri": "https://localhost:8080/"
        },
        "id": "odmwyZsvvbJE",
        "outputId": "96b1443f-2f9f-403d-c1d6-06c2edbbc5ab"
      },
      "execution_count": null,
      "outputs": [
        {
          "output_type": "execute_result",
          "data": {
            "text/plain": [
              "6"
            ]
          },
          "metadata": {},
          "execution_count": 10
        }
      ]
    },
    {
      "cell_type": "code",
      "source": [],
      "metadata": {
        "id": "EXo187LZvbF5"
      },
      "execution_count": null,
      "outputs": []
    },
    {
      "cell_type": "code",
      "source": [],
      "metadata": {
        "id": "rsYvXiZkvbC0"
      },
      "execution_count": null,
      "outputs": []
    },
    {
      "cell_type": "code",
      "source": [
        "for i in [1,2,3]:\n",
        "  print(2+i)"
      ],
      "metadata": {
        "colab": {
          "base_uri": "https://localhost:8080/"
        },
        "id": "GLbTyZs7vbAb",
        "outputId": "458b104d-9946-4ba4-d30f-e02b099f8b84"
      },
      "execution_count": null,
      "outputs": [
        {
          "output_type": "stream",
          "name": "stdout",
          "text": [
            "3\n",
            "4\n",
            "5\n"
          ]
        }
      ]
    },
    {
      "cell_type": "code",
      "source": [
        "3\n",
        "4\n",
        "5"
      ],
      "metadata": {
        "id": "mRi1xcpNva9g"
      },
      "execution_count": null,
      "outputs": []
    },
    {
      "cell_type": "code",
      "source": [],
      "metadata": {
        "id": "zxLfSWOdva6Z"
      },
      "execution_count": null,
      "outputs": []
    },
    {
      "cell_type": "code",
      "source": [
        "for i in [2,4,6,8]:\n",
        "  print(2)"
      ],
      "metadata": {
        "colab": {
          "base_uri": "https://localhost:8080/"
        },
        "id": "ghuC843_va3o",
        "outputId": "1c07430b-25ba-47dd-e780-36be115f399d"
      },
      "execution_count": null,
      "outputs": [
        {
          "output_type": "stream",
          "name": "stdout",
          "text": [
            "2\n",
            "2\n",
            "2\n",
            "2\n"
          ]
        }
      ]
    },
    {
      "cell_type": "code",
      "source": [
        "for i in range(0,10):\n",
        "  print(i,end=',')"
      ],
      "metadata": {
        "colab": {
          "base_uri": "https://localhost:8080/"
        },
        "id": "NiE2bikOva1A",
        "outputId": "c10e2c7f-0bdf-4025-807a-9646dd3abfed"
      },
      "execution_count": null,
      "outputs": [
        {
          "output_type": "stream",
          "name": "stdout",
          "text": [
            "0,1,2,3,4,5,6,7,8,9,"
          ]
        }
      ]
    },
    {
      "cell_type": "code",
      "source": [
        "for i in range(0,10,2):\n",
        "  print(i,end=',')"
      ],
      "metadata": {
        "colab": {
          "base_uri": "https://localhost:8080/"
        },
        "id": "F9DCIT_Lvax7",
        "outputId": "44d81f09-a319-40b7-80b3-b359d846ef9b"
      },
      "execution_count": null,
      "outputs": [
        {
          "output_type": "stream",
          "name": "stdout",
          "text": [
            "0,2,4,6,8,"
          ]
        }
      ]
    },
    {
      "cell_type": "code",
      "source": [
        "for i in range(0,10,4):\n",
        "  print(i,end=',')"
      ],
      "metadata": {
        "colab": {
          "base_uri": "https://localhost:8080/"
        },
        "id": "ncROd9dOvauS",
        "outputId": "398af1c9-dbee-4f61-ef9c-f7a9f3caa58d"
      },
      "execution_count": null,
      "outputs": [
        {
          "output_type": "stream",
          "name": "stdout",
          "text": [
            "0,4,8,"
          ]
        }
      ]
    },
    {
      "cell_type": "code",
      "source": [
        "for i in range(0,10,1):\n",
        "  print(i,end=\",\")"
      ],
      "metadata": {
        "colab": {
          "base_uri": "https://localhost:8080/"
        },
        "id": "M3TWb-IEvarP",
        "outputId": "43fcf19a-1a11-4787-9662-fdc080fa6f17"
      },
      "execution_count": null,
      "outputs": [
        {
          "output_type": "stream",
          "name": "stdout",
          "text": [
            "0,1,2,3,4,5,6,7,8,9,"
          ]
        }
      ]
    },
    {
      "cell_type": "code",
      "source": [
        "for i in range(10,0,-1):\n",
        "  print(i,end=\",\")"
      ],
      "metadata": {
        "colab": {
          "base_uri": "https://localhost:8080/"
        },
        "id": "rjUPYPvBvaof",
        "outputId": "cf435568-2007-4822-da52-ae7499f3a1cc"
      },
      "execution_count": null,
      "outputs": [
        {
          "output_type": "stream",
          "name": "stdout",
          "text": [
            "10,9,8,7,6,5,4,3,2,1,"
          ]
        }
      ]
    },
    {
      "cell_type": "code",
      "source": [
        "\"*\"*4"
      ],
      "metadata": {
        "colab": {
          "base_uri": "https://localhost:8080/",
          "height": 35
        },
        "id": "yhEk_TW9vak2",
        "outputId": "80b6685c-53a7-4ade-e33f-c94c9819a98a"
      },
      "execution_count": null,
      "outputs": [
        {
          "output_type": "execute_result",
          "data": {
            "text/plain": [
              "'****'"
            ],
            "application/vnd.google.colaboratory.intrinsic+json": {
              "type": "string"
            }
          },
          "metadata": {},
          "execution_count": 27
        }
      ]
    },
    {
      "cell_type": "code",
      "source": [
        "for i in range(1,6):\n",
        "  print(i*\"$\")"
      ],
      "metadata": {
        "colab": {
          "base_uri": "https://localhost:8080/"
        },
        "id": "bQtJY4cKvaZW",
        "outputId": "2bf7f35c-cd87-4a67-8e5a-e3d93a7ed7da"
      },
      "execution_count": null,
      "outputs": [
        {
          "output_type": "stream",
          "name": "stdout",
          "text": [
            "$\n",
            "$$\n",
            "$$$\n",
            "$$$$\n",
            "$$$$$\n"
          ]
        }
      ]
    },
    {
      "cell_type": "code",
      "source": [
        "for i in range(5,0,-1):\n",
        "  print(i*\"*\")"
      ],
      "metadata": {
        "colab": {
          "base_uri": "https://localhost:8080/"
        },
        "id": "gklUda0uvaWq",
        "outputId": "895ee9f4-f7e7-45bd-b48c-c3d40b287cf7"
      },
      "execution_count": null,
      "outputs": [
        {
          "output_type": "stream",
          "name": "stdout",
          "text": [
            "*****\n",
            "****\n",
            "***\n",
            "**\n",
            "*\n"
          ]
        }
      ]
    },
    {
      "cell_type": "code",
      "source": [
        "for i in range(1,6):\n",
        "  print((6-i)*\"*\")"
      ],
      "metadata": {
        "colab": {
          "base_uri": "https://localhost:8080/"
        },
        "id": "QQg9X1QuvaTc",
        "outputId": "e10d1402-423e-4e02-b7ed-860aa0754b2a"
      },
      "execution_count": null,
      "outputs": [
        {
          "output_type": "stream",
          "name": "stdout",
          "text": [
            "*****\n",
            "****\n",
            "***\n",
            "**\n",
            "*\n"
          ]
        }
      ]
    },
    {
      "cell_type": "code",
      "source": [
        "for i in range(1,6):\n",
        "  print(6-i)"
      ],
      "metadata": {
        "colab": {
          "base_uri": "https://localhost:8080/"
        },
        "id": "IEK3E9KFvaQv",
        "outputId": "fa41124c-a48f-4fa4-bf2e-3b8ca69b1902"
      },
      "execution_count": null,
      "outputs": [
        {
          "output_type": "stream",
          "name": "stdout",
          "text": [
            "5\n",
            "4\n",
            "3\n",
            "2\n",
            "1\n"
          ]
        }
      ]
    },
    {
      "cell_type": "code",
      "source": [],
      "metadata": {
        "id": "6IkhiA9z7gEa"
      },
      "execution_count": null,
      "outputs": []
    },
    {
      "cell_type": "code",
      "source": [
        "for i in range(0,2):\n",
        "  print(\"Data\".upper())\n",
        "  print(\"Data\".lower())"
      ],
      "metadata": {
        "colab": {
          "base_uri": "https://localhost:8080/"
        },
        "id": "JtjNcLN4vaNx",
        "outputId": "a6c7cb5c-43b4-4267-f377-c928989c2468"
      },
      "execution_count": null,
      "outputs": [
        {
          "output_type": "stream",
          "name": "stdout",
          "text": [
            "DATA\n",
            "data\n",
            "DATA\n",
            "data\n"
          ]
        }
      ]
    },
    {
      "cell_type": "code",
      "source": [
        "for i in range(0,10,2):\n",
        "  print(\"data science\".split()[-1][-1])"
      ],
      "metadata": {
        "colab": {
          "base_uri": "https://localhost:8080/"
        },
        "id": "rWC9Qwey7fFK",
        "outputId": "80d6c3ab-6434-4a7a-b8ac-f716227f696b"
      },
      "execution_count": null,
      "outputs": [
        {
          "output_type": "stream",
          "name": "stdout",
          "text": [
            "e\n",
            "e\n",
            "e\n",
            "e\n",
            "e\n"
          ]
        }
      ]
    },
    {
      "cell_type": "code",
      "source": [],
      "metadata": {
        "id": "A_YVW9ww7cdh"
      },
      "execution_count": null,
      "outputs": []
    },
    {
      "cell_type": "code",
      "source": [
        "\"data science\".split()"
      ],
      "metadata": {
        "colab": {
          "base_uri": "https://localhost:8080/"
        },
        "id": "Hf5noSk17b7O",
        "outputId": "aa548262-d2c1-4ecf-a0c3-2cd15f8ced6d"
      },
      "execution_count": null,
      "outputs": [
        {
          "output_type": "execute_result",
          "data": {
            "text/plain": [
              "['data', 'science']"
            ]
          },
          "metadata": {},
          "execution_count": 46
        }
      ]
    },
    {
      "cell_type": "code",
      "source": [],
      "metadata": {
        "id": "W5gW2ZHm79lp"
      },
      "execution_count": null,
      "outputs": []
    },
    {
      "cell_type": "code",
      "source": [],
      "metadata": {
        "id": "4hQ_TPAj7806"
      },
      "execution_count": null,
      "outputs": []
    },
    {
      "cell_type": "code",
      "source": [
        "for i in range(0,5):\n",
        "  if True:\n",
        "    print(\"data\")"
      ],
      "metadata": {
        "colab": {
          "base_uri": "https://localhost:8080/"
        },
        "id": "erNkz-BU7Zwp",
        "outputId": "8d46e508-0301-4069-aae8-3fc98eb6e6a6"
      },
      "execution_count": null,
      "outputs": [
        {
          "output_type": "stream",
          "name": "stdout",
          "text": [
            "data\n",
            "data\n",
            "data\n",
            "data\n",
            "data\n"
          ]
        }
      ]
    },
    {
      "cell_type": "code",
      "source": [
        "**\n",
        "****\n",
        "******"
      ],
      "metadata": {
        "id": "-0-DYyIz7bZp"
      },
      "execution_count": null,
      "outputs": []
    },
    {
      "cell_type": "code",
      "source": [
        "for i in range(0,7,1):\n",
        "  print(i*\"*\")"
      ],
      "metadata": {
        "colab": {
          "base_uri": "https://localhost:8080/"
        },
        "id": "VppUDgvBvaK8",
        "outputId": "90740c78-782b-4ffc-966c-9588c850bbd6"
      },
      "execution_count": null,
      "outputs": [
        {
          "output_type": "stream",
          "name": "stdout",
          "text": [
            "\n",
            "*\n",
            "**\n",
            "***\n",
            "****\n",
            "*****\n",
            "******\n"
          ]
        }
      ]
    },
    {
      "cell_type": "code",
      "source": [
        "for i in range(1,6):\n",
        "  print(i*\"*\")\n",
        "  if i==5:\n",
        "    for j in range(5,0,-1):\n",
        "      print(j*\"*\")"
      ],
      "metadata": {
        "colab": {
          "base_uri": "https://localhost:8080/"
        },
        "id": "7SXLLgVEvaIM",
        "outputId": "35bad933-e70f-45a8-b93f-51ffb033c380"
      },
      "execution_count": null,
      "outputs": [
        {
          "output_type": "stream",
          "name": "stdout",
          "text": [
            "*\n",
            "**\n",
            "***\n",
            "****\n",
            "*****\n",
            "*****\n",
            "****\n",
            "***\n",
            "**\n",
            "*\n"
          ]
        }
      ]
    },
    {
      "cell_type": "code",
      "source": [
        "for i in range(1,6):\n",
        "  print(\" \"*(6-i)+i*\"*\")"
      ],
      "metadata": {
        "colab": {
          "base_uri": "https://localhost:8080/"
        },
        "id": "dh_8AHShvaFW",
        "outputId": "6a91ed41-e48b-47f0-f2e9-073dcf39a09b"
      },
      "execution_count": null,
      "outputs": [
        {
          "output_type": "stream",
          "name": "stdout",
          "text": [
            "     *\n",
            "    **\n",
            "   ***\n",
            "  ****\n",
            " *****\n"
          ]
        }
      ]
    },
    {
      "cell_type": "code",
      "source": [
        "x=[1,2,3,4,5]\n",
        "for i in range(1,6):\n",
        "  print(x[0:i])\n"
      ],
      "metadata": {
        "colab": {
          "base_uri": "https://localhost:8080/"
        },
        "id": "xRLr_dyS-Pkk",
        "outputId": "6474c452-2e62-4a59-919c-28dfbd134a02"
      },
      "execution_count": null,
      "outputs": [
        {
          "output_type": "stream",
          "name": "stdout",
          "text": [
            "[1]\n",
            "[1, 2]\n",
            "[1, 2, 3]\n",
            "[1, 2, 3, 4]\n",
            "[1, 2, 3, 4, 5]\n"
          ]
        }
      ]
    },
    {
      "cell_type": "code",
      "source": [],
      "metadata": {
        "id": "Sf7KW39Z_-QM"
      },
      "execution_count": null,
      "outputs": []
    },
    {
      "cell_type": "code",
      "source": [
        "1\n",
        "12\n",
        "123\n",
        "1234\n",
        "12345"
      ],
      "metadata": {
        "id": "SQjgN0jVvaCe"
      },
      "execution_count": null,
      "outputs": []
    },
    {
      "cell_type": "code",
      "source": [
        "x=[1,2,3,4,5]\n",
        "x[0:4]"
      ],
      "metadata": {
        "colab": {
          "base_uri": "https://localhost:8080/"
        },
        "id": "OoZt-r_7vZ_m",
        "outputId": "503c81af-a213-42f5-e559-e09ac30863ea"
      },
      "execution_count": null,
      "outputs": [
        {
          "output_type": "execute_result",
          "data": {
            "text/plain": [
              "[1, 2, 3, 4]"
            ]
          },
          "metadata": {},
          "execution_count": 62
        }
      ]
    },
    {
      "cell_type": "code",
      "source": [
        "x=\"data\"\n",
        "for i in range(1,5):\n",
        "  print(x[0:i])"
      ],
      "metadata": {
        "colab": {
          "base_uri": "https://localhost:8080/"
        },
        "id": "839fYSmuAAGh",
        "outputId": "3d44bbff-0655-459c-e539-e23dca212cce"
      },
      "execution_count": null,
      "outputs": [
        {
          "output_type": "stream",
          "name": "stdout",
          "text": [
            "d\n",
            "da\n",
            "dat\n",
            "data\n"
          ]
        }
      ]
    },
    {
      "cell_type": "code",
      "source": [
        "d\n",
        "da\n",
        "dat\n",
        "data"
      ],
      "metadata": {
        "id": "OgEfEZNW__yk"
      },
      "execution_count": null,
      "outputs": []
    },
    {
      "cell_type": "code",
      "source": [
        "x=\"data adahfah abaipahpiaoihadobd dafkafhkahfka\"\n",
        "for i in range(1,len(x)):\n",
        "  print(x[0:i])"
      ],
      "metadata": {
        "colab": {
          "base_uri": "https://localhost:8080/"
        },
        "id": "VtS_2amS__DU",
        "outputId": "eea9a4a2-34cf-48c2-9578-8559be05edcc"
      },
      "execution_count": null,
      "outputs": [
        {
          "output_type": "stream",
          "name": "stdout",
          "text": [
            "d\n",
            "da\n",
            "dat\n",
            "data\n",
            "data \n",
            "data a\n",
            "data ad\n",
            "data ada\n",
            "data adah\n",
            "data adahf\n",
            "data adahfa\n",
            "data adahfah\n",
            "data adahfah \n",
            "data adahfah a\n",
            "data adahfah ab\n",
            "data adahfah aba\n",
            "data adahfah abai\n",
            "data adahfah abaip\n",
            "data adahfah abaipa\n",
            "data adahfah abaipah\n",
            "data adahfah abaipahp\n",
            "data adahfah abaipahpi\n",
            "data adahfah abaipahpia\n",
            "data adahfah abaipahpiao\n",
            "data adahfah abaipahpiaoi\n",
            "data adahfah abaipahpiaoih\n",
            "data adahfah abaipahpiaoiha\n",
            "data adahfah abaipahpiaoihad\n",
            "data adahfah abaipahpiaoihado\n",
            "data adahfah abaipahpiaoihadob\n",
            "data adahfah abaipahpiaoihadobd\n",
            "data adahfah abaipahpiaoihadobd \n",
            "data adahfah abaipahpiaoihadobd d\n",
            "data adahfah abaipahpiaoihadobd da\n",
            "data adahfah abaipahpiaoihadobd daf\n",
            "data adahfah abaipahpiaoihadobd dafk\n",
            "data adahfah abaipahpiaoihadobd dafka\n",
            "data adahfah abaipahpiaoihadobd dafkaf\n",
            "data adahfah abaipahpiaoihadobd dafkafh\n",
            "data adahfah abaipahpiaoihadobd dafkafhk\n",
            "data adahfah abaipahpiaoihadobd dafkafhka\n",
            "data adahfah abaipahpiaoihadobd dafkafhkah\n",
            "data adahfah abaipahpiaoihadobd dafkafhkahf\n",
            "data adahfah abaipahpiaoihadobd dafkafhkahfk\n"
          ]
        }
      ]
    },
    {
      "cell_type": "code",
      "source": [
        "x=\"data science machine !%@%!@%!$5 learning\""
      ],
      "metadata": {
        "id": "1ThSAExvBNYN"
      },
      "execution_count": null,
      "outputs": []
    },
    {
      "cell_type": "code",
      "source": [
        "x"
      ],
      "metadata": {
        "colab": {
          "base_uri": "https://localhost:8080/",
          "height": 35
        },
        "id": "3c2bqbutBNEz",
        "outputId": "5864c18a-3d2e-490b-bc2d-5e150300928a"
      },
      "execution_count": null,
      "outputs": [
        {
          "output_type": "execute_result",
          "data": {
            "text/plain": [
              "'data science machine !%@%!@%!$5 learning'"
            ],
            "application/vnd.google.colaboratory.intrinsic+json": {
              "type": "string"
            }
          },
          "metadata": {},
          "execution_count": 68
        }
      ]
    },
    {
      "cell_type": "code",
      "source": [
        "for i in x:\n",
        "  if not(i.isalpha()):\n",
        "    print(i,end=\",\")"
      ],
      "metadata": {
        "colab": {
          "base_uri": "https://localhost:8080/"
        },
        "id": "o1ffQuU3BMlQ",
        "outputId": "06a99a25-f798-4d7d-e967-194249483b49"
      },
      "execution_count": null,
      "outputs": [
        {
          "output_type": "stream",
          "name": "stdout",
          "text": [
            " , , ,!,%,@,%,!,@,%,!,$,5, ,"
          ]
        }
      ]
    },
    {
      "cell_type": "code",
      "source": [
        "counter=0\n",
        "for i in x:\n",
        "  if i.isalpha()==False:\n",
        "    print(i,end=\",\")\n",
        "    counter=counter+1"
      ],
      "metadata": {
        "colab": {
          "base_uri": "https://localhost:8080/"
        },
        "id": "QdLMHruuCJHI",
        "outputId": "6900571f-cfa3-4250-f496-a920540b1d75"
      },
      "execution_count": null,
      "outputs": [
        {
          "output_type": "stream",
          "name": "stdout",
          "text": [
            " , , ,!,%,@,%,!,@,%,!,$,5, ,"
          ]
        }
      ]
    },
    {
      "cell_type": "code",
      "source": [
        "counter"
      ],
      "metadata": {
        "colab": {
          "base_uri": "https://localhost:8080/"
        },
        "id": "XLBYy55fCWfF",
        "outputId": "eef62530-40c0-4374-ccbc-8a2b2d52d8ba"
      },
      "execution_count": null,
      "outputs": [
        {
          "output_type": "execute_result",
          "data": {
            "text/plain": [
              "14"
            ]
          },
          "metadata": {},
          "execution_count": 76
        }
      ]
    },
    {
      "cell_type": "code",
      "source": [
        "review=''' 1) I CAN TYPE AGAIN! I had switched to a turtle beach vulcan and there's a gap between the keys that I just cannot get used to. The feel, size of keys, near-silent typing, feel great. It's really nice to type on. It's heavy and feels well built. I was able to snag this (TKL Apex3) for $34. Amahhhzing value.\n",
        "\n",
        "2) THE M1-M6 KEYS ARE NOT INDEPENDENT! You cannot bind them as meta keys as you can in the Apex7 keyboard. You will have to replace your insert key, or etc. I REPEAT: You CANNOT bind to the M1-M6 keys on the Apex3.\n",
        "\n",
        "3) I hadn't noticed when purchasing that there is no dedicated print screen key. So as mentioned above, I changed my insert key to act as print screen as I have come to rely on the snipping tool quite frequently.\n",
        "\n",
        "In summary, at 30-40$ this keyboard is a...Steel! Ha.'''"
      ],
      "metadata": {
        "id": "-KX7RNJhClkb"
      },
      "execution_count": null,
      "outputs": []
    },
    {
      "cell_type": "code",
      "source": [
        "print(review)"
      ],
      "metadata": {
        "colab": {
          "base_uri": "https://localhost:8080/"
        },
        "id": "q1PfRiPBCqZL",
        "outputId": "620daf10-585d-4764-85d4-1d50f35ecf0e"
      },
      "execution_count": null,
      "outputs": [
        {
          "output_type": "stream",
          "name": "stdout",
          "text": [
            " 1) I CAN TYPE AGAIN! I had switched to a turtle beach vulcan and there's a gap between the keys that I just cannot get used to. The feel, size of keys, near-silent typing, feel great. It's really nice to type on. It's heavy and feels well built. I was able to snag this (TKL Apex3) for $34. Amahhhzing value.\n",
            "\n",
            "2) THE M1-M6 KEYS ARE NOT INDEPENDENT! You cannot bind them as meta keys as you can in the Apex7 keyboard. You will have to replace your insert key, or etc. I REPEAT: You CANNOT bind to the M1-M6 keys on the Apex3.\n",
            "\n",
            "3) I hadn't noticed when purchasing that there is no dedicated print screen key. So as mentioned above, I changed my insert key to act as print screen as I have come to rely on the snipping tool quite frequently.\n",
            "\n",
            "In summary, at 30-40$ this keyboard is a...Steel! Ha.\n"
          ]
        }
      ]
    },
    {
      "cell_type": "code",
      "source": [
        "### total number of characters\n",
        "### total number of words\n",
        "### total space\n",
        "### total number of special characters\n",
        "### total number of capital\n",
        "### total number of number"
      ],
      "metadata": {
        "id": "tg4D5KbZCuaf"
      },
      "execution_count": null,
      "outputs": []
    },
    {
      "cell_type": "code",
      "source": [
        "len(review)"
      ],
      "metadata": {
        "colab": {
          "base_uri": "https://localhost:8080/"
        },
        "id": "92l-AybAC91f",
        "outputId": "9795ff2f-4e01-4e0b-c029-36b9121b5340"
      },
      "execution_count": null,
      "outputs": [
        {
          "output_type": "execute_result",
          "data": {
            "text/plain": [
              "794"
            ]
          },
          "metadata": {},
          "execution_count": 80
        }
      ]
    },
    {
      "cell_type": "code",
      "source": [
        "len(review.split())"
      ],
      "metadata": {
        "colab": {
          "base_uri": "https://localhost:8080/"
        },
        "id": "QQTd7dM1DTZ-",
        "outputId": "0a5e9118-6617-4490-e8d3-6cbe617cfd28"
      },
      "execution_count": null,
      "outputs": [
        {
          "output_type": "execute_result",
          "data": {
            "text/plain": [
              "152"
            ]
          },
          "metadata": {},
          "execution_count": 82
        }
      ]
    },
    {
      "cell_type": "code",
      "source": [
        "space_counter=0\n",
        "special_char_counter=0\n",
        "numerical_char_count=0\n",
        "for i in review:\n",
        "  if i.isspace():\n",
        "    space_counter=space_counter+1\n",
        "  elif (i.isnumeric()):\n",
        "    numerical_char_count=numerical_char_count+1\n",
        "  elif not(i.isalpha()):\n",
        "    special_char_counter=special_char_counter+1\n",
        "\n",
        "print(space_counter)\n",
        "print(special_char_counter)\n",
        "print(numerical_char_count)"
      ],
      "metadata": {
        "colab": {
          "base_uri": "https://localhost:8080/"
        },
        "id": "oiG9vpCjDi-3",
        "outputId": "303fc10c-4062-4f43-a811-4e11517b42c0"
      },
      "execution_count": null,
      "outputs": [
        {
          "output_type": "stream",
          "name": "stdout",
          "text": [
            "155\n",
            "40\n",
            "16\n"
          ]
        }
      ]
    },
    {
      "cell_type": "code",
      "source": [
        "\"data$\".replace(\"$\",\"\")"
      ],
      "metadata": {
        "colab": {
          "base_uri": "https://localhost:8080/",
          "height": 35
        },
        "id": "A1DWlxiyFCrh",
        "outputId": "889b49b8-9826-4908-96b6-3d5f28d3689c"
      },
      "execution_count": null,
      "outputs": [
        {
          "output_type": "execute_result",
          "data": {
            "text/plain": [
              "'data'"
            ],
            "application/vnd.google.colaboratory.intrinsic+json": {
              "type": "string"
            }
          },
          "metadata": {},
          "execution_count": 93
        }
      ]
    },
    {
      "cell_type": "code",
      "source": [
        "\"data science machine learning\""
      ],
      "metadata": {
        "colab": {
          "base_uri": "https://localhost:8080/",
          "height": 35
        },
        "id": "-EwRLq0rFTFM",
        "outputId": "df3a6485-c038-4a63-fd25-055351f90ef7"
      },
      "execution_count": null,
      "outputs": [
        {
          "output_type": "execute_result",
          "data": {
            "text/plain": [
              "'data science machine learning'"
            ],
            "application/vnd.google.colaboratory.intrinsic+json": {
              "type": "string"
            }
          },
          "metadata": {},
          "execution_count": 94
        }
      ]
    },
    {
      "cell_type": "code",
      "source": [
        "b"
      ],
      "metadata": {
        "colab": {
          "base_uri": "https://localhost:8080/",
          "height": 35
        },
        "id": "fxZvEpFtFYKs",
        "outputId": "a6b72e4a-d1c8-4e49-f7f1-4ce0c5e71285"
      },
      "execution_count": null,
      "outputs": [
        {
          "output_type": "execute_result",
          "data": {
            "text/plain": [
              "'learning machine science data'"
            ],
            "application/vnd.google.colaboratory.intrinsic+json": {
              "type": "string"
            }
          },
          "metadata": {},
          "execution_count": 95
        }
      ]
    },
    {
      "cell_type": "code",
      "source": [
        "x=\"data science machine learning\""
      ],
      "metadata": {
        "id": "4vNBth6lFbV8"
      },
      "execution_count": null,
      "outputs": []
    },
    {
      "cell_type": "code",
      "source": [
        "words=x.split()"
      ],
      "metadata": {
        "id": "S2YkgcLNFlwX"
      },
      "execution_count": null,
      "outputs": []
    },
    {
      "cell_type": "code",
      "source": [
        "words"
      ],
      "metadata": {
        "colab": {
          "base_uri": "https://localhost:8080/"
        },
        "id": "XGwtoqgwF0RL",
        "outputId": "7649c816-c2b2-4bc2-c157-0018a3741114"
      },
      "execution_count": null,
      "outputs": [
        {
          "output_type": "execute_result",
          "data": {
            "text/plain": [
              "['data', 'science', 'machine', 'learning']"
            ]
          },
          "metadata": {},
          "execution_count": 102
        }
      ]
    },
    {
      "cell_type": "code",
      "source": [
        "words.reverse()"
      ],
      "metadata": {
        "id": "YF7x26MbF11h"
      },
      "execution_count": null,
      "outputs": []
    },
    {
      "cell_type": "code",
      "source": [
        "words"
      ],
      "metadata": {
        "colab": {
          "base_uri": "https://localhost:8080/"
        },
        "id": "dE7gZIORF1aJ",
        "outputId": "c848825c-8aa1-40f1-ea0f-d7004af8bbe2"
      },
      "execution_count": null,
      "outputs": [
        {
          "output_type": "execute_result",
          "data": {
            "text/plain": [
              "['learning', 'machine', 'science', 'data']"
            ]
          },
          "metadata": {},
          "execution_count": 104
        }
      ]
    },
    {
      "cell_type": "code",
      "source": [
        "string=\"\"\n",
        "for i in words:\n",
        "  string=(string+\" \"+i).lstrip()"
      ],
      "metadata": {
        "id": "55OtTOibGCUv"
      },
      "execution_count": null,
      "outputs": []
    },
    {
      "cell_type": "code",
      "source": [
        "\"learning machine science data\""
      ],
      "metadata": {
        "colab": {
          "base_uri": "https://localhost:8080/",
          "height": 35
        },
        "id": "oVopwPRZGMpJ",
        "outputId": "7eee4de5-e29a-4ae2-e0ea-179cc722754d"
      },
      "execution_count": null,
      "outputs": [
        {
          "output_type": "execute_result",
          "data": {
            "text/plain": [
              "'learning machine science data'"
            ],
            "application/vnd.google.colaboratory.intrinsic+json": {
              "type": "string"
            }
          },
          "metadata": {},
          "execution_count": 118
        }
      ]
    },
    {
      "cell_type": "code",
      "source": [
        "string"
      ],
      "metadata": {
        "colab": {
          "base_uri": "https://localhost:8080/",
          "height": 35
        },
        "id": "YYzSvBF6GKLb",
        "outputId": "baa02e48-8934-4014-e876-d557c0306064"
      },
      "execution_count": null,
      "outputs": [
        {
          "output_type": "execute_result",
          "data": {
            "text/plain": [
              "'learning machine science data'"
            ],
            "application/vnd.google.colaboratory.intrinsic+json": {
              "type": "string"
            }
          },
          "metadata": {},
          "execution_count": 125
        }
      ]
    }
  ]
}