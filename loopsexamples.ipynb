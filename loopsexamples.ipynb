{
  "nbformat": 4,
  "nbformat_minor": 0,
  "metadata": {
    "colab": {
      "provenance": []
    },
    "kernelspec": {
      "name": "python3",
      "display_name": "Python 3"
    },
    "language_info": {
      "name": "python"
    }
  },
  "cells": [
    {
      "cell_type": "code",
      "execution_count": null,
      "metadata": {
        "colab": {
          "base_uri": "https://localhost:8080/"
        },
        "id": "RlRmq0T6sRJ_",
        "outputId": "bdc1c8ed-8a10-4fc9-977e-9dd3af2f0472"
      },
      "outputs": [
        {
          "output_type": "stream",
          "name": "stdout",
          "text": [
            "Greater than 5\n"
          ]
        }
      ],
      "source": [
        "x = 10\n",
        "if x > 5:\n",
        "    print(\"Greater than 5\")\n"
      ]
    },
    {
      "cell_type": "code",
      "source": [
        "x = 3\n",
        "if x > 5:\n",
        "    print(\"Greater\")\n",
        "else:\n",
        "    print(\"Not greater\")"
      ],
      "metadata": {
        "colab": {
          "base_uri": "https://localhost:8080/"
        },
        "id": "JxtPTSCwscN-",
        "outputId": "9fb9b5d5-3cb7-4ed7-c8b6-44c15cdf7d81"
      },
      "execution_count": null,
      "outputs": [
        {
          "output_type": "stream",
          "name": "stdout",
          "text": [
            "Not greater\n"
          ]
        }
      ]
    },
    {
      "cell_type": "code",
      "source": [
        "score = 85\n",
        "if score > 90:\n",
        "    print(\"A\")\n",
        "elif score > 80:\n",
        "    print(\"B\")\n",
        "else:\n",
        "    print(\"C\")\n"
      ],
      "metadata": {
        "colab": {
          "base_uri": "https://localhost:8080/"
        },
        "id": "wEoljwhtsfPx",
        "outputId": "d9807641-d9df-4d2b-8c20-847d33f78db0"
      },
      "execution_count": null,
      "outputs": [
        {
          "output_type": "stream",
          "name": "stdout",
          "text": [
            "B\n"
          ]
        }
      ]
    },
    {
      "cell_type": "code",
      "source": [
        "name = \"Alice\"\n",
        "if name == \"Alice\":\n",
        "    print(\"Welcome Alice\")\n"
      ],
      "metadata": {
        "colab": {
          "base_uri": "https://localhost:8080/"
        },
        "id": "lXNdX7e8s79b",
        "outputId": "f68863cb-4581-4819-a629-a53d7e2d95a7"
      },
      "execution_count": null,
      "outputs": [
        {
          "output_type": "stream",
          "name": "stdout",
          "text": [
            "Welcome Alice\n"
          ]
        }
      ]
    },
    {
      "cell_type": "code",
      "source": [
        "age = 18\n",
        "if age >= 18:\n",
        "    print(\"Adult\")\n",
        "else:\n",
        "    print(\"Minor\")\n"
      ],
      "metadata": {
        "colab": {
          "base_uri": "https://localhost:8080/"
        },
        "id": "4pG06idus72G",
        "outputId": "25414bae-d212-4cab-b27a-d32328cbaf0c"
      },
      "execution_count": null,
      "outputs": [
        {
          "output_type": "stream",
          "name": "stdout",
          "text": [
            "Adult\n"
          ]
        }
      ]
    },
    {
      "cell_type": "code",
      "source": [
        "num = 0\n",
        "if num == 0:\n",
        "    print(\"Zero\")\n",
        "else:\n",
        "    print(\"Non-zero\")\n"
      ],
      "metadata": {
        "colab": {
          "base_uri": "https://localhost:8080/"
        },
        "id": "9JEklOMYtEv4",
        "outputId": "a42e711a-6a68-42ad-f82e-7b239202650a"
      },
      "execution_count": null,
      "outputs": [
        {
          "output_type": "stream",
          "name": "stdout",
          "text": [
            "Zero\n"
          ]
        }
      ]
    },
    {
      "cell_type": "code",
      "source": [
        "n = -5\n",
        "if n < 0:\n",
        "    print(\"Negative\")\n",
        "elif n == 0:\n",
        "    print(\"Zero\")\n",
        "else:\n",
        "    print(\"Positive\")\n"
      ],
      "metadata": {
        "colab": {
          "base_uri": "https://localhost:8080/"
        },
        "id": "S9MFTRqqtWyj",
        "outputId": "b96f0d4f-76a3-4b1a-fdea-d9b25e2f2f44"
      },
      "execution_count": null,
      "outputs": [
        {
          "output_type": "stream",
          "name": "stdout",
          "text": [
            "Negative\n"
          ]
        }
      ]
    },
    {
      "cell_type": "code",
      "source": [
        "temp = 30\n",
        "if temp > 25:\n",
        "    print(\"Hot\")\n",
        "else:\n",
        "    print(\"Cool\")"
      ],
      "metadata": {
        "colab": {
          "base_uri": "https://localhost:8080/"
        },
        "id": "bU36VINEtZaA",
        "outputId": "9ef997ea-cb39-4e83-9f13-8721dd466650"
      },
      "execution_count": null,
      "outputs": [
        {
          "output_type": "stream",
          "name": "stdout",
          "text": [
            "Hot\n"
          ]
        }
      ]
    },
    {
      "cell_type": "code",
      "source": [
        "language = \"Python\"\n",
        "if language == \"Python\":\n",
        "    print(\"Language matched\")\n"
      ],
      "metadata": {
        "colab": {
          "base_uri": "https://localhost:8080/"
        },
        "id": "UnSgqavvtk6l",
        "outputId": "9cb87e9e-f81e-4dcf-f365-333600e7fb6e"
      },
      "execution_count": null,
      "outputs": [
        {
          "output_type": "stream",
          "name": "stdout",
          "text": [
            "Language matched\n"
          ]
        }
      ]
    },
    {
      "cell_type": "code",
      "source": [
        "marks = 65\n",
        "if marks >= 90:\n",
        "    print(\"Excellent\")\n",
        "elif marks >= 75:\n",
        "    print(\"Very Good\")\n",
        "elif marks >= 50:\n",
        "    print(\"Good\")\n",
        "else:\n",
        "    print(\"Fail\")\n"
      ],
      "metadata": {
        "colab": {
          "base_uri": "https://localhost:8080/"
        },
        "id": "fAFDtwn4tzH_",
        "outputId": "0920ad3a-a294-46ae-ac49-95cae3b9f921"
      },
      "execution_count": null,
      "outputs": [
        {
          "output_type": "stream",
          "name": "stdout",
          "text": [
            "Good\n"
          ]
        }
      ]
    },
    {
      "cell_type": "code",
      "source": [
        "flag = True\n",
        "if flag:\n",
        "    print(\"Flag is True\")"
      ],
      "metadata": {
        "colab": {
          "base_uri": "https://localhost:8080/"
        },
        "id": "XCxY10_Lt6sd",
        "outputId": "02f85029-0730-465c-e259-30d6e3c092e5"
      },
      "execution_count": null,
      "outputs": [
        {
          "output_type": "stream",
          "name": "stdout",
          "text": [
            "Flag is True\n"
          ]
        }
      ]
    },
    {
      "cell_type": "code",
      "source": [
        "a, b = 10, 20\n",
        "if a < b:\n",
        "    print(\"a is less than b\")"
      ],
      "metadata": {
        "colab": {
          "base_uri": "https://localhost:8080/"
        },
        "id": "Vyk2kgKouD4o",
        "outputId": "42d87cfa-a47d-4f73-f1c4-2911fa9902f0"
      },
      "execution_count": null,
      "outputs": [
        {
          "output_type": "stream",
          "name": "stdout",
          "text": [
            "a is less than b\n"
          ]
        }
      ]
    },
    {
      "cell_type": "code",
      "source": [
        "x = 100\n",
        "if x % 2 == 0:\n",
        "    print(\"Even\")\n",
        "else:\n",
        "    print(\"Odd\")"
      ],
      "metadata": {
        "colab": {
          "base_uri": "https://localhost:8080/"
        },
        "id": "aWfjb6sTuL-2",
        "outputId": "29e602ce-e7ed-42c3-c739-8e60a65345d7"
      },
      "execution_count": null,
      "outputs": [
        {
          "output_type": "stream",
          "name": "stdout",
          "text": [
            "Even\n"
          ]
        }
      ]
    },
    {
      "cell_type": "code",
      "source": [
        "grade = 'A'\n",
        "if grade == 'A':\n",
        "    print(\"Excellent\")\n",
        "elif grade == 'B':\n",
        "    print(\"Good\")\n",
        "else:\n",
        "    print(\"Average\")"
      ],
      "metadata": {
        "colab": {
          "base_uri": "https://localhost:8080/"
        },
        "id": "niq0D2pWuZZ-",
        "outputId": "e5457a93-2083-4145-a733-d160cd15063c"
      },
      "execution_count": null,
      "outputs": [
        {
          "output_type": "stream",
          "name": "stdout",
          "text": [
            "Excellent\n"
          ]
        }
      ]
    },
    {
      "cell_type": "code",
      "source": [
        "price = 120\n",
        "if price > 100:\n",
        "    print(\"Too expensive\")\n"
      ],
      "metadata": {
        "colab": {
          "base_uri": "https://localhost:8080/"
        },
        "id": "q9ETWeg9ubmh",
        "outputId": "1fb45d2f-af12-40ba-8243-e3868befdf96"
      },
      "execution_count": null,
      "outputs": [
        {
          "output_type": "stream",
          "name": "stdout",
          "text": [
            "Too expensive\n"
          ]
        }
      ]
    },
    {
      "cell_type": "code",
      "source": [
        "rain = False\n",
        "if rain:\n",
        "    print(\"Take umbrella\")\n",
        "else:\n",
        "    print(\"No need\")"
      ],
      "metadata": {
        "colab": {
          "base_uri": "https://localhost:8080/"
        },
        "id": "l6W9mmY5uo_H",
        "outputId": "edd158aa-8d7c-48b6-9c7c-69f965f0bb43"
      },
      "execution_count": null,
      "outputs": [
        {
          "output_type": "stream",
          "name": "stdout",
          "text": [
            "No need\n"
          ]
        }
      ]
    },
    {
      "cell_type": "code",
      "source": [
        "fruit = \"apple\"\n",
        "if fruit in [\"apple\", \"banana\", \"mango\"]:\n",
        "    print(\"Available\")\n"
      ],
      "metadata": {
        "colab": {
          "base_uri": "https://localhost:8080/"
        },
        "id": "PydKHCx0uo9m",
        "outputId": "03ecfe07-5e16-4e64-c5b6-84c3a8b8fc4b"
      },
      "execution_count": null,
      "outputs": [
        {
          "output_type": "stream",
          "name": "stdout",
          "text": [
            "Available\n"
          ]
        }
      ]
    },
    {
      "cell_type": "code",
      "source": [
        "x = 25\n",
        "if x > 10 and x < 50:\n",
        "    print(\"In range\")"
      ],
      "metadata": {
        "colab": {
          "base_uri": "https://localhost:8080/"
        },
        "id": "wcf-40I_uo4f",
        "outputId": "a2c966da-dd50-4ddd-c672-faaea2916f05"
      },
      "execution_count": null,
      "outputs": [
        {
          "output_type": "stream",
          "name": "stdout",
          "text": [
            "In range\n"
          ]
        }
      ]
    },
    {
      "cell_type": "code",
      "source": [
        "balance = 500\n",
        "withdraw = 600\n",
        "if balance >= withdraw:\n",
        "    print(\"Withdraw successful\")\n",
        "else:\n",
        "    print(\"Insufficient balance\")"
      ],
      "metadata": {
        "colab": {
          "base_uri": "https://localhost:8080/"
        },
        "id": "Dc0N46utvB7R",
        "outputId": "9f8c6827-4a88-4f20-eb24-a808d05865be"
      },
      "execution_count": null,
      "outputs": [
        {
          "output_type": "stream",
          "name": "stdout",
          "text": [
            "Insufficient balance\n"
          ]
        }
      ]
    },
    {
      "cell_type": "code",
      "source": [
        "char = 'z'\n",
        "if char.isalpha():\n",
        "    print(\"Alphabet\")\n"
      ],
      "metadata": {
        "colab": {
          "base_uri": "https://localhost:8080/"
        },
        "id": "xmFVsoqmvBs-",
        "outputId": "9f68b86b-ced4-4d6f-dc40-37bcde92abc9"
      },
      "execution_count": null,
      "outputs": [
        {
          "output_type": "stream",
          "name": "stdout",
          "text": [
            "Alphabet\n"
          ]
        }
      ]
    },
    {
      "cell_type": "code",
      "source": [
        "password = \"admin123\"\n",
        "if len(password) >= 8:\n",
        "    print(\"Valid Password\")\n"
      ],
      "metadata": {
        "colab": {
          "base_uri": "https://localhost:8080/"
        },
        "id": "-nicVxVuvNKd",
        "outputId": "c1c0594a-8b79-410d-d2b2-34b63bf9472b"
      },
      "execution_count": null,
      "outputs": [
        {
          "output_type": "stream",
          "name": "stdout",
          "text": [
            "Valid Password\n"
          ]
        }
      ]
    },
    {
      "cell_type": "code",
      "source": [
        "x = 0\n",
        "if not x:\n",
        "    print(\"x is zero\")"
      ],
      "metadata": {
        "colab": {
          "base_uri": "https://localhost:8080/"
        },
        "id": "Ic1WGoVgvNF6",
        "outputId": "9f7aaf47-899a-43dc-86ea-42acf5244aa0"
      },
      "execution_count": null,
      "outputs": [
        {
          "output_type": "stream",
          "name": "stdout",
          "text": [
            "x is zero\n"
          ]
        }
      ]
    },
    {
      "cell_type": "code",
      "source": [
        "user = \"admin\"\n",
        "if user == \"admin\":\n",
        "    print(\"Access granted\")\n"
      ],
      "metadata": {
        "colab": {
          "base_uri": "https://localhost:8080/"
        },
        "id": "HM4L-n0zvNEU",
        "outputId": "eb2b0713-0f65-41aa-b744-d2be939d69f5"
      },
      "execution_count": null,
      "outputs": [
        {
          "output_type": "stream",
          "name": "stdout",
          "text": [
            "Access granted\n"
          ]
        }
      ]
    },
    {
      "cell_type": "code",
      "source": [
        "x = 15\n",
        "if x % 5 == 0:\n",
        "    print(\"Divisible by 5\")\n"
      ],
      "metadata": {
        "colab": {
          "base_uri": "https://localhost:8080/"
        },
        "id": "IvIUBB3Xvf4E",
        "outputId": "bd5fb993-444f-49aa-ace5-976cdcfef012"
      },
      "execution_count": null,
      "outputs": [
        {
          "output_type": "stream",
          "name": "stdout",
          "text": [
            "Divisible by 5\n"
          ]
        }
      ]
    },
    {
      "cell_type": "code",
      "source": [
        "s = \"OpenAI\"\n",
        "if s.startswith(\"O\"):\n",
        "    print(\"Starts with O\")"
      ],
      "metadata": {
        "colab": {
          "base_uri": "https://localhost:8080/"
        },
        "id": "RLAIqBUivfyt",
        "outputId": "ba2c7088-9363-43a2-c793-c79e9879a8a4"
      },
      "execution_count": null,
      "outputs": [
        {
          "output_type": "stream",
          "name": "stdout",
          "text": [
            "Starts with O\n"
          ]
        }
      ]
    },
    {
      "cell_type": "code",
      "source": [
        "\n",
        "\n",
        "grade = 60\n",
        "if grade >= 50:\n",
        "  print(\"Pass\")\n",
        "else:\n",
        "  print(\"Fail\")"
      ],
      "metadata": {
        "colab": {
          "base_uri": "https://localhost:8080/"
        },
        "id": "Hx5w5tzJvrCS",
        "outputId": "38402c18-8105-4744-ae26-c64f7d1368be"
      },
      "execution_count": null,
      "outputs": [
        {
          "output_type": "stream",
          "name": "stdout",
          "text": [
            "Pass\n"
          ]
        }
      ]
    },
    {
      "cell_type": "code",
      "source": [
        "time = 14\n",
        "if time < 12:\n",
        "    print(\"Morning\")\n",
        "elif time < 18:\n",
        "    print(\"Afternoon\")\n",
        "else:\n",
        "    print(\"Evening\")\n"
      ],
      "metadata": {
        "colab": {
          "base_uri": "https://localhost:8080/"
        },
        "id": "CCwDps7Cv9so",
        "outputId": "a6c03c2f-83c9-4326-a003-6852d30b13ba"
      },
      "execution_count": null,
      "outputs": [
        {
          "output_type": "stream",
          "name": "stdout",
          "text": [
            "Afternoon\n"
          ]
        }
      ]
    },
    {
      "cell_type": "code",
      "source": [
        "temp = 0\n",
        "if temp <= 0:\n",
        "    print(\"Freezing\")\n"
      ],
      "metadata": {
        "colab": {
          "base_uri": "https://localhost:8080/"
        },
        "id": "9WI2uE7qv9fs",
        "outputId": "86f5c123-3165-4181-f228-18315b1df9b4"
      },
      "execution_count": null,
      "outputs": [
        {
          "output_type": "stream",
          "name": "stdout",
          "text": [
            "Freezing\n"
          ]
        }
      ]
    },
    {
      "cell_type": "code",
      "source": [
        "value = 10\n",
        "if value:\n",
        "    print(\"Truthy value\")\n"
      ],
      "metadata": {
        "colab": {
          "base_uri": "https://localhost:8080/"
        },
        "id": "4SM2PBqfwST0",
        "outputId": "315be4d4-c0b8-436a-d181-5c7593adec8b"
      },
      "execution_count": null,
      "outputs": [
        {
          "output_type": "stream",
          "name": "stdout",
          "text": [
            "Truthy value\n"
          ]
        }
      ]
    },
    {
      "cell_type": "code",
      "source": [
        "n = 21\n",
        "if n % 7 == 0:\n",
        "    print(\"Divisible by 7\")"
      ],
      "metadata": {
        "colab": {
          "base_uri": "https://localhost:8080/"
        },
        "id": "W4NFE4l_wbB4",
        "outputId": "c56ffa31-6330-40b0-8b0b-3ba9f3687a39"
      },
      "execution_count": null,
      "outputs": [
        {
          "output_type": "stream",
          "name": "stdout",
          "text": [
            "Divisible by 7\n"
          ]
        }
      ]
    },
    {
      "cell_type": "code",
      "source": [
        "status = \"Success\"\n",
        "if status == \"Success\":\n",
        "    print(\"Operation successful\")\n"
      ],
      "metadata": {
        "colab": {
          "base_uri": "https://localhost:8080/"
        },
        "id": "o_qK6_tD9ywM",
        "outputId": "d2fb82a8-d2f1-4a21-f202-c3e3b9a5309e"
      },
      "execution_count": null,
      "outputs": [
        {
          "output_type": "stream",
          "name": "stdout",
          "text": [
            "Operation successful\n"
          ]
        }
      ]
    },
    {
      "cell_type": "code",
      "source": [
        "gender = \"female\"\n",
        "if gender.lower() == \"female\":\n",
        "    print(\"Hello Madam\")\n"
      ],
      "metadata": {
        "colab": {
          "base_uri": "https://localhost:8080/"
        },
        "id": "e2QyYy-9969Z",
        "outputId": "2d953e21-adca-422d-8d9d-79649557eb13"
      },
      "execution_count": null,
      "outputs": [
        {
          "output_type": "stream",
          "name": "stdout",
          "text": [
            "Hello Madam\n"
          ]
        }
      ]
    },
    {
      "cell_type": "code",
      "source": [
        "year = 2024\n",
        "if (year % 4 == 0 and year % 100 != 0) or (year % 400 == 0):\n",
        "    print(\"Leap year\")\n"
      ],
      "metadata": {
        "id": "9i7xw82z-JO7"
      },
      "execution_count": null,
      "outputs": []
    },
    {
      "cell_type": "code",
      "source": [
        "age = 5\n",
        "if age < 13:\n",
        "    print(\"Child\")\n",
        "elif age < 20:\n",
        "    print(\"Teen\")\n",
        "else:\n",
        "    print(\"Adult\")\n"
      ],
      "metadata": {
        "colab": {
          "base_uri": "https://localhost:8080/"
        },
        "id": "X7M8P9w3-av1",
        "outputId": "0e4f16be-3a65-4f54-99b7-e68e505c4d7f"
      },
      "execution_count": null,
      "outputs": [
        {
          "output_type": "stream",
          "name": "stdout",
          "text": [
            "Child\n"
          ]
        }
      ]
    },
    {
      "cell_type": "code",
      "source": [
        "speed = 80\n",
        "if speed > 60:\n",
        "    print(\"Over speed\")\n"
      ],
      "metadata": {
        "colab": {
          "base_uri": "https://localhost:8080/"
        },
        "id": "UAIIuzJu-zWh",
        "outputId": "0b3fb548-e6ef-4046-96ba-9a76a0d408d6"
      },
      "execution_count": null,
      "outputs": [
        {
          "output_type": "stream",
          "name": "stdout",
          "text": [
            "Over speed\n"
          ]
        }
      ]
    },
    {
      "cell_type": "code",
      "source": [
        "\n",
        "income = 45000\n",
        "if income < 50000:\n",
        "    print(\"Low income\")\n",
        "else:\n",
        "    print(\"Good income\")\n",
        "\n"
      ],
      "metadata": {
        "colab": {
          "base_uri": "https://localhost:8080/"
        },
        "id": "GyJa3exz-1yR",
        "outputId": "f7fedd36-b5e5-4d6d-ce52-213cbb973dd0"
      },
      "execution_count": null,
      "outputs": [
        {
          "output_type": "stream",
          "name": "stdout",
          "text": [
            "Low income\n"
          ]
        }
      ]
    },
    {
      "cell_type": "code",
      "source": [
        "height = 180\n",
        "if height > 170:\n",
        "    print(\"Tall\")\n"
      ],
      "metadata": {
        "colab": {
          "base_uri": "https://localhost:8080/"
        },
        "id": "b8_qoo3v_O8e",
        "outputId": "e44c07dc-1913-4921-ec51-2fe721cb804a"
      },
      "execution_count": null,
      "outputs": [
        {
          "output_type": "stream",
          "name": "stdout",
          "text": [
            "Tall\n"
          ]
        }
      ]
    },
    {
      "cell_type": "code",
      "source": [
        "weight = 70\n",
        "if weight < 60:\n",
        "    print(\"Underweight\")\n",
        "elif weight <= 80:\n",
        "    print(\"Normal\")\n",
        "else:\n",
        "    print(\"Overweight\")\n",
        "\n"
      ],
      "metadata": {
        "colab": {
          "base_uri": "https://localhost:8080/"
        },
        "id": "mYDI8yO4_O6x",
        "outputId": "d3292717-80de-4477-96fa-bbd52fc18ad8"
      },
      "execution_count": null,
      "outputs": [
        {
          "output_type": "stream",
          "name": "stdout",
          "text": [
            "Normal\n"
          ]
        }
      ]
    },
    {
      "cell_type": "code",
      "source": [
        "letter = 'a'\n",
        "if letter in 'aeiou':\n",
        "    print(\"Vowel\")\n",
        "else:\n",
        "    print(\"Consonant\")\n"
      ],
      "metadata": {
        "colab": {
          "base_uri": "https://localhost:8080/"
        },
        "id": "z81WT36F_pH0",
        "outputId": "798a2aa3-373c-4327-cf9c-94fa5eebe084"
      },
      "execution_count": null,
      "outputs": [
        {
          "output_type": "stream",
          "name": "stdout",
          "text": [
            "Vowel\n"
          ]
        }
      ]
    },
    {
      "cell_type": "code",
      "source": [
        "x = 10\n",
        "if x != 0:\n",
        "    print(\"Not zero\")\n"
      ],
      "metadata": {
        "colab": {
          "base_uri": "https://localhost:8080/"
        },
        "id": "Wm7dpomo_pGG",
        "outputId": "398895df-5bb4-4031-b279-778bc5ce9b84"
      },
      "execution_count": null,
      "outputs": [
        {
          "output_type": "stream",
          "name": "stdout",
          "text": [
            "Not zero\n"
          ]
        }
      ]
    },
    {
      "cell_type": "code",
      "source": [
        "count = 0\n",
        "if count == 0:\n",
        "    print(\"Empty\")\n"
      ],
      "metadata": {
        "colab": {
          "base_uri": "https://localhost:8080/"
        },
        "id": "Y0xoyKNo_xpi",
        "outputId": "68e43112-99da-4feb-c07b-4efe3dcd5d9c"
      },
      "execution_count": null,
      "outputs": [
        {
          "output_type": "stream",
          "name": "stdout",
          "text": [
            "Empty\n"
          ]
        }
      ]
    },
    {
      "cell_type": "code",
      "source": [
        "role = \"manager\"\n",
        "if role == \"admin\":\n",
        "    print(\"Admin access\")\n",
        "elif role == \"manager\":\n",
        "    print(\"Manager access\")\n",
        "else:\n",
        "    print(\"Guest access\")\n"
      ],
      "metadata": {
        "colab": {
          "base_uri": "https://localhost:8080/"
        },
        "id": "yaDDSeSu_xYp",
        "outputId": "455d251b-2925-4c9a-fa9b-698b1b2f1a65"
      },
      "execution_count": null,
      "outputs": [
        {
          "output_type": "stream",
          "name": "stdout",
          "text": [
            "Manager access\n"
          ]
        }
      ]
    },
    {
      "cell_type": "code",
      "source": [
        "day = \"Sunday\"\n",
        "if day == \"Sunday\":\n",
        "    print(\"Holiday\")\n"
      ],
      "metadata": {
        "colab": {
          "base_uri": "https://localhost:8080/"
        },
        "id": "gh44anlpADZb",
        "outputId": "cf33fe57-4a9b-4683-d079-2cb2cdbaf713"
      },
      "execution_count": null,
      "outputs": [
        {
          "output_type": "stream",
          "name": "stdout",
          "text": [
            "Holiday\n"
          ]
        }
      ]
    },
    {
      "cell_type": "code",
      "source": [
        "email = \"user@example.com\"\n",
        "if \"@\" in email:\n",
        "    print(\"Valid email\")"
      ],
      "metadata": {
        "colab": {
          "base_uri": "https://localhost:8080/"
        },
        "id": "FiIOWOspADXc",
        "outputId": "81747734-a286-4fde-d7da-e9a29737853d"
      },
      "execution_count": null,
      "outputs": [
        {
          "output_type": "stream",
          "name": "stdout",
          "text": [
            "Valid email\n"
          ]
        }
      ]
    },
    {
      "cell_type": "code",
      "source": [
        "x = 9\n",
        "if x in [1, 3, 5, 7, 9]:\n",
        "    print(\"Odd single-digit\")\n"
      ],
      "metadata": {
        "colab": {
          "base_uri": "https://localhost:8080/"
        },
        "id": "RONMo2zpAZi-",
        "outputId": "4153f0be-61ce-44f3-8990-738cbe0f1696"
      },
      "execution_count": null,
      "outputs": [
        {
          "output_type": "stream",
          "name": "stdout",
          "text": [
            "Odd single-digit\n"
          ]
        }
      ]
    },
    {
      "cell_type": "code",
      "source": [
        "celsius = 37\n",
        "if celsius >= 37:\n",
        "    print(\"Fever\")\n"
      ],
      "metadata": {
        "colab": {
          "base_uri": "https://localhost:8080/"
        },
        "id": "HehPtfUNAZhI",
        "outputId": "870dd33f-9429-406e-e67a-cb439834943a"
      },
      "execution_count": null,
      "outputs": [
        {
          "output_type": "stream",
          "name": "stdout",
          "text": [
            "Fever\n"
          ]
        }
      ]
    },
    {
      "cell_type": "code",
      "source": [
        "n = 50\n",
        "if n > 100:\n",
        "    print(\"Huge\")\n",
        "else:\n",
        "    print(\"Moderate or Small\")"
      ],
      "metadata": {
        "colab": {
          "base_uri": "https://localhost:8080/"
        },
        "id": "riw3ToecAhIF",
        "outputId": "f17c32b9-19b6-48ce-ab62-545eae1ae6ed"
      },
      "execution_count": null,
      "outputs": [
        {
          "output_type": "stream",
          "name": "stdout",
          "text": [
            "Moderate or Small\n"
          ]
        }
      ]
    },
    {
      "cell_type": "code",
      "source": [
        "x, y = 8, 9\n",
        "if x == y:\n",
        "    print(\"Equal\")\n",
        "else:\n",
        "    print(\"Not equal\")\n"
      ],
      "metadata": {
        "colab": {
          "base_uri": "https://localhost:8080/"
        },
        "id": "aknwrZCPAhGT",
        "outputId": "bc76d9ea-30fb-4bce-9796-ddcd8ada196c"
      },
      "execution_count": null,
      "outputs": [
        {
          "output_type": "stream",
          "name": "stdout",
          "text": [
            "Not equal\n"
          ]
        }
      ]
    },
    {
      "cell_type": "code",
      "source": [
        "score = 55\n",
        "if score >= 90:\n",
        "    print(\"A\")\n",
        "elif score >= 75:\n",
        "    print(\"B\")\n",
        "elif score >= 60:\n",
        "    print(\"C\")\n",
        "elif score >= 50:\n",
        "    print(\"D\")\n",
        "else:\n",
        "    print(\"F\")"
      ],
      "metadata": {
        "colab": {
          "base_uri": "https://localhost:8080/"
        },
        "id": "781GRENNA6FR",
        "outputId": "c2fa47ad-ba65-45e8-dd36-58811716080a"
      },
      "execution_count": null,
      "outputs": [
        {
          "output_type": "stream",
          "name": "stdout",
          "text": [
            "D\n"
          ]
        }
      ]
    },
    {
      "cell_type": "code",
      "source": [
        "logged_in = True\n",
        "if logged_in:\n",
        "    print(\"Dashboard\")\n",
        "else:\n",
        "    print(\"Login first\")"
      ],
      "metadata": {
        "colab": {
          "base_uri": "https://localhost:8080/"
        },
        "id": "yl_TVLErBAum",
        "outputId": "a1337105-706b-4b9e-a542-a3fe8ac76d87"
      },
      "execution_count": null,
      "outputs": [
        {
          "output_type": "stream",
          "name": "stdout",
          "text": [
            "Dashboard\n"
          ]
        }
      ]
    }
  ]
}