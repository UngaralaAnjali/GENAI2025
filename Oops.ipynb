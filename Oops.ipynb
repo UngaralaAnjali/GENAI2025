{
  "nbformat": 4,
  "nbformat_minor": 0,
  "metadata": {
    "colab": {
      "provenance": []
    },
    "kernelspec": {
      "name": "python3",
      "display_name": "Python 3"
    },
    "language_info": {
      "name": "python"
    }
  },
  "cells": [
    {
      "cell_type": "code",
      "execution_count": 1,
      "metadata": {
        "colab": {
          "base_uri": "https://localhost:8080/",
          "height": 35
        },
        "id": "ZrqXg3mpxq1s",
        "outputId": "3a2f226d-0809-49cd-932b-fe3f94e06047"
      },
      "outputs": [
        {
          "output_type": "execute_result",
          "data": {
            "text/plain": [
              "'hello test'"
            ],
            "application/vnd.google.colaboratory.intrinsic+json": {
              "type": "string"
            }
          },
          "metadata": {},
          "execution_count": 1
        }
      ],
      "source": [
        "class Name:\n",
        "  def greet(self):\n",
        "    return \"hello \"+self.name\n",
        "p1=Name()\n",
        "p1.name=\"test\"\n",
        "p1.greet()"
      ]
    },
    {
      "cell_type": "code",
      "source": [
        "class Name1:\n",
        "  def __init__(self,name):\n",
        "    self.x=name\n",
        "  def greet(self):\n",
        "    return \"hello \"+self.x"
      ],
      "metadata": {
        "id": "6lVCmMK9yVdv"
      },
      "execution_count": 2,
      "outputs": []
    },
    {
      "cell_type": "code",
      "source": [
        "p1=Name1(\"test\")\n",
        "p1.greet()"
      ],
      "metadata": {
        "colab": {
          "base_uri": "https://localhost:8080/",
          "height": 35
        },
        "id": "iMuMVQ-ryVKU",
        "outputId": "7115f83e-b5a5-41d1-9b80-ded2ea250816"
      },
      "execution_count": 3,
      "outputs": [
        {
          "output_type": "execute_result",
          "data": {
            "text/plain": [
              "'hello test'"
            ],
            "application/vnd.google.colaboratory.intrinsic+json": {
              "type": "string"
            }
          },
          "metadata": {},
          "execution_count": 3
        }
      ]
    },
    {
      "cell_type": "code",
      "source": [
        "#TypeError: Marks.__init__() missing 1 required positional argument: 'attendance'\n",
        "\n",
        "class Marks:\n",
        "  def __init__(self,marks,attendance):\n",
        "    self.marks=marks\n",
        "    self.attendance=attendance\n",
        "  def grade(self):\n",
        "    if self.marks<35:\n",
        "      return \"fail\"\n",
        "    elif self.marks<60:\n",
        "      return \"3rd class\"\n",
        "    elif self.marks<90:\n",
        "      return \"first class\"\n",
        "  def attendance_grade(self):\n",
        "    if self.attendance<100:\n",
        "      return \"fail\"\n",
        "    elif self.attendance<200:\n",
        "      return \"pass\"\n",
        "\n",
        "student1=Marks(40,200)\n",
        "student1.attendance_grade()\n"
      ],
      "metadata": {
        "id": "sjpZ8s1GyjJJ"
      },
      "execution_count": 4,
      "outputs": []
    },
    {
      "cell_type": "code",
      "source": [
        "student1.grade()"
      ],
      "metadata": {
        "colab": {
          "base_uri": "https://localhost:8080/",
          "height": 35
        },
        "id": "8Un747yW4UKN",
        "outputId": "0dfcf632-79af-455d-f01f-8d5a5b25d456"
      },
      "execution_count": 18,
      "outputs": [
        {
          "output_type": "execute_result",
          "data": {
            "text/plain": [
              "'3rd class'"
            ],
            "application/vnd.google.colaboratory.intrinsic+json": {
              "type": "string"
            }
          },
          "metadata": {},
          "execution_count": 18
        }
      ]
    },
    {
      "cell_type": "code",
      "source": [
        "import math\n",
        "math.pi"
      ],
      "metadata": {
        "colab": {
          "base_uri": "https://localhost:8080/"
        },
        "id": "fxcQhCHGzcfm",
        "outputId": "1f75d5d0-8c63-4c85-c5ae-0dcd849d370d"
      },
      "execution_count": 7,
      "outputs": [
        {
          "output_type": "execute_result",
          "data": {
            "text/plain": [
              "3.141592653589793"
            ]
          },
          "metadata": {},
          "execution_count": 7
        }
      ]
    },
    {
      "cell_type": "code",
      "source": [
        "class CircleProperties:\n",
        "  def __init__(self,r):\n",
        "    self.r=r\n",
        "  def area(self):\n",
        "    return math.pi*self.r*self.r\n",
        "  def circ(self):\n",
        "    return math.pi*2*self.r"
      ],
      "metadata": {
        "id": "Q059MvMsyjDp"
      },
      "execution_count": 5,
      "outputs": []
    },
    {
      "cell_type": "code",
      "source": [
        "object1=CircleProperties(20)\n",
        "object1.area()"
      ],
      "metadata": {
        "colab": {
          "base_uri": "https://localhost:8080/"
        },
        "id": "9XyCNP9WyjBm",
        "outputId": "ac15c6e1-444a-423b-de8f-9a3128e4d366"
      },
      "execution_count": 8,
      "outputs": [
        {
          "output_type": "execute_result",
          "data": {
            "text/plain": [
              "1256.6370614359173"
            ]
          },
          "metadata": {},
          "execution_count": 8
        }
      ]
    },
    {
      "cell_type": "code",
      "source": [
        "object1=CircleProperties(20)\n",
        "object1.circ()"
      ],
      "metadata": {
        "colab": {
          "base_uri": "https://localhost:8080/"
        },
        "id": "SzB4AfLV0sYp",
        "outputId": "46ee4d1d-5f57-4651-fcf1-cb2f9f8bb6de"
      },
      "execution_count": 9,
      "outputs": [
        {
          "output_type": "execute_result",
          "data": {
            "text/plain": [
              "125.66370614359172"
            ]
          },
          "metadata": {},
          "execution_count": 9
        }
      ]
    },
    {
      "cell_type": "code",
      "source": [
        "object1=CircleProperties(20)\n",
        "object1.area()\n",
        "object1.circ()\n",
        "object1.r"
      ],
      "metadata": {
        "colab": {
          "base_uri": "https://localhost:8080/"
        },
        "id": "C6MimEmu01_1",
        "outputId": "48b70cab-e9f6-4549-82df-f46f454a9ee1"
      },
      "execution_count": 10,
      "outputs": [
        {
          "output_type": "execute_result",
          "data": {
            "text/plain": [
              "20"
            ]
          },
          "metadata": {},
          "execution_count": 10
        }
      ]
    },
    {
      "cell_type": "code",
      "source": [
        "class Marks:\n",
        "  def __init__(self,marks,attendance):\n",
        "    self.marks=marks\n",
        "    self.attendance=attendance\n",
        "  def grade(self):\n",
        "    if self.marks<35:\n",
        "      return \"fail\"\n",
        "    elif self.marks<60:\n",
        "      return \"3rd class\"\n",
        "    elif self.marks<90:\n",
        "      return \"first class\"\n",
        ""
      ],
      "metadata": {
        "id": "y5s_BS9Y1Gcy"
      },
      "execution_count": 11,
      "outputs": []
    },
    {
      "cell_type": "code",
      "source": [
        "student1=Marks(40,200)\n",
        "student1.grade()"
      ],
      "metadata": {
        "colab": {
          "base_uri": "https://localhost:8080/",
          "height": 35
        },
        "id": "c1y3LND11Z4A",
        "outputId": "9f67e94c-9b87-4d66-e079-71e15fdd37b5"
      },
      "execution_count": 12,
      "outputs": [
        {
          "output_type": "execute_result",
          "data": {
            "text/plain": [
              "'3rd class'"
            ],
            "application/vnd.google.colaboratory.intrinsic+json": {
              "type": "string"
            }
          },
          "metadata": {},
          "execution_count": 12
        }
      ]
    },
    {
      "cell_type": "code",
      "source": [
        "student1.marks"
      ],
      "metadata": {
        "colab": {
          "base_uri": "https://localhost:8080/"
        },
        "id": "t0q-KZ7z1kFW",
        "outputId": "a450ed17-efe5-4251-df26-c118f1356fcd"
      },
      "execution_count": 13,
      "outputs": [
        {
          "output_type": "execute_result",
          "data": {
            "text/plain": [
              "40"
            ]
          },
          "metadata": {},
          "execution_count": 13
        }
      ]
    },
    {
      "cell_type": "code",
      "source": [
        "class Marks:\n",
        "  def __init__(self,marks,attendance):\n",
        "    self.marks=marks\n",
        "    self.attendance=attendance\n",
        "  def attendence_grade(self):\n",
        "    if self.attendance<100:\n",
        "      return \"fail\"\n",
        "    elif self.attendance<200:\n",
        "      return \"pass\"\n",
        "student1=Marks(40,200)\n",
        "student1.attendence_grade()"
      ],
      "metadata": {
        "id": "5B2NeVuq_LgR"
      },
      "execution_count": 38,
      "outputs": []
    },
    {
      "cell_type": "code",
      "source": [
        "student1.marks"
      ],
      "metadata": {
        "colab": {
          "base_uri": "https://localhost:8080/"
        },
        "id": "WBFmwHcH_Zx_",
        "outputId": "e43c0822-8d22-4f8b-e9bb-fb959a6a7b7e"
      },
      "execution_count": 39,
      "outputs": [
        {
          "output_type": "execute_result",
          "data": {
            "text/plain": [
              "40"
            ]
          },
          "metadata": {},
          "execution_count": 39
        }
      ]
    },
    {
      "cell_type": "code",
      "source": [
        "class Rectangle:\n",
        "  def __init__(self,length,width):\n",
        "    self.length=length\n",
        "    self.width=width\n",
        "  def area(self):\n",
        "    return self.length*self.width\n",
        "  def perimeter(self):\n",
        "    return 2*(self.length+self.width)"
      ],
      "metadata": {
        "id": "hYoy_D2W14i4"
      },
      "execution_count": 15,
      "outputs": []
    },
    {
      "cell_type": "code",
      "source": [
        "object1=Rectangle(20,30)\n",
        "object1.area()"
      ],
      "metadata": {
        "colab": {
          "base_uri": "https://localhost:8080/"
        },
        "id": "2AKwTs0J2pKQ",
        "outputId": "faa24976-21d0-4828-8860-6c8d1776978b"
      },
      "execution_count": 16,
      "outputs": [
        {
          "output_type": "execute_result",
          "data": {
            "text/plain": [
              "600"
            ]
          },
          "metadata": {},
          "execution_count": 16
        }
      ]
    },
    {
      "cell_type": "code",
      "source": [
        "object1=Rectangle(20,30)\n",
        "object1.perimeter()"
      ],
      "metadata": {
        "colab": {
          "base_uri": "https://localhost:8080/"
        },
        "id": "kCr7GgGU3EL4",
        "outputId": "02e82c3a-b44d-4d19-9171-9fec0a01998b"
      },
      "execution_count": 17,
      "outputs": [
        {
          "output_type": "execute_result",
          "data": {
            "text/plain": [
              "100"
            ]
          },
          "metadata": {},
          "execution_count": 17
        }
      ]
    },
    {
      "cell_type": "code",
      "source": [
        "class Circle:\n",
        "  def __init__(self,radius):\n",
        "    self.radius=radius\n",
        "  def area(self):\n",
        "    return math.pi*self.radius*self.radius\n",
        "  def circumference(self):\n",
        "    return 2*math.pi*self.radius"
      ],
      "metadata": {
        "id": "xuDZAno73KUy"
      },
      "execution_count": 19,
      "outputs": []
    },
    {
      "cell_type": "code",
      "source": [
        "object1=Circle(6)\n",
        "object1.area()\n",
        "object1.circumference()"
      ],
      "metadata": {
        "colab": {
          "base_uri": "https://localhost:8080/"
        },
        "id": "oMqb1M8s4rQh",
        "outputId": "70c5291c-4059-426a-8551-18d8bdb4afe4"
      },
      "execution_count": 27,
      "outputs": [
        {
          "output_type": "execute_result",
          "data": {
            "text/plain": [
              "37.69911184307752"
            ]
          },
          "metadata": {},
          "execution_count": 27
        }
      ]
    },
    {
      "cell_type": "code",
      "source": [
        "class Student:\n",
        "  def __init__(self,name,marks):\n",
        "    self.name=name\n",
        "    self.marks=marks\n",
        "  def get_average(self):\n",
        "    return sum(self.marks)/len(self.marks)\n",
        "\n",
        "  def display(self):\n",
        "    print(self.name,self.get_average())"
      ],
      "metadata": {
        "id": "QVW1NFuV7Msv"
      },
      "execution_count": 31,
      "outputs": []
    },
    {
      "cell_type": "code",
      "source": [
        "object1=Student(\"test\", [50])\n",
        "object1.display()"
      ],
      "metadata": {
        "colab": {
          "base_uri": "https://localhost:8080/"
        },
        "id": "DHEgLpg97_SB",
        "outputId": "7fc24fdf-1fea-4919-8815-cd9ece79b2d3"
      },
      "execution_count": 36,
      "outputs": [
        {
          "output_type": "stream",
          "name": "stdout",
          "text": [
            "test 50.0\n"
          ]
        }
      ]
    },
    {
      "cell_type": "code",
      "source": [
        "class Car:\n",
        "  def __init__(self,brand,speed):\n",
        "    self.brand=brand\n",
        "    self.speed=speed\n",
        "  def accelerate(self):\n",
        "    self.speed+=10\n",
        "  def display(self):\n",
        "    print(f\"{self.brand} speed: {self.speed} km/h\")\n"
      ],
      "metadata": {
        "id": "bJPWREkq9tYp"
      },
      "execution_count": 40,
      "outputs": []
    },
    {
      "cell_type": "code",
      "source": [
        "object1=Car(\"test\",100)\n",
        "object1.accelerate()\n",
        "object1.display()"
      ],
      "metadata": {
        "colab": {
          "base_uri": "https://localhost:8080/"
        },
        "id": "mcVuItlpEiI8",
        "outputId": "de6087ee-bc5c-4126-dbdf-a9062c9df910"
      },
      "execution_count": 41,
      "outputs": [
        {
          "output_type": "stream",
          "name": "stdout",
          "text": [
            "test speed: 110 km/h\n"
          ]
        }
      ]
    },
    {
      "cell_type": "code",
      "metadata": {
        "id": "c18e6b10"
      },
      "source": [
        "class BankAccount:\n",
        "  def __init__(self,holder,balance):\n",
        "    self.holder=holder\n",
        "    self.balance=balance\n",
        "  def deposit(self,amount):\n",
        "    self.balance+=amount\n",
        "  def display(self):\n",
        "    print(f\"{self.holder} Balance: {self.balance}\")"
      ],
      "execution_count": 45,
      "outputs": []
    },
    {
      "cell_type": "code",
      "metadata": {
        "colab": {
          "base_uri": "https://localhost:8080/"
        },
        "id": "799902e0",
        "outputId": "2e85e141-1407-457b-b9a8-e5e1681fcf2c"
      },
      "source": [
        "object1=BankAccount(\"test\",1000)\n",
        "object1.deposit(500)\n",
        "object1.display()"
      ],
      "execution_count": 46,
      "outputs": [
        {
          "output_type": "stream",
          "name": "stdout",
          "text": [
            "test Balance: 1500\n"
          ]
        }
      ]
    },
    {
      "cell_type": "code",
      "source": [
        "class Book:\n",
        "  def __init__(self,title,author):\n",
        "    self.title=title\n",
        "    self.author=author\n",
        "  def display(self):\n",
        "    print(f\"{self.title} by {self.author}\")\n",
        "  def get_author(self):\n",
        "    return self.author"
      ],
      "metadata": {
        "id": "xf3pDn2vGGxg"
      },
      "execution_count": 49,
      "outputs": []
    },
    {
      "cell_type": "code",
      "source": [
        "object1=Book(\"ml\",\"topper\")\n",
        "object1.display()\n"
      ],
      "metadata": {
        "colab": {
          "base_uri": "https://localhost:8080/"
        },
        "id": "6jWdl8-AISY0",
        "outputId": "7cb0fcbe-fe20-499a-cb83-2bc4db2cb9ab"
      },
      "execution_count": 50,
      "outputs": [
        {
          "output_type": "stream",
          "name": "stdout",
          "text": [
            "ml by topper\n"
          ]
        }
      ]
    },
    {
      "cell_type": "code",
      "source": [
        "class Temperature:\n",
        "  def __init__(self,celsius):\n",
        "    self.celsius=celsius\n",
        "  def to_fahrenheit(self):\n",
        "    return (self.celsius*9/5)+32\n",
        "  def display(self):\n",
        "    print(f\"{self.celsius}°C\")"
      ],
      "metadata": {
        "id": "50AlB5g_Jsjs"
      },
      "execution_count": 51,
      "outputs": []
    },
    {
      "cell_type": "code",
      "source": [
        "object1=Temperature(26)\n",
        "object1.celsius\n",
        "object1.to_fahrenheit()\n",
        "object1.display()"
      ],
      "metadata": {
        "colab": {
          "base_uri": "https://localhost:8080/"
        },
        "id": "8KOIWWUPKDmD",
        "outputId": "dfa245bb-3574-4f8f-cbe1-24affe3997c5"
      },
      "execution_count": 60,
      "outputs": [
        {
          "output_type": "stream",
          "name": "stdout",
          "text": [
            "26°C\n"
          ]
        }
      ]
    },
    {
      "cell_type": "code",
      "source": [
        "object1.to_fahrenheit()"
      ],
      "metadata": {
        "colab": {
          "base_uri": "https://localhost:8080/"
        },
        "id": "z9XamRUuLAEQ",
        "outputId": "78c27228-bade-43a3-8512-61bfe3c18d53"
      },
      "execution_count": 61,
      "outputs": [
        {
          "output_type": "execute_result",
          "data": {
            "text/plain": [
              "78.8"
            ]
          },
          "metadata": {},
          "execution_count": 61
        }
      ]
    },
    {
      "cell_type": "code",
      "source": [
        "object1.display()"
      ],
      "metadata": {
        "colab": {
          "base_uri": "https://localhost:8080/"
        },
        "id": "ssOmkDxrLACp",
        "outputId": "81c8b2d8-da86-46be-f1f9-7ad9353c255b"
      },
      "execution_count": 62,
      "outputs": [
        {
          "output_type": "stream",
          "name": "stdout",
          "text": [
            "26°C\n"
          ]
        }
      ]
    },
    {
      "cell_type": "code",
      "metadata": {
        "id": "476b538f"
      },
      "source": [
        "class DataCleaner:\n",
        "    def remove_nulls(self):\n",
        "        print(\"Null values removed\")\n",
        "\n",
        "class SalesCleaner(DataCleaner):\n",
        "    def convert_dates(self):\n",
        "        print(\"Date columns converted\")"
      ],
      "execution_count": 6,
      "outputs": []
    },
    {
      "cell_type": "code",
      "metadata": {
        "colab": {
          "base_uri": "https://localhost:8080/"
        },
        "id": "46ad8a5e",
        "outputId": "61ff5ad1-5f6a-49d0-9ee2-e8bc0a3603ec"
      },
      "source": [
        "object1=DataCleaner()\n",
        "object1.remove_nulls()"
      ],
      "execution_count": 7,
      "outputs": [
        {
          "output_type": "stream",
          "name": "stdout",
          "text": [
            "Null values removed\n"
          ]
        }
      ]
    },
    {
      "cell_type": "code",
      "source": [
        "object1=SalesCleaner()\n",
        "object1.remove_nulls()\n",
        "object1.convert_dates()"
      ],
      "metadata": {
        "colab": {
          "base_uri": "https://localhost:8080/"
        },
        "id": "5ybP-2l2jIck",
        "outputId": "78a073e2-93c6-4fcf-e50b-454897b954cb"
      },
      "execution_count": 8,
      "outputs": [
        {
          "output_type": "stream",
          "name": "stdout",
          "text": [
            "Null values removed\n",
            "Date columns converted\n"
          ]
        }
      ]
    },
    {
      "cell_type": "code",
      "source": [
        "class Preprocessor:\n",
        "    def __init__(self):\n",
        "        print(\"Preprocessor initialized\")\n",
        "\n",
        "    def clean(self):\n",
        "        print(\"Cleaning base data\")\n",
        "\n",
        "class TextPreprocessor(Preprocessor):\n",
        "    def __init__(self):\n",
        "        #super().__init__()\n",
        "        print(\"TextPreprocessor initialized\")\n",
        "\n",
        "    def tokenize(self):\n",
        "        print(\"Text tokenized\")\n",
        "object1=TextPreprocessor()\n",
        "object1.tokenize()"
      ],
      "metadata": {
        "colab": {
          "base_uri": "https://localhost:8080/"
        },
        "id": "YfMh0xbhjXLN",
        "outputId": "93cf385f-d5e4-4de4-b379-a73b358a530f"
      },
      "execution_count": 11,
      "outputs": [
        {
          "output_type": "stream",
          "name": "stdout",
          "text": [
            "TextPreprocessor initialized\n",
            "Text tokenized\n"
          ]
        }
      ]
    },
    {
      "cell_type": "code",
      "source": [
        "class Model:\n",
        "    def __init__(self):\n",
        "        print(\"Base Model initialized\")\n",
        "\n",
        "    def train(self):\n",
        "        print(\"Training model...\")\n",
        "\n",
        "class LinearRegressionModel(Model):\n",
        "    def __init__(self):\n",
        "        super().__init__()\n",
        "        print(\"LinearRegressionModel ready\")\n",
        "\n",
        "    def predict(self):\n",
        "        print(\"Predicting using linear regression\")\n",
        "\n",
        "# Usage\n",
        "model = LinearRegressionModel()\n",
        "model.train()\n",
        "model.predict()\n"
      ],
      "metadata": {
        "colab": {
          "base_uri": "https://localhost:8080/"
        },
        "id": "St_HnDqDjxyO",
        "outputId": "89778e31-b684-48a9-b956-10c558c41997"
      },
      "execution_count": 12,
      "outputs": [
        {
          "output_type": "stream",
          "name": "stdout",
          "text": [
            "Base Model initialized\n",
            "LinearRegressionModel ready\n",
            "Training model...\n",
            "Predicting using linear regression\n"
          ]
        }
      ]
    },
    {
      "cell_type": "code",
      "source": [
        "class Dataset:\n",
        "    def __init__(self):\n",
        "        print(\"Dataset initialized\")\n",
        "\n",
        "    def load(self):\n",
        "        print(\"Loading dataset...\")\n",
        "\n",
        "class CSVData(Dataset):\n",
        "    def __init__(self):\n",
        "        super().__init__()\n",
        "        print(\"CSVData initialized\")\n",
        "\n",
        "    def read_csv(self):\n",
        "        print(\"Reading CSV file\")\n",
        "\n",
        "class CleanedCSVData(CSVData):\n",
        "    def __init__(self):\n",
        "        super().__init__()\n",
        "        print(\"CleanedCSVData initialized\")\n",
        "\n",
        "    def clean(self):\n",
        "        print(\"Cleaning missing values\")\n",
        "\n",
        "object1=CleanedCSVData()\n",
        "object1.clean()"
      ],
      "metadata": {
        "colab": {
          "base_uri": "https://localhost:8080/"
        },
        "id": "8c3MbPRejxpm",
        "outputId": "28749bc1-22c8-460a-bd3b-2b950dd951de"
      },
      "execution_count": 15,
      "outputs": [
        {
          "output_type": "stream",
          "name": "stdout",
          "text": [
            "Dataset initialized\n",
            "CSVData initialized\n",
            "CleanedCSVData initialized\n",
            "Cleaning missing values\n"
          ]
        }
      ]
    }
  ]
}