{
  "nbformat": 4,
  "nbformat_minor": 0,
  "metadata": {
    "colab": {
      "provenance": []
    },
    "kernelspec": {
      "name": "python3",
      "display_name": "Python 3"
    },
    "language_info": {
      "name": "python"
    }
  },
  "cells": [
    {
      "cell_type": "code",
      "execution_count": null,
      "metadata": {
        "id": "6YKjn9oZWTIs"
      },
      "outputs": [],
      "source": [
        "import numpy as np"
      ]
    },
    {
      "cell_type": "code",
      "source": [
        "data=np.random.randint(0,10,5)"
      ],
      "metadata": {
        "id": "_wrv8PmkW-d8"
      },
      "execution_count": null,
      "outputs": []
    },
    {
      "cell_type": "code",
      "source": [
        "data"
      ],
      "metadata": {
        "colab": {
          "base_uri": "https://localhost:8080/"
        },
        "id": "kJHFt4QCW-ae",
        "outputId": "cdb13f07-c7f3-4ec5-95ce-031bf804c70b"
      },
      "execution_count": null,
      "outputs": [
        {
          "output_type": "execute_result",
          "data": {
            "text/plain": [
              "array([9, 8, 6, 5, 3])"
            ]
          },
          "metadata": {},
          "execution_count": 3
        }
      ]
    },
    {
      "cell_type": "code",
      "source": [
        "data+3"
      ],
      "metadata": {
        "colab": {
          "base_uri": "https://localhost:8080/"
        },
        "id": "09pSSNnPW-Xs",
        "outputId": "6d264e0d-9318-4056-ccf0-89be77ab4c30"
      },
      "execution_count": null,
      "outputs": [
        {
          "output_type": "execute_result",
          "data": {
            "text/plain": [
              "array([12, 11,  9,  8,  6])"
            ]
          },
          "metadata": {},
          "execution_count": 4
        }
      ]
    },
    {
      "cell_type": "code",
      "source": [],
      "metadata": {
        "id": "gTBA5d-iW-Py"
      },
      "execution_count": null,
      "outputs": []
    },
    {
      "cell_type": "code",
      "source": [
        "x=np.random.randint(0,10,(4,3))"
      ],
      "metadata": {
        "id": "e1LWdxugW-MT"
      },
      "execution_count": null,
      "outputs": []
    },
    {
      "cell_type": "code",
      "source": [
        "x"
      ],
      "metadata": {
        "colab": {
          "base_uri": "https://localhost:8080/"
        },
        "id": "w2jWD0tYW-Jo",
        "outputId": "e024e624-aad6-4960-8759-0032b79599d7"
      },
      "execution_count": null,
      "outputs": [
        {
          "output_type": "execute_result",
          "data": {
            "text/plain": [
              "array([[2, 6, 7],\n",
              "       [7, 5, 8],\n",
              "       [0, 3, 3],\n",
              "       [6, 1, 1]])"
            ]
          },
          "metadata": {},
          "execution_count": 6
        }
      ]
    },
    {
      "cell_type": "code",
      "source": [
        "y=np.random.randint(0,10,(1,3))"
      ],
      "metadata": {
        "id": "n0whmxsIXmSt"
      },
      "execution_count": null,
      "outputs": []
    },
    {
      "cell_type": "code",
      "source": [
        "x"
      ],
      "metadata": {
        "colab": {
          "base_uri": "https://localhost:8080/"
        },
        "id": "0Vdt7u5sXpT1",
        "outputId": "fcc57410-72bd-467c-c356-34ad30007e84"
      },
      "execution_count": null,
      "outputs": [
        {
          "output_type": "execute_result",
          "data": {
            "text/plain": [
              "array([[2, 6, 7],\n",
              "       [7, 5, 8],\n",
              "       [0, 3, 3],\n",
              "       [6, 1, 1]])"
            ]
          },
          "metadata": {},
          "execution_count": 8
        }
      ]
    },
    {
      "cell_type": "code",
      "source": [
        "[7, 1, 3]\n",
        "[7, 1, 3]\n",
        "[7, 1, 3]\n",
        "[7, 1, 3]"
      ],
      "metadata": {
        "id": "ClbH6fhGX8It"
      },
      "execution_count": null,
      "outputs": []
    },
    {
      "cell_type": "code",
      "source": [
        "y"
      ],
      "metadata": {
        "colab": {
          "base_uri": "https://localhost:8080/"
        },
        "id": "CryJ9iTeXqln",
        "outputId": "3ae03b3d-2d8b-441b-b1f6-3d8abec7c099"
      },
      "execution_count": null,
      "outputs": [
        {
          "output_type": "execute_result",
          "data": {
            "text/plain": [
              "array([[7, 1, 3]])"
            ]
          },
          "metadata": {},
          "execution_count": 9
        }
      ]
    },
    {
      "cell_type": "code",
      "source": [
        "x+y"
      ],
      "metadata": {
        "colab": {
          "base_uri": "https://localhost:8080/"
        },
        "id": "G_yzRl0BX4JU",
        "outputId": "efb03309-9cc6-4b56-e7b4-30c007c93f0f"
      },
      "execution_count": null,
      "outputs": [
        {
          "output_type": "execute_result",
          "data": {
            "text/plain": [
              "array([[ 9,  7, 10],\n",
              "       [14,  6, 11],\n",
              "       [ 7,  4,  6],\n",
              "       [13,  2,  4]])"
            ]
          },
          "metadata": {},
          "execution_count": 10
        }
      ]
    },
    {
      "cell_type": "code",
      "source": [
        "x=np.random.randint(0,10,(4,1))"
      ],
      "metadata": {
        "id": "e8688k4IYV3O"
      },
      "execution_count": null,
      "outputs": []
    },
    {
      "cell_type": "code",
      "source": [
        "x"
      ],
      "metadata": {
        "colab": {
          "base_uri": "https://localhost:8080/"
        },
        "id": "CnpqFT_jYV0P",
        "outputId": "fcb831ba-eaf3-43bb-97bf-8fe50a9b1b62"
      },
      "execution_count": null,
      "outputs": [
        {
          "output_type": "execute_result",
          "data": {
            "text/plain": [
              "array([[5],\n",
              "       [1],\n",
              "       [1],\n",
              "       [5]])"
            ]
          },
          "metadata": {},
          "execution_count": 17
        }
      ]
    },
    {
      "cell_type": "code",
      "source": [
        "y=np.random.randint(0,10,4)"
      ],
      "metadata": {
        "id": "P81P5b99YVxW"
      },
      "execution_count": null,
      "outputs": []
    },
    {
      "cell_type": "code",
      "source": [
        "x"
      ],
      "metadata": {
        "colab": {
          "base_uri": "https://localhost:8080/"
        },
        "id": "zM3NSrVBYVuo",
        "outputId": "6e6ad166-0338-4a7c-e42b-a66cb5b5b731"
      },
      "execution_count": null,
      "outputs": [
        {
          "output_type": "execute_result",
          "data": {
            "text/plain": [
              "array([[5],\n",
              "       [1],\n",
              "       [1],\n",
              "       [5]])"
            ]
          },
          "metadata": {},
          "execution_count": 19
        }
      ]
    },
    {
      "cell_type": "code",
      "source": [
        "y"
      ],
      "metadata": {
        "colab": {
          "base_uri": "https://localhost:8080/"
        },
        "id": "31lKpXo0YVsO",
        "outputId": "c3766acb-da81-486d-a405-5ee7ce92fed7"
      },
      "execution_count": null,
      "outputs": [
        {
          "output_type": "execute_result",
          "data": {
            "text/plain": [
              "array([3, 3, 9, 9])"
            ]
          },
          "metadata": {},
          "execution_count": 20
        }
      ]
    },
    {
      "cell_type": "code",
      "source": [
        "[3, 3, 9, 9]\n",
        "[3, 3, 9, 9]\n",
        "[3, 3, 9, 9]\n",
        "[3, 3, 9, 9]"
      ],
      "metadata": {
        "colab": {
          "base_uri": "https://localhost:8080/"
        },
        "id": "M58lW3KoYVpk",
        "outputId": "6b278ff5-0803-4541-91c9-3bd7a0e89454"
      },
      "execution_count": null,
      "outputs": [
        {
          "output_type": "execute_result",
          "data": {
            "text/plain": [
              "[3, 3, 9, 9]"
            ]
          },
          "metadata": {},
          "execution_count": 21
        }
      ]
    },
    {
      "cell_type": "code",
      "source": [
        "5555\n",
        "1111\n",
        "1111\n",
        "5555\n"
      ],
      "metadata": {
        "id": "IF51eJXjYVm7"
      },
      "execution_count": null,
      "outputs": []
    },
    {
      "cell_type": "code",
      "source": [
        "x+y"
      ],
      "metadata": {
        "colab": {
          "base_uri": "https://localhost:8080/"
        },
        "id": "_0ot2U3rYVkL",
        "outputId": "dcbcccea-a76e-4805-e8e6-ed86a98e0f99"
      },
      "execution_count": null,
      "outputs": [
        {
          "output_type": "execute_result",
          "data": {
            "text/plain": [
              "array([[ 8,  8, 14, 14],\n",
              "       [ 4,  4, 10, 10],\n",
              "       [ 4,  4, 10, 10],\n",
              "       [ 8,  8, 14, 14]])"
            ]
          },
          "metadata": {},
          "execution_count": 22
        }
      ]
    },
    {
      "cell_type": "code",
      "source": [
        "x"
      ],
      "metadata": {
        "colab": {
          "base_uri": "https://localhost:8080/"
        },
        "id": "De6U9Y00YVhU",
        "outputId": "ba4ee4e9-97af-45bc-bb31-42f28b2aeb58"
      },
      "execution_count": null,
      "outputs": [
        {
          "output_type": "execute_result",
          "data": {
            "text/plain": [
              "array([[5],\n",
              "       [1],\n",
              "       [1],\n",
              "       [5]])"
            ]
          },
          "metadata": {},
          "execution_count": 23
        }
      ]
    },
    {
      "cell_type": "code",
      "source": [
        "y"
      ],
      "metadata": {
        "colab": {
          "base_uri": "https://localhost:8080/"
        },
        "id": "bzeGp736YVeo",
        "outputId": "668439ac-932d-4c70-d281-4f94c2d6bb5a"
      },
      "execution_count": null,
      "outputs": [
        {
          "output_type": "execute_result",
          "data": {
            "text/plain": [
              "array([3, 3, 9, 9])"
            ]
          },
          "metadata": {},
          "execution_count": 24
        }
      ]
    },
    {
      "cell_type": "code",
      "source": [
        "### Link :https://numpy.org/devdocs//user/basics.broadcasting.html"
      ],
      "metadata": {
        "id": "G7N99oB-ZHrR"
      },
      "execution_count": null,
      "outputs": []
    },
    {
      "cell_type": "code",
      "source": [
        "import numpy as np"
      ],
      "metadata": {
        "id": "KmzJF1GDZ57B"
      },
      "execution_count": null,
      "outputs": []
    },
    {
      "cell_type": "code",
      "source": [
        "data=np.loadtxt(\"/content/sample.txt\")"
      ],
      "metadata": {
        "id": "wBL1mm2UZ53k"
      },
      "execution_count": null,
      "outputs": []
    },
    {
      "cell_type": "code",
      "source": [
        "data"
      ],
      "metadata": {
        "colab": {
          "base_uri": "https://localhost:8080/"
        },
        "id": "eBY0GWWKZ50X",
        "outputId": "b86e8cdd-2e84-4db3-f337-19dac5855e36"
      },
      "execution_count": null,
      "outputs": [
        {
          "output_type": "execute_result",
          "data": {
            "text/plain": [
              "array([[12., 45., 78., 23., 56.],\n",
              "       [34., 67., 89., 12., 90.],\n",
              "       [56., 21., 43., 65., 87.],\n",
              "       [78., 34., 12., 89., 23.],\n",
              "       [90., 11., 67., 32., 45.],\n",
              "       [14., 58., 29., 71., 63.],\n",
              "       [32., 84., 91., 17., 55.],\n",
              "       [46., 38., 27., 66., 49.],\n",
              "       [53., 72., 19., 88., 30.],\n",
              "       [61., 40., 76., 35., 20.]])"
            ]
          },
          "metadata": {},
          "execution_count": 31
        }
      ]
    },
    {
      "cell_type": "code",
      "source": [
        "data.shape"
      ],
      "metadata": {
        "colab": {
          "base_uri": "https://localhost:8080/"
        },
        "id": "hIMaOn3eZ5xT",
        "outputId": "7ab39d37-f4f3-4bb9-a881-ea05152d936a"
      },
      "execution_count": null,
      "outputs": [
        {
          "output_type": "execute_result",
          "data": {
            "text/plain": [
              "(10, 5)"
            ]
          },
          "metadata": {},
          "execution_count": 32
        }
      ]
    },
    {
      "cell_type": "code",
      "source": [
        "import glob"
      ],
      "metadata": {
        "id": "Zq2WdFoZZ5uO"
      },
      "execution_count": null,
      "outputs": []
    },
    {
      "cell_type": "code",
      "source": [
        "/content/"
      ],
      "metadata": {
        "id": "sXV9_3V4bb0J"
      },
      "execution_count": null,
      "outputs": []
    },
    {
      "cell_type": "code",
      "source": [],
      "metadata": {
        "colab": {
          "base_uri": "https://localhost:8080/"
        },
        "id": "wFijsGsOZ5rX",
        "outputId": "c85b0bb0-8c55-4d36-fbf7-c3da8f4c9302"
      },
      "execution_count": null,
      "outputs": [
        {
          "output_type": "execute_result",
          "data": {
            "text/plain": [
              "['/content/sample file.txt',\n",
              " '/content/sample file2.txt',\n",
              " '/content/sample.txt']"
            ]
          },
          "metadata": {},
          "execution_count": 37
        }
      ]
    },
    {
      "cell_type": "code",
      "source": [],
      "metadata": {
        "id": "WcUF7S8hZ5or"
      },
      "execution_count": null,
      "outputs": []
    },
    {
      "cell_type": "code",
      "source": [
        "data"
      ],
      "metadata": {
        "colab": {
          "base_uri": "https://localhost:8080/"
        },
        "id": "VYPIAL3LZ5lt",
        "outputId": "cf3a495a-47f0-4df4-955d-4c930e0ebaa6"
      },
      "execution_count": null,
      "outputs": [
        {
          "output_type": "execute_result",
          "data": {
            "text/plain": [
              "array([[12., 45., 78., 23., 56.],\n",
              "       [34., 67., 89., 12., 90.],\n",
              "       [56., 21., 43., 65., 87.],\n",
              "       [78., 34., 12., 89., 23.],\n",
              "       [90., 11., 67., 32., 45.],\n",
              "       [14., 58., 29., 71., 63.],\n",
              "       [32., 84., 91., 17., 55.],\n",
              "       [46., 38., 27., 66., 49.],\n",
              "       [53., 72., 19., 88., 30.],\n",
              "       [61., 40., 76., 35., 20.]])"
            ]
          },
          "metadata": {},
          "execution_count": 40
        }
      ]
    },
    {
      "cell_type": "code",
      "source": [],
      "metadata": {
        "id": "Xhe8enIfZ5iy"
      },
      "execution_count": null,
      "outputs": []
    },
    {
      "cell_type": "code",
      "source": [
        "x=2\n",
        "x**2"
      ],
      "metadata": {
        "colab": {
          "base_uri": "https://localhost:8080/"
        },
        "id": "TX0A0m9_Z5fz",
        "outputId": "e09284ac-d257-4b20-cb9e-afc60b487ff6"
      },
      "execution_count": null,
      "outputs": [
        {
          "output_type": "execute_result",
          "data": {
            "text/plain": [
              "4"
            ]
          },
          "metadata": {},
          "execution_count": 45
        }
      ]
    },
    {
      "cell_type": "code",
      "source": [
        "[4,2,3,4]"
      ],
      "metadata": {
        "colab": {
          "base_uri": "https://localhost:8080/"
        },
        "id": "nG30s0ULZ5cv",
        "outputId": "7406adeb-d8d2-4c91-e8df-cdb9561a3b4e"
      },
      "execution_count": null,
      "outputs": [
        {
          "output_type": "execute_result",
          "data": {
            "text/plain": [
              "[4, 2, 3, 4]"
            ]
          },
          "metadata": {},
          "execution_count": 47
        }
      ]
    },
    {
      "cell_type": "code",
      "source": [
        "x=2\n",
        "x**2\n",
        "for i in [4,2,3,4]:\n",
        "  print(i**2)"
      ],
      "metadata": {
        "colab": {
          "base_uri": "https://localhost:8080/"
        },
        "id": "pA986I_GdH3y",
        "outputId": "1dea1895-704f-49c5-cdad-e6f68ecc884b"
      },
      "execution_count": null,
      "outputs": [
        {
          "output_type": "stream",
          "name": "stdout",
          "text": [
            "16\n",
            "4\n",
            "9\n",
            "16\n"
          ]
        }
      ]
    },
    {
      "cell_type": "code",
      "source": [
        "data=np.loadtxt(\"/content/sample.txt\")\n",
        "paths=glob.glob(\"/content/*.txt\")"
      ],
      "metadata": {
        "id": "WVfM21d_d7AB"
      },
      "execution_count": null,
      "outputs": []
    },
    {
      "cell_type": "code",
      "source": [
        "paths"
      ],
      "metadata": {
        "colab": {
          "base_uri": "https://localhost:8080/"
        },
        "id": "xWixtG0efMUV",
        "outputId": "bcd14e22-a066-4e94-ccd9-b4bdf99beb5e"
      },
      "execution_count": null,
      "outputs": [
        {
          "output_type": "execute_result",
          "data": {
            "text/plain": [
              "['/content/sample file.txt',\n",
              " '/content/sample file2.txt',\n",
              " '/content/sample.txt']"
            ]
          },
          "metadata": {},
          "execution_count": 52
        }
      ]
    },
    {
      "cell_type": "code",
      "source": [
        "for i in paths:\n",
        "  data=np.loadtxt(i)\n",
        "  print(data)\n",
        "  print(\" \")"
      ],
      "metadata": {
        "colab": {
          "base_uri": "https://localhost:8080/"
        },
        "id": "AgAR3cGhd68m",
        "outputId": "6c775929-368d-44f7-f45e-e19ba97e644a"
      },
      "execution_count": null,
      "outputs": [
        {
          "output_type": "stream",
          "name": "stdout",
          "text": [
            "[[1. 2. 3.]\n",
            " [1. 2. 3.]\n",
            " [1. 2. 3.]\n",
            " [1. 2. 3.]\n",
            " [1. 2. 3.]]\n",
            " \n",
            "[[1. 2. 3. 4. 5.]\n",
            " [1. 2. 3. 4. 5.]]\n",
            " \n",
            "[[12. 45. 78. 23. 56.]\n",
            " [34. 67. 89. 12. 90.]\n",
            " [56. 21. 43. 65. 87.]\n",
            " [78. 34. 12. 89. 23.]\n",
            " [90. 11. 67. 32. 45.]\n",
            " [14. 58. 29. 71. 63.]\n",
            " [32. 84. 91. 17. 55.]\n",
            " [46. 38. 27. 66. 49.]\n",
            " [53. 72. 19. 88. 30.]\n",
            " [61. 40. 76. 35. 20.]]\n",
            " \n"
          ]
        }
      ]
    },
    {
      "cell_type": "code",
      "source": [
        "np.loadtxt(\"/content/Test.csv\", delimiter=',')"
      ],
      "metadata": {
        "colab": {
          "base_uri": "https://localhost:8080/"
        },
        "id": "N3rKNZI-d65w",
        "outputId": "ec7d84c2-113c-4d29-d547-86d84dd848de"
      },
      "execution_count": null,
      "outputs": [
        {
          "output_type": "execute_result",
          "data": {
            "text/plain": [
              "array([[ 56.,  47.,  77.,  55.,  51.],\n",
              "       [ 13.,  91.,  80.,  13.,  36.],\n",
              "       [ 62.,  67.,  47.,  55.,  38.],\n",
              "       [ 41.,  43.,  19.,  12.,  38.],\n",
              "       [ 23.,  58.,  61.,  66.,  80.],\n",
              "       [ 18.,  36.,  46.,  64.,  72.],\n",
              "       [ 33.,  47.,  73.,  76.,  47.],\n",
              "       [ 31.,  13.,  64.,  74.,  53.],\n",
              "       [ 40.,  34.,  80.,  68.,  20.],\n",
              "       [ 43.,  52.,  92.,  62.,  98.],\n",
              "       [ 21.,  99.,  71.,  32.,  86.],\n",
              "       [ 37.,  32.,  65.,  44.,  81.],\n",
              "       [ 10.,  94.,  82.,  86.,  12.],\n",
              "       [ 11.,  46.,  45.,  86.,  27.],\n",
              "       [ 55.,  13.,  91., 100.,  39.]])"
            ]
          },
          "metadata": {},
          "execution_count": 57
        }
      ]
    },
    {
      "cell_type": "code",
      "source": [
        "np.loadtxt(\"/content/Test.tsv\", delimiter='\\t')"
      ],
      "metadata": {
        "colab": {
          "base_uri": "https://localhost:8080/"
        },
        "id": "Bozol8jBg0DT",
        "outputId": "199efe41-b951-4434-92a4-95dc31389e34"
      },
      "execution_count": null,
      "outputs": [
        {
          "output_type": "stream",
          "name": "stderr",
          "text": [
            "<ipython-input-59-90fc06c35168>:1: UserWarning: loadtxt: input contained no data: \"/content/Test.tsv\"\n",
            "  np.loadtxt(\"/content/Test.tsv\", delimiter='\\t')\n"
          ]
        },
        {
          "output_type": "execute_result",
          "data": {
            "text/plain": [
              "array([], dtype=float64)"
            ]
          },
          "metadata": {},
          "execution_count": 59
        }
      ]
    },
    {
      "cell_type": "code",
      "source": [
        "data=np.random.randint(0,10,5)"
      ],
      "metadata": {
        "id": "p0WdyuQWhcyb"
      },
      "execution_count": null,
      "outputs": []
    },
    {
      "cell_type": "code",
      "source": [
        "data"
      ],
      "metadata": {
        "colab": {
          "base_uri": "https://localhost:8080/"
        },
        "id": "W2DdcE0whcv-",
        "outputId": "30263d13-0008-4cf7-fab8-3e991d66730a"
      },
      "execution_count": null,
      "outputs": [
        {
          "output_type": "execute_result",
          "data": {
            "text/plain": [
              "array([4, 5, 5, 0, 2])"
            ]
          },
          "metadata": {},
          "execution_count": 63
        }
      ]
    },
    {
      "cell_type": "code",
      "source": [
        "data.cumsum()"
      ],
      "metadata": {
        "colab": {
          "base_uri": "https://localhost:8080/"
        },
        "id": "4dnp-4Z6hcta",
        "outputId": "665384e6-8e79-48ec-9c6c-c1d1633e3fdb"
      },
      "execution_count": null,
      "outputs": [
        {
          "output_type": "execute_result",
          "data": {
            "text/plain": [
              "array([ 4,  9, 14, 14, 16])"
            ]
          },
          "metadata": {},
          "execution_count": 64
        }
      ]
    },
    {
      "cell_type": "code",
      "source": [
        "data.cumprod()"
      ],
      "metadata": {
        "colab": {
          "base_uri": "https://localhost:8080/"
        },
        "id": "dx9G5IaXhcq7",
        "outputId": "29d0c6ff-f4d3-4dd7-cfe1-43abb7ddbaec"
      },
      "execution_count": null,
      "outputs": [
        {
          "output_type": "execute_result",
          "data": {
            "text/plain": [
              "array([  4,  20, 100,   0,   0])"
            ]
          },
          "metadata": {},
          "execution_count": 65
        }
      ]
    },
    {
      "cell_type": "code",
      "source": [],
      "metadata": {
        "id": "_T7mZImLhcn_"
      },
      "execution_count": null,
      "outputs": []
    },
    {
      "cell_type": "code",
      "source": [
        "data=np.random.randint(0,10,(3,3))"
      ],
      "metadata": {
        "id": "FENRLxUqhclD"
      },
      "execution_count": null,
      "outputs": []
    },
    {
      "cell_type": "code",
      "source": [
        "data"
      ],
      "metadata": {
        "colab": {
          "base_uri": "https://localhost:8080/"
        },
        "id": "GZ_OO0UgiWH4",
        "outputId": "4e5867f6-dc8f-4d44-a4cc-ede74859ebfe"
      },
      "execution_count": null,
      "outputs": [
        {
          "output_type": "execute_result",
          "data": {
            "text/plain": [
              "array([[8, 3, 0],\n",
              "       [6, 4, 6],\n",
              "       [0, 8, 1]])"
            ]
          },
          "metadata": {},
          "execution_count": 67
        }
      ]
    },
    {
      "cell_type": "code",
      "source": [
        "data.cumsum(axis=1)"
      ],
      "metadata": {
        "colab": {
          "base_uri": "https://localhost:8080/"
        },
        "id": "rJydHLcehchu",
        "outputId": "4c1e7f14-d81b-41e2-a481-14b3182545ad"
      },
      "execution_count": null,
      "outputs": [
        {
          "output_type": "execute_result",
          "data": {
            "text/plain": [
              "array([[ 8, 11, 11],\n",
              "       [ 6, 10, 16],\n",
              "       [ 0,  8,  9]])"
            ]
          },
          "metadata": {},
          "execution_count": 68
        }
      ]
    },
    {
      "cell_type": "code",
      "source": [
        "np.ones((5,5))"
      ],
      "metadata": {
        "colab": {
          "base_uri": "https://localhost:8080/"
        },
        "id": "VwQ6kVFld62v",
        "outputId": "287936e7-e53b-4e04-a82b-ca4165b176ad"
      },
      "execution_count": null,
      "outputs": [
        {
          "output_type": "execute_result",
          "data": {
            "text/plain": [
              "array([[1., 1., 1., 1., 1.],\n",
              "       [1., 1., 1., 1., 1.],\n",
              "       [1., 1., 1., 1., 1.],\n",
              "       [1., 1., 1., 1., 1.],\n",
              "       [1., 1., 1., 1., 1.]])"
            ]
          },
          "metadata": {},
          "execution_count": 73
        }
      ]
    },
    {
      "cell_type": "code",
      "source": [
        "np.zeros(10)"
      ],
      "metadata": {
        "colab": {
          "base_uri": "https://localhost:8080/"
        },
        "id": "vvE6zGqli1iy",
        "outputId": "a833d9a8-7487-4a22-8dc4-558e3b69e9cb"
      },
      "execution_count": null,
      "outputs": [
        {
          "output_type": "execute_result",
          "data": {
            "text/plain": [
              "array([0., 0., 0., 0., 0., 0., 0., 0., 0., 0.])"
            ]
          },
          "metadata": {},
          "execution_count": 71
        }
      ]
    },
    {
      "cell_type": "code",
      "source": [
        "a=np.random.choice([10,20,30,40,50],size=3)\n",
        "a"
      ],
      "metadata": {
        "colab": {
          "base_uri": "https://localhost:8080/"
        },
        "id": "BOMkYrv7d6zj",
        "outputId": "7af05cfe-d17c-4393-d90a-c2149d814bce"
      },
      "execution_count": null,
      "outputs": [
        {
          "output_type": "execute_result",
          "data": {
            "text/plain": [
              "array([20, 20, 30])"
            ]
          },
          "metadata": {},
          "execution_count": 81
        }
      ]
    },
    {
      "cell_type": "code",
      "source": [
        "a=np.random.choice([10,20,30,40,50],size=3,replace=True)\n",
        "a"
      ],
      "metadata": {
        "colab": {
          "base_uri": "https://localhost:8080/"
        },
        "id": "diHrVvHSd6xD",
        "outputId": "41126f19-eeb3-4f6e-c302-ea3fc9a7ca4b"
      },
      "execution_count": null,
      "outputs": [
        {
          "output_type": "execute_result",
          "data": {
            "text/plain": [
              "array([50, 50, 10])"
            ]
          },
          "metadata": {},
          "execution_count": 86
        }
      ]
    },
    {
      "cell_type": "code",
      "source": [
        "a=np.random.choice([10,20,30,40,50],size=3,replace=False)\n",
        "a"
      ],
      "metadata": {
        "colab": {
          "base_uri": "https://localhost:8080/"
        },
        "id": "pm0tpR7Nd6t7",
        "outputId": "f840baa3-c956-48e5-9223-791ec6445056"
      },
      "execution_count": null,
      "outputs": [
        {
          "output_type": "execute_result",
          "data": {
            "text/plain": [
              "array([20, 30, 40])"
            ]
          },
          "metadata": {},
          "execution_count": 96
        }
      ]
    },
    {
      "cell_type": "code",
      "source": [],
      "metadata": {
        "id": "lswRNENyd6qv"
      },
      "execution_count": null,
      "outputs": []
    },
    {
      "cell_type": "code",
      "source": [],
      "metadata": {
        "id": "qXikvCs0d6nu"
      },
      "execution_count": null,
      "outputs": []
    },
    {
      "cell_type": "code",
      "source": [],
      "metadata": {
        "id": "-yuvYH5ydKrl"
      },
      "execution_count": null,
      "outputs": []
    },
    {
      "cell_type": "markdown",
      "source": [],
      "metadata": {
        "id": "FgRtg85zZ5RR"
      }
    },
    {
      "cell_type": "code",
      "source": [],
      "metadata": {
        "id": "PHoH0kZrdKxv"
      },
      "execution_count": null,
      "outputs": []
    }
  ]
}