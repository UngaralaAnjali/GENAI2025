{
  "nbformat": 4,
  "nbformat_minor": 0,
  "metadata": {
    "colab": {
      "provenance": []
    },
    "kernelspec": {
      "name": "python3",
      "display_name": "Python 3"
    },
    "language_info": {
      "name": "python"
    }
  },
  "cells": [
    {
      "cell_type": "code",
      "source": [
        "## findall  : returns list of all the matches\n",
        "## search   :  returns a match object if there match\n",
        "## split    :  it divides the string into words\n",
        "## replace  :  replace"
      ],
      "metadata": {
        "id": "-X8Wg5UUG3tT"
      },
      "execution_count": null,
      "outputs": []
    },
    {
      "cell_type": "code",
      "execution_count": 3,
      "metadata": {
        "id": "viIII3lfGk3m"
      },
      "outputs": [],
      "source": [
        "import re\n"
      ]
    },
    {
      "cell_type": "code",
      "source": [
        "re.function(pattern,string)"
      ],
      "metadata": {
        "id": "otBtKlLKHlya"
      },
      "execution_count": null,
      "outputs": []
    },
    {
      "cell_type": "code",
      "source": [
        "re.findall(r\"[abc]\",\"data science\")"
      ],
      "metadata": {
        "colab": {
          "base_uri": "https://localhost:8080/"
        },
        "id": "14A0hMq5IR7O",
        "outputId": "ec023b27-ed36-4691-99a9-525acefb9d1c"
      },
      "execution_count": 7,
      "outputs": [
        {
          "output_type": "execute_result",
          "data": {
            "text/plain": [
              "['a', 'a', 'c', 'c']"
            ]
          },
          "metadata": {},
          "execution_count": 7
        }
      ]
    },
    {
      "cell_type": "code",
      "source": [
        "print(re.findall(r\"[abc]\",\"data science\"))"
      ],
      "metadata": {
        "colab": {
          "base_uri": "https://localhost:8080/"
        },
        "id": "tkrK59C2Iso5",
        "outputId": "9f290878-8c71-42d4-b523-400ec5cd573a"
      },
      "execution_count": 8,
      "outputs": [
        {
          "output_type": "stream",
          "name": "stdout",
          "text": [
            "['a', 'a', 'c', 'c']\n"
          ]
        }
      ]
    },
    {
      "cell_type": "code",
      "source": [
        "print(re.findall(r\"[0-9]\",\"data science\"))"
      ],
      "metadata": {
        "colab": {
          "base_uri": "https://localhost:8080/"
        },
        "id": "Tcz73ibfI13s",
        "outputId": "64f92744-2d50-4529-bc6c-1a5fcf84698e"
      },
      "execution_count": 9,
      "outputs": [
        {
          "output_type": "stream",
          "name": "stdout",
          "text": [
            "[]\n"
          ]
        }
      ]
    },
    {
      "cell_type": "code",
      "source": [
        "print(re.findall(r\"[0-9]\",\"Hello123\"))"
      ],
      "metadata": {
        "colab": {
          "base_uri": "https://localhost:8080/"
        },
        "id": "Wz4tCJVaI-wQ",
        "outputId": "d9cf0ebe-f5b6-427f-8c73-afb7406d7da7"
      },
      "execution_count": 10,
      "outputs": [
        {
          "output_type": "stream",
          "name": "stdout",
          "text": [
            "['1', '2', '3']\n"
          ]
        }
      ]
    },
    {
      "cell_type": "code",
      "source": [
        "\"\".join(re.findall(r\"\\d\",\"Room 42 91-2342245\"))"
      ],
      "metadata": {
        "colab": {
          "base_uri": "https://localhost:8080/",
          "height": 35
        },
        "id": "3pdQmHquJNr2",
        "outputId": "1bcaa83b-9634-49a4-8d83-20456845b8f4"
      },
      "execution_count": 11,
      "outputs": [
        {
          "output_type": "execute_result",
          "data": {
            "text/plain": [
              "'42912342245'"
            ],
            "application/vnd.google.colaboratory.intrinsic+json": {
              "type": "string"
            }
          },
          "metadata": {},
          "execution_count": 11
        }
      ]
    },
    {
      "cell_type": "code",
      "source": [
        "re.findall(r\"\\d\",\"Room 42 91-2342245\")"
      ],
      "metadata": {
        "colab": {
          "base_uri": "https://localhost:8080/"
        },
        "id": "fubgK-ouJhQh",
        "outputId": "1baf75c8-9841-4970-8753-6bfb8b8aa92b"
      },
      "execution_count": 12,
      "outputs": [
        {
          "output_type": "execute_result",
          "data": {
            "text/plain": [
              "['4', '2', '9', '1', '2', '3', '4', '2', '2', '4', '5']"
            ]
          },
          "metadata": {},
          "execution_count": 12
        }
      ]
    },
    {
      "cell_type": "code",
      "source": [
        "re.findall(r\"\\D\",\"Room 42 91-2342245\")"
      ],
      "metadata": {
        "colab": {
          "base_uri": "https://localhost:8080/"
        },
        "id": "tLOblH-kJwkp",
        "outputId": "8469c5f9-22d9-44b8-b30d-1491031cb0fb"
      },
      "execution_count": 13,
      "outputs": [
        {
          "output_type": "execute_result",
          "data": {
            "text/plain": [
              "['R', 'o', 'o', 'm', ' ', ' ', '-']"
            ]
          },
          "metadata": {},
          "execution_count": 13
        }
      ]
    },
    {
      "cell_type": "code",
      "source": [
        "re.findall(r\"a.b\",\"acd a#b a@b a$b a!b\")"
      ],
      "metadata": {
        "colab": {
          "base_uri": "https://localhost:8080/"
        },
        "id": "_ikX8TilJwja",
        "outputId": "9b7a1104-7269-4104-aaa5-6cb10ae8c8c5"
      },
      "execution_count": 14,
      "outputs": [
        {
          "output_type": "execute_result",
          "data": {
            "text/plain": [
              "['a#b', 'a@b', 'a$b', 'a!b']"
            ]
          },
          "metadata": {},
          "execution_count": 14
        }
      ]
    },
    {
      "cell_type": "code",
      "source": [
        "re.findall(r\"^Hello\",\"Hello  \\n Hello World\",re.M)"
      ],
      "metadata": {
        "colab": {
          "base_uri": "https://localhost:8080/"
        },
        "id": "bhwNGXRXKGUe",
        "outputId": "72f8936b-8dcb-47e5-c627-bd7f785ba35d"
      },
      "execution_count": 15,
      "outputs": [
        {
          "output_type": "execute_result",
          "data": {
            "text/plain": [
              "['Hello']"
            ]
          },
          "metadata": {},
          "execution_count": 15
        }
      ]
    },
    {
      "cell_type": "code",
      "source": [
        "re.findall(r\"\\d$\",\"ID 123\")"
      ],
      "metadata": {
        "colab": {
          "base_uri": "https://localhost:8080/"
        },
        "id": "6yFGz1GQKdC0",
        "outputId": "6ec95649-56ce-42f9-ae8b-07e337141bb1"
      },
      "execution_count": 16,
      "outputs": [
        {
          "output_type": "execute_result",
          "data": {
            "text/plain": [
              "['3']"
            ]
          },
          "metadata": {},
          "execution_count": 16
        }
      ]
    },
    {
      "cell_type": "code",
      "source": [
        "re.findall(r\"d*\",\"datadatdatadatd\")"
      ],
      "metadata": {
        "colab": {
          "base_uri": "https://localhost:8080/"
        },
        "id": "7GSlfUztKq4A",
        "outputId": "efe7c20b-b663-4eba-8d79-7b453d4f49f1"
      },
      "execution_count": 17,
      "outputs": [
        {
          "output_type": "execute_result",
          "data": {
            "text/plain": [
              "['d', '', '', '', 'd', '', '', 'd', '', '', '', 'd', '', '', 'd', '']"
            ]
          },
          "metadata": {},
          "execution_count": 17
        }
      ]
    },
    {
      "cell_type": "code",
      "source": [
        "re.findall(r\"lo?\",\"look low lion\")"
      ],
      "metadata": {
        "colab": {
          "base_uri": "https://localhost:8080/"
        },
        "id": "AoT9fIDrKqzY",
        "outputId": "0cc1c0e1-58ef-44d2-e5d9-4790c15ee635"
      },
      "execution_count": 18,
      "outputs": [
        {
          "output_type": "execute_result",
          "data": {
            "text/plain": [
              "['lo', 'lo', 'l']"
            ]
          },
          "metadata": {},
          "execution_count": 18
        }
      ]
    },
    {
      "cell_type": "code",
      "source": [
        "re.findall(r\"a{2}\",\"a aa aaa\")"
      ],
      "metadata": {
        "colab": {
          "base_uri": "https://localhost:8080/"
        },
        "id": "ag5u9pzsKqxt",
        "outputId": "267d55d3-7392-470e-b133-b014a66b3688"
      },
      "execution_count": 19,
      "outputs": [
        {
          "output_type": "execute_result",
          "data": {
            "text/plain": [
              "['aa', 'aa']"
            ]
          },
          "metadata": {},
          "execution_count": 19
        }
      ]
    },
    {
      "cell_type": "code",
      "source": [
        "re.findall(r\"\\d{3}\",\"123 4567 89 000\")"
      ],
      "metadata": {
        "colab": {
          "base_uri": "https://localhost:8080/"
        },
        "id": "YjDoWnmPLb39",
        "outputId": "2bef3828-86d7-462e-95fb-1eaf55505875"
      },
      "execution_count": 20,
      "outputs": [
        {
          "output_type": "execute_result",
          "data": {
            "text/plain": [
              "['123', '456', '000']"
            ]
          },
          "metadata": {},
          "execution_count": 20
        }
      ]
    },
    {
      "cell_type": "code",
      "source": [
        "re.findall(r\"apple|banana\",\"apple banana\")"
      ],
      "metadata": {
        "colab": {
          "base_uri": "https://localhost:8080/"
        },
        "id": "eMdIKWdJLb2k",
        "outputId": "92ab01f4-dc26-49b3-cdb5-9b5a004535f2"
      },
      "execution_count": 21,
      "outputs": [
        {
          "output_type": "execute_result",
          "data": {
            "text/plain": [
              "['apple', 'banana']"
            ]
          },
          "metadata": {},
          "execution_count": 21
        }
      ]
    },
    {
      "cell_type": "code",
      "source": [
        "re.findall(r\"yes|no\",\"yes\")"
      ],
      "metadata": {
        "colab": {
          "base_uri": "https://localhost:8080/"
        },
        "id": "5KbuqODHL2-A",
        "outputId": "f21b871a-e9bc-446a-805e-a2e5e5bfa389"
      },
      "execution_count": 22,
      "outputs": [
        {
          "output_type": "execute_result",
          "data": {
            "text/plain": [
              "['yes']"
            ]
          },
          "metadata": {},
          "execution_count": 22
        }
      ]
    },
    {
      "cell_type": "code",
      "source": [
        "reviews = [\n",
        "    \"I bought this on 10/07/2025, and it's amazing! 123\",\n",
        "    \"Email me at user123@example.com for more info.\",\n",
        "    \"The phone number is 987-654-3210, call anytime.\",\n",
        "    \"This product is well-made and state-of-the-art!\",\n",
        "    \"Worst. Experience. Ever. 👎 So bad I said bad twice. bad bad.\"\n",
        "]\n"
      ],
      "metadata": {
        "id": "vIv2nD4QL28s"
      },
      "execution_count": 24,
      "outputs": []
    },
    {
      "cell_type": "code",
      "source": [
        "[len(i) for i in reviews]"
      ],
      "metadata": {
        "colab": {
          "base_uri": "https://localhost:8080/"
        },
        "id": "Iqq7oJEYMgrO",
        "outputId": "e65b64de-de74-4b32-cb64-3cdff6295d20"
      },
      "execution_count": 25,
      "outputs": [
        {
          "output_type": "execute_result",
          "data": {
            "text/plain": [
              "[50, 46, 47, 47, 60]"
            ]
          },
          "metadata": {},
          "execution_count": 25
        }
      ]
    },
    {
      "cell_type": "code",
      "source": [
        "[len(i.split()) for i in reviews]"
      ],
      "metadata": {
        "colab": {
          "base_uri": "https://localhost:8080/"
        },
        "id": "Ri_RTfE1Mu5L",
        "outputId": "4328914a-4347-4774-c9b3-0428001b4e04"
      },
      "execution_count": 26,
      "outputs": [
        {
          "output_type": "execute_result",
          "data": {
            "text/plain": [
              "[9, 7, 7, 6, 12]"
            ]
          },
          "metadata": {},
          "execution_count": 26
        }
      ]
    },
    {
      "cell_type": "code",
      "source": [
        "reviews"
      ],
      "metadata": {
        "colab": {
          "base_uri": "https://localhost:8080/"
        },
        "id": "iRwbmX1eMu3t",
        "outputId": "87aacade-a3c0-44ff-80d0-f8e503d31c9b"
      },
      "execution_count": 27,
      "outputs": [
        {
          "output_type": "execute_result",
          "data": {
            "text/plain": [
              "[\"I bought this on 10/07/2025, and it's amazing! 123\",\n",
              " 'Email me at user123@example.com for more info.',\n",
              " 'The phone number is 987-654-3210, call anytime.',\n",
              " 'This product is well-made and state-of-the-art!',\n",
              " 'Worst. Experience. Ever. 👎 So bad I said bad twice. bad bad.']"
            ]
          },
          "metadata": {},
          "execution_count": 27
        }
      ]
    },
    {
      "cell_type": "code",
      "source": [
        "reviews = [\n",
        "    \"I bought this on 10/07/2025, and it's amazing! 123\",\n",
        "    \"# Email me at user123@example.com for more info.\",\n",
        "    \"The phone number is 987-654-3210, call anytime.\",\n",
        "    \"This product is well-made and state-of-the-art!\",\n",
        "    \"Worst. Experience. Ever. 👎 So bad I said bad twice. bad bad.\"\n",
        "]\n"
      ],
      "metadata": {
        "id": "g_GddgDTM6fg"
      },
      "execution_count": 28,
      "outputs": []
    },
    {
      "cell_type": "code",
      "source": [
        "for i in reviews:\n",
        "  print(re.findall(r\"\\d{2}/\\d{2}/\\d{4}\", i))"
      ],
      "metadata": {
        "colab": {
          "base_uri": "https://localhost:8080/"
        },
        "id": "TlLsRswQM6a0",
        "outputId": "67816da1-0b70-44d5-a378-8ddf02da8c88"
      },
      "execution_count": 29,
      "outputs": [
        {
          "output_type": "stream",
          "name": "stdout",
          "text": [
            "['10/07/2025']\n",
            "[]\n",
            "[]\n",
            "[]\n",
            "[]\n"
          ]
        }
      ]
    },
    {
      "cell_type": "code",
      "source": [
        "for i in reviews:\n",
        "  print(re.sub(r\"\\d+\", \"\", i))"
      ],
      "metadata": {
        "colab": {
          "base_uri": "https://localhost:8080/"
        },
        "id": "dGB-nY6vM6Zi",
        "outputId": "95b28333-2e51-4207-955b-9fd8ec36e808"
      },
      "execution_count": 30,
      "outputs": [
        {
          "output_type": "stream",
          "name": "stdout",
          "text": [
            "I bought this on //, and it's amazing! \n",
            "# Email me at user@example.com for more info.\n",
            "The phone number is --, call anytime.\n",
            "This product is well-made and state-of-the-art!\n",
            "Worst. Experience. Ever. 👎 So bad I said bad twice. bad bad.\n"
          ]
        }
      ]
    },
    {
      "cell_type": "code",
      "source": [
        "for i in reviews:\n",
        "  print(re.sub(r\"[^\\w\\s]\", \"\", i))"
      ],
      "metadata": {
        "colab": {
          "base_uri": "https://localhost:8080/"
        },
        "id": "ArxASRq3NJ8y",
        "outputId": "d61fde77-1969-4918-b584-3464fb0588b8"
      },
      "execution_count": 31,
      "outputs": [
        {
          "output_type": "stream",
          "name": "stdout",
          "text": [
            "I bought this on 10072025 and its amazing 123\n",
            " Email me at user123examplecom for more info\n",
            "The phone number is 9876543210 call anytime\n",
            "This product is wellmade and stateoftheart\n",
            "Worst Experience Ever  So bad I said bad twice bad bad\n"
          ]
        }
      ]
    }
  ]
}