{
  "cells": [
    {
      "cell_type": "code",
      "execution_count": null,
      "metadata": {
        "id": "-mzUGO70iwrq"
      },
      "outputs": [],
      "source": [
        "### Encapsulation\n",
        "in encapsulation we are trying to num;de data attributes and methods into a single unit class restrictions will be implemented on top the classes"
      ]
    },
    {
      "cell_type": "code",
      "execution_count": null,
      "metadata": {
        "id": "FmENEBGniwoL"
      },
      "outputs": [],
      "source": [
        "### Encapsulation\n",
        "### public variabel\n",
        "### protected_\n",
        "### private"
      ]
    },
    {
      "cell_type": "code",
      "execution_count": null,
      "metadata": {
        "colab": {
          "base_uri": "https://localhost:8080/"
        },
        "id": "hkISrKKwiwmT",
        "outputId": "e1c81cf6-3652-47c4-97d7-a294c5837091"
      },
      "outputs": [
        {
          "name": "stdout",
          "output_type": "stream",
          "text": [
            "Toyota\n"
          ]
        }
      ],
      "source": [
        "# Example 1\n",
        "class Car:\n",
        "    def __init__(self):\n",
        "        self.brand = \"Toyota\"\n",
        "\n",
        "c = Car()\n",
        "print(c.brand)  # Accessing public variable"
      ]
    },
    {
      "cell_type": "code",
      "execution_count": null,
      "metadata": {
        "colab": {
          "base_uri": "https://localhost:8080/"
        },
        "id": "fSAyTt2Miwju",
        "outputId": "f46ab5a1-dece-4e5c-c25c-0d47732d0cfe"
      },
      "outputs": [
        {
          "name": "stdout",
          "output_type": "stream",
          "text": [
            "16GB\n"
          ]
        }
      ],
      "source": [
        "class Laptop:\n",
        "    def __init__(self):\n",
        "        self.ram = \"16GB\"\n",
        "\n",
        "l = Laptop()\n",
        "print(l.ram)"
      ]
    },
    {
      "cell_type": "code",
      "execution_count": null,
      "metadata": {
        "colab": {
          "base_uri": "https://localhost:8080/"
        },
        "id": "3YoJ-JBtiwhc",
        "outputId": "cca54018-692b-426b-eb2d-c74236d9a891"
      },
      "outputs": [
        {
          "name": "stdout",
          "output_type": "stream",
          "text": [
            "50000\n"
          ]
        }
      ],
      "source": [
        "class Employee:\n",
        "    def __init__(self):\n",
        "        self._salary = 50000\n",
        "\n",
        "e = Employee()\n",
        "print(e._salary)  # Technically accessible, but not recommended"
      ]
    },
    {
      "cell_type": "code",
      "execution_count": null,
      "metadata": {
        "colab": {
          "base_uri": "https://localhost:8080/"
        },
        "id": "eUGbzpj_iwe7",
        "outputId": "c916f98e-adb7-48be-ab6f-2455ae7cd9db"
      },
      "outputs": [
        {
          "name": "stdout",
          "output_type": "stream",
          "text": [
            "MED12345\n"
          ]
        }
      ],
      "source": [
        "class Doctor:\n",
        "    def __init__(self):\n",
        "        self._license_number = \"MED12345\"\n",
        "\n",
        "d = Doctor()\n",
        "print(d._license_number)"
      ]
    },
    {
      "cell_type": "code",
      "execution_count": null,
      "metadata": {
        "id": "_H3QqOBsiway"
      },
      "outputs": [],
      "source": [
        "class Employee:\n",
        "    def __init__(self):\n",
        "        self._salary = 75000\n",
        "\n",
        "e = Employee()"
      ]
    },
    {
      "cell_type": "code",
      "execution_count": null,
      "metadata": {
        "colab": {
          "base_uri": "https://localhost:8080/"
        },
        "id": "uxe0g2V7iwYx",
        "outputId": "327b5efa-b93a-4edb-a20f-a6e6931fb640"
      },
      "outputs": [
        {
          "data": {
            "text/plain": [
              "75000"
            ]
          },
          "execution_count": 6,
          "metadata": {},
          "output_type": "execute_result"
        }
      ],
      "source": [
        "e._salary"
      ]
    },
    {
      "cell_type": "code",
      "execution_count": null,
      "metadata": {
        "colab": {
          "base_uri": "https://localhost:8080/",
          "height": 176
        },
        "id": "D8mO0bRaiwWU",
        "outputId": "c4412a62-e7e2-41c0-d6bf-048e89e7d8ba"
      },
      "outputs": [
        {
          "ename": "AttributeError",
          "evalue": "'Laptop' object has no attribute '__serial_number'",
          "output_type": "error",
          "traceback": [
            "\u001b[0;31m---------------------------------------------------------------------------\u001b[0m",
            "\u001b[0;31mAttributeError\u001b[0m                            Traceback (most recent call last)",
            "\u001b[0;32m/tmp/ipython-input-7-249096993.py\u001b[0m in \u001b[0;36m<cell line: 0>\u001b[0;34m()\u001b[0m\n\u001b[1;32m      4\u001b[0m \u001b[0;34m\u001b[0m\u001b[0m\n\u001b[1;32m      5\u001b[0m \u001b[0ml\u001b[0m \u001b[0;34m=\u001b[0m \u001b[0mLaptop\u001b[0m\u001b[0;34m(\u001b[0m\u001b[0;34m)\u001b[0m\u001b[0;34m\u001b[0m\u001b[0;34m\u001b[0m\u001b[0m\n\u001b[0;32m----> 6\u001b[0;31m \u001b[0ml\u001b[0m\u001b[0;34m.\u001b[0m\u001b[0m__serial_number\u001b[0m\u001b[0;34m\u001b[0m\u001b[0;34m\u001b[0m\u001b[0m\n\u001b[0m",
            "\u001b[0;31mAttributeError\u001b[0m: 'Laptop' object has no attribute '__serial_number'"
          ]
        }
      ],
      "source": [
        "class Laptop:\n",
        "    def __init__(self):\n",
        "        self.__serial_number = \"SN-987654\"\n",
        "\n",
        "l = Laptop()\n",
        "l.__serial_number"
      ]
    },
    {
      "cell_type": "code",
      "execution_count": null,
      "metadata": {
        "id": "Ttmk17QfiwTi"
      },
      "outputs": [],
      "source": []
    },
    {
      "cell_type": "code",
      "execution_count": null,
      "metadata": {
        "id": "LqceixytNbeO"
      },
      "outputs": [],
      "source": [
        "class BankAccount:\n",
        "    def __init__(self, holder_name, balance, pin):\n",
        "        self._holder_name = holder_name          # protected\n",
        "        self.__balance = balance                 # private\n",
        "        self.__pin = pin                         # private\n",
        "   ### 100, 300 --->400\n",
        "    def deposit(self, amount):\n",
        "        if amount > 0:\n",
        "            self.__balance += amount\n",
        "   ### 400--->300\n",
        "    def withdraw(self, amount, pin):\n",
        "        if pin == self.__pin and amount <= self.__balance:\n",
        "            self.__balance -= amount\n",
        "            return amount\n",
        "        else:\n",
        "            return \"Invalid pin or insufficient funds\"\n",
        "\n",
        "    def get_balance(self, pin):\n",
        "        return self.__balance if pin == self.__pin else \"Access Denied\""
      ]
    },
    {
      "cell_type": "code",
      "execution_count": null,
      "metadata": {
        "colab": {
          "base_uri": "https://localhost:8080/",
          "height": 35
        },
        "id": "q6xML6QZir7c",
        "outputId": "8d1936d5-7df3-42dc-8736-7a1201e449e7"
      },
      "outputs": [
        {
          "data": {
            "application/vnd.google.colaboratory.intrinsic+json": {
              "type": "string"
            },
            "text/plain": [
              "'Student1'"
            ]
          },
          "execution_count": 9,
          "metadata": {},
          "output_type": "execute_result"
        }
      ],
      "source": [
        "object1=BankAccount(\"Student1\",5000,1000)\n",
        "object1._holder_name"
      ]
    },
    {
      "cell_type": "code",
      "execution_count": null,
      "metadata": {
        "colab": {
          "base_uri": "https://localhost:8080/"
        },
        "id": "-7vxCh14it0Y",
        "outputId": "1a834cab-d7f6-4dc9-caeb-8301c0959c59"
      },
      "outputs": [
        {
          "data": {
            "text/plain": [
              "5000"
            ]
          },
          "execution_count": 10,
          "metadata": {},
          "output_type": "execute_result"
        }
      ],
      "source": [
        "object1.get_balance(1000)"
      ]
    },
    {
      "cell_type": "code",
      "execution_count": null,
      "metadata": {
        "id": "GSLnbgNYitwy"
      },
      "outputs": [],
      "source": [
        "object1.deposit(300)"
      ]
    },
    {
      "cell_type": "code",
      "execution_count": null,
      "metadata": {
        "colab": {
          "base_uri": "https://localhost:8080/"
        },
        "id": "zzVa1KsxituQ",
        "outputId": "53f6a88d-0713-4450-bd47-735a192a9459"
      },
      "outputs": [
        {
          "data": {
            "text/plain": [
              "5300"
            ]
          },
          "execution_count": 12,
          "metadata": {},
          "output_type": "execute_result"
        }
      ],
      "source": [
        "object1.get_balance(1000)"
      ]
    },
    {
      "cell_type": "code",
      "execution_count": null,
      "metadata": {
        "id": "sFnp-spditsM"
      },
      "outputs": [],
      "source": []
    },
    {
      "cell_type": "code",
      "execution_count": null,
      "metadata": {
        "colab": {
          "base_uri": "https://localhost:8080/",
          "height": 35
        },
        "id": "eGqyohmCT9rb",
        "outputId": "1e5a14d2-bd1d-4ae1-a9f5-15662ba8ba12"
      },
      "outputs": [
        {
          "data": {
            "application/vnd.google.colaboratory.intrinsic+json": {
              "type": "string"
            },
            "text/plain": [
              "'Student: Student1, Average: 80.0'"
            ]
          },
          "execution_count": 13,
          "metadata": {},
          "output_type": "execute_result"
        }
      ],
      "source": [
        "class Student:\n",
        "    def __init__(self, name):\n",
        "        self._name = name                     # protected\n",
        "        self.__grades = {}                    # private dictionary\n",
        "\n",
        "    def add_grade(self, subject, grade):\n",
        "        self.__grades[subject] = grade\n",
        "\n",
        "    def _average(self):                       # protected method\n",
        "        return sum(self.__grades.values()) / len(self.__grades)\n",
        "\n",
        "    def get_report(self):\n",
        "        return f\"Student: {self._name}, Average: {self._average()}\"\n",
        "\n",
        "object1=Student(\"Student1\")\n",
        "object1.add_grade(\"science\",80)\n",
        "object1.add_grade(\"maths\",80)\n",
        "object1.add_grade(\"computers\",80)\n",
        "object1.get_report()"
      ]
    },
    {
      "cell_type": "code",
      "execution_count": null,
      "metadata": {
        "id": "5414Q4n3itp4"
      },
      "outputs": [],
      "source": []
    },
    {
      "cell_type": "code",
      "execution_count": null,
      "metadata": {
        "colab": {
          "base_uri": "https://localhost:8080/"
        },
        "id": "okioIwZMT9ot",
        "outputId": "4b4a0005-e908-4586-c84c-df74c66cd738"
      },
      "outputs": [
        {
          "name": "stdout",
          "output_type": "stream",
          "text": [
            "Student: Student2, Average: 60.0\n",
            "{'science': 80, 'maths': 80, 'computers': 80, 'science1': 20, 'maths1': 20, 'computers1': 80}\n"
          ]
        }
      ],
      "source": [
        "class Student:\n",
        "    def __init__(self, name):\n",
        "        self._name = name                     # protected\n",
        "        self.__grades = {}                    # private dictionary\n",
        "\n",
        "    def add_grade(self, subject, grade):\n",
        "        self.__grades[subject] = grade\n",
        "\n",
        "    def _average(self):                       # protected method\n",
        "        return sum(self.__grades.values()) / len(self.__grades)\n",
        "\n",
        "    def get_report(self):\n",
        "        return f\"Student: {self._name}, Average: {self._average()}\"\n",
        "\n",
        "    def get_grades(self):  # Public method to access grades\n",
        "        return self.__grades\n",
        "\n",
        "object1=Student(\"Student1\")\n",
        "object1=Student(\"Student2\")\n",
        "object1.add_grade(\"science\",80)\n",
        "object1.add_grade(\"maths\",80)\n",
        "object1.add_grade(\"computers\",80)\n",
        "object1.add_grade(\"science1\",20)\n",
        "object1.add_grade(\"maths1\",20)\n",
        "object1.add_grade(\"computers1\",80)\n",
        "print(object1.get_report())\n",
        "print(object1.get_grades()) # Accessing grades using the new method"
      ]
    },
    {
      "cell_type": "code",
      "execution_count": null,
      "metadata": {
        "id": "kryC7G-Litnd"
      },
      "outputs": [],
      "source": [
        "### Abstraction : we will implemet a class with internal details\n",
        "\n",
        "### we will be hiding the internal implementation of methods\n",
        "### and showing only essential featues of an object\n",
        "\n",
        "#### reduce the xomplexity and increase code reusablitiy"
      ]
    },
    {
      "cell_type": "code",
      "execution_count": null,
      "metadata": {
        "id": "x7iO-c4xitlS"
      },
      "outputs": [],
      "source": []
    },
    {
      "cell_type": "code",
      "execution_count": null,
      "metadata": {
        "id": "OOQY5dONT9iy"
      },
      "outputs": [],
      "source": [
        "from abc import ABC, abstractmethod\n",
        "\n",
        "class Payment(ABC):\n",
        "    @abstractmethod\n",
        "    def pay(self, amount,interest):\n",
        "        pass\n",
        "\n",
        "class CreditCard(Payment):\n",
        "    def pay(self, amount):\n",
        "        print(f\"Paid ₹{amount} using Credit Card\")\n",
        "\n",
        "class UPI(Payment):\n",
        "    def pay(self, amount):\n",
        "        print(f\"Paid ₹{amount} using UPI\")"
      ]
    },
    {
      "cell_type": "code",
      "execution_count": null,
      "metadata": {
        "colab": {
          "base_uri": "https://localhost:8080/"
        },
        "id": "5o7e-2f-itjL",
        "outputId": "8e5a8719-7e34-4a20-cbc5-71080767e78b"
      },
      "outputs": [
        {
          "name": "stdout",
          "output_type": "stream",
          "text": [
            "Paid ₹1000 using Credit Card\n",
            "Paid ₹500 using UPI\n"
          ]
        }
      ],
      "source": [
        "\n",
        "p1 = CreditCard()\n",
        "p1.pay(1000)\n",
        "\n",
        "p2 = UPI()\n",
        "p2.pay(500)"
      ]
    },
    {
      "cell_type": "code",
      "execution_count": null,
      "metadata": {
        "id": "7k-rHL4yitgt"
      },
      "outputs": [],
      "source": [
        "### Exception handlings"
      ]
    },
    {
      "cell_type": "code",
      "execution_count": null,
      "metadata": {
        "colab": {
          "base_uri": "https://localhost:8080/"
        },
        "id": "fV2YMyuZitcU",
        "outputId": "b81c5a73-7037-4d43-bb2a-d94dcef73b45"
      },
      "outputs": [
        {
          "name": "stdout",
          "output_type": "stream",
          "text": [
            "test\n"
          ]
        }
      ],
      "source": [
        "try :\n",
        "  print(2+\"3\")\n",
        "except:\n",
        "  print(\"test\")"
      ]
    },
    {
      "cell_type": "code",
      "execution_count": null,
      "metadata": {
        "colab": {
          "base_uri": "https://localhost:8080/"
        },
        "id": "KOWt-sukitaY",
        "outputId": "d1582051-f730-454e-f469-5f6d1e3f949c"
      },
      "outputs": [
        {
          "name": "stdout",
          "output_type": "stream",
          "text": [
            "Cannot divide by zero!\n"
          ]
        }
      ],
      "source": [
        "try:\n",
        "    result = 10 / 0\n",
        "except ZeroDivisionError:\n",
        "    print(\"Cannot divide by zero!\")"
      ]
    },
    {
      "cell_type": "code",
      "execution_count": null,
      "metadata": {
        "colab": {
          "base_uri": "https://localhost:8080/"
        },
        "id": "_zq6NwAIitX5",
        "outputId": "71be8949-95aa-400c-839f-fbbe1f77e8dc"
      },
      "outputs": [
        {
          "name": "stdout",
          "output_type": "stream",
          "text": [
            "File not found.\n"
          ]
        }
      ],
      "source": [
        "try:\n",
        "    with open(\"/content/sample1.txt\", \"r\") as f:\n",
        "        content = f.read()\n",
        "        print(content)\n",
        "except FileNotFoundError:\n",
        "    print(\"File not found.\")"
      ]
    },
    {
      "cell_type": "code",
      "execution_count": null,
      "metadata": {
        "colab": {
          "base_uri": "https://localhost:8080/"
        },
        "id": "yGv6YpMZitVQ",
        "outputId": "fb650c50-50c3-4bac-e34d-1b4b180ca330"
      },
      "outputs": [
        {
          "name": "stdout",
          "output_type": "stream",
          "text": [
            "Invalid number format.\n"
          ]
        }
      ],
      "source": [
        "try:\n",
        "    number = float(\"abc\")\n",
        "    print(number)\n",
        "except ValueError:\n",
        "    print(\"Invalid number format.\")"
      ]
    },
    {
      "cell_type": "code",
      "execution_count": null,
      "metadata": {
        "colab": {
          "base_uri": "https://localhost:8080/"
        },
        "id": "chlAnB10itQf",
        "outputId": "1fbc73d1-2495-4b41-a962-04aee3ff2e66"
      },
      "outputs": [
        {
          "name": "stdout",
          "output_type": "stream",
          "text": [
            "Index out of range.\n"
          ]
        }
      ],
      "source": [
        "try:\n",
        "    items = [1, 2, 3]\n",
        "    print(items[5])\n",
        "except IndexError:\n",
        "    print(\"Index out of range.\")"
      ]
    },
    {
      "cell_type": "code",
      "execution_count": null,
      "metadata": {
        "id": "RslXmUWMitJR"
      },
      "outputs": [],
      "source": []
    },
    {
      "cell_type": "code",
      "execution_count": null,
      "metadata": {
        "colab": {
          "base_uri": "https://localhost:8080/"
        },
        "id": "WOeTwcYLl4eZ",
        "outputId": "c1e654ab-9743-4342-b566-e770855c048b"
      },
      "outputs": [
        {
          "name": "stdout",
          "output_type": "stream",
          "text": [
            "Alice\n"
          ]
        }
      ],
      "source": [
        "try:\n",
        "    data = {\"name\": \"Alice\"}\n",
        "    print(data[\"name\"])\n",
        "except KeyError:\n",
        "    print(\"Key not found in dictionary.\")"
      ]
    },
    {
      "cell_type": "code",
      "execution_count": null,
      "metadata": {
        "colab": {
          "base_uri": "https://localhost:8080/"
        },
        "id": "Ij5_khEOl4cC",
        "outputId": "97068b9a-d3be-41b4-bbe4-acf47021b437"
      },
      "outputs": [
        {
          "name": "stdout",
          "output_type": "stream",
          "text": [
            "Invalid attribute for the object.\n"
          ]
        }
      ],
      "source": [
        "try:\n",
        "    x = 5\n",
        "    x.append(2)\n",
        "except AttributeError:\n",
        "    print(\"Invalid attribute for the object.\")\n"
      ]
    },
    {
      "cell_type": "code",
      "execution_count": null,
      "metadata": {
        "colab": {
          "base_uri": "https://localhost:8080/"
        },
        "id": "6ZLOYjBOl4ZQ",
        "outputId": "b14329f3-787b-4f84-87de-d0b4a6eccfa6"
      },
      "outputs": [
        {
          "name": "stdout",
          "output_type": "stream",
          "text": [
            "Caught an error: invalid literal for int() with base 10: 'abc'\n"
          ]
        }
      ],
      "source": [
        "try:\n",
        "    value = int(\"abc\")\n",
        "    result = 10 / 0\n",
        "except (ValueError, ZeroDivisionError) as e:\n",
        "    print(\"Caught an error:\", e)"
      ]
    },
    {
      "cell_type": "code",
      "execution_count": null,
      "metadata": {
        "id": "oGV2wblJl4XH"
      },
      "outputs": [],
      "source": [
        "try:\n",
        "    number = int(\"100\")\n",
        "except ValueError:\n",
        "    print(\"Conversion failed.\")\n",
        "else:\n",
        "    print(\"Conversion successful:\", number)"
      ]
    },
    {
      "cell_type": "code",
      "execution_count": null,
      "metadata": {
        "colab": {
          "base_uri": "https://localhost:8080/"
        },
        "id": "wiKE0hG7l4T7",
        "outputId": "557e28c7-7a42-4a10-8123-3ec5aa128785"
      },
      "outputs": [
        {
          "name": "stdout",
          "output_type": "stream",
          "text": [
            "File not found.\n",
            "Execution complete.\n"
          ]
        }
      ],
      "source": [
        "try:\n",
        "    f = open(\"sample.txt\", \"r\")\n",
        "    data = f.read()\n",
        "except FileNotFoundError:\n",
        "    print(\"File not found.\")\n",
        "finally:\n",
        "    print(\"Execution complete.\")"
      ]
    },
    {
      "cell_type": "code",
      "execution_count": null,
      "metadata": {
        "colab": {
          "base_uri": "https://localhost:8080/"
        },
        "id": "PZiPsbm_l4RG",
        "outputId": "3905eda6-573e-4baf-8d5b-e8e4e67b6b51"
      },
      "outputs": [
        {
          "name": "stdout",
          "output_type": "stream",
          "text": [
            "Divide by zero error\n",
            "Done with division\n"
          ]
        }
      ],
      "source": [
        "try:\n",
        "    result = 10 / 0\n",
        "except ZeroDivisionError:\n",
        "    print(\"Divide by zero error\")\n",
        "else:\n",
        "    print(\"Result:\", result)\n",
        "finally:\n",
        "    print(\"Done with division\")"
      ]
    },
    {
      "cell_type": "code",
      "execution_count": null,
      "metadata": {
        "colab": {
          "base_uri": "https://localhost:8080/"
        },
        "id": "Iq-MxIiEl4OT",
        "outputId": "bdac7643-ade5-451b-b42a-4eb9e48bd91c"
      },
      "outputs": [
        {
          "name": "stdout",
          "output_type": "stream",
          "text": [
            "Index out of range\n",
            "List operation done\n"
          ]
        }
      ],
      "source": [
        "try:\n",
        "    lst = [1, 2]\n",
        "    print(lst[5])\n",
        "except IndexError:\n",
        "    print(\"Index out of range\")\n",
        "else:\n",
        "    print(\"List item accessed\")\n",
        "finally:\n",
        "    print(\"List operation done\")"
      ]
    },
    {
      "cell_type": "code",
      "execution_count": null,
      "metadata": {
        "colab": {
          "background_save": true
        },
        "id": "Y7dRw9u5l4L6",
        "outputId": "c7d945b3-828b-415f-f254-08b017293056"
      },
      "outputs": [
        {
          "data": {
            "application/vnd.google.colaboratory.intrinsic+json": {
              "type": "string"
            },
            "text/plain": [
              "'invalidinvalid'"
            ]
          },
          "execution_count": 30,
          "metadata": {},
          "output_type": "execute_result"
        }
      ],
      "source": [
        "\"invalid\"*2"
      ]
    },
    {
      "cell_type": "code",
      "execution_count": null,
      "metadata": {
        "colab": {
          "background_save": true
        },
        "id": "2yL9-f5il4JL",
        "outputId": "2af20323-6760-497e-aef8-b7f7d9e823ab"
      },
      "outputs": [
        {
          "name": "stdout",
          "output_type": "stream",
          "text": [
            "2\n",
            "4\n",
            "6\n",
            "8\n",
            "ii\n",
            "nn\n",
            "vv\n",
            "aa\n",
            "ll\n",
            "ii\n",
            "dd\n"
          ]
        }
      ],
      "source": []
    },
    {
      "cell_type": "code",
      "execution_count": null,
      "metadata": {
        "id": "xk4OuiGfl4Gt"
      },
      "outputs": [],
      "source": []
    },
    {
      "cell_type": "code",
      "execution_count": null,
      "metadata": {
        "id": "pg5ccZrvl4D6"
      },
      "outputs": [],
      "source": []
    },
    {
      "cell_type": "code",
      "execution_count": null,
      "metadata": {
        "id": "CQpNyCull4Bj"
      },
      "outputs": [],
      "source": []
    }
  ],
  "metadata": {
    "colab": {
      "provenance": []
    },
    "kernelspec": {
      "display_name": "Python 3",
      "name": "python3"
    },
    "language_info": {
      "name": "python"
    }
  },
  "nbformat": 4,
  "nbformat_minor": 0
}