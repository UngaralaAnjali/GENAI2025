{
  "nbformat": 4,
  "nbformat_minor": 0,
  "metadata": {
    "colab": {
      "provenance": []
    },
    "kernelspec": {
      "name": "python3",
      "display_name": "Python 3"
    },
    "language_info": {
      "name": "python"
    }
  },
  "cells": [
    {
      "cell_type": "code",
      "execution_count": 4,
      "metadata": {
        "colab": {
          "base_uri": "https://localhost:8080/"
        },
        "id": "Usessv9oY7WW",
        "outputId": "e5363713-01aa-4d1f-e36f-324fcfb2b5bf"
      },
      "outputs": [
        {
          "output_type": "stream",
          "name": "stdout",
          "text": [
            "addition\n"
          ]
        }
      ],
      "source": [
        "def add():\n",
        "  print(\"addition\")\n",
        "add()"
      ]
    },
    {
      "cell_type": "code",
      "source": [
        "def add(a,b):\n",
        "  print(\"addition\",a+b)\n",
        "add(\"data\",str(20))\n"
      ],
      "metadata": {
        "colab": {
          "base_uri": "https://localhost:8080/"
        },
        "id": "ncwCaLzIZNOf",
        "outputId": "107396ef-d761-4cf2-fae1-d7e71f5cb6e7"
      },
      "execution_count": 6,
      "outputs": [
        {
          "output_type": "stream",
          "name": "stdout",
          "text": [
            "addition data20\n"
          ]
        }
      ]
    },
    {
      "cell_type": "code",
      "source": [
        "def function(a,b):\n",
        "  return a+b\n",
        "  print('test')\n",
        "x=function(10,20)\n",
        "x"
      ],
      "metadata": {
        "colab": {
          "base_uri": "https://localhost:8080/"
        },
        "id": "Es6ELG-GZsrs",
        "outputId": "3f006a39-8298-4078-cf0d-e6b36ca02b78"
      },
      "execution_count": 8,
      "outputs": [
        {
          "output_type": "execute_result",
          "data": {
            "text/plain": [
              "30"
            ]
          },
          "metadata": {},
          "execution_count": 8
        }
      ]
    },
    {
      "cell_type": "code",
      "source": [
        "def even_or_odd(x):\n",
        "  if x%2==0:\n",
        "    return \"Even\"\n",
        "  else:\n",
        "    return \"odd\"\n",
        "even_or_odd(20)"
      ],
      "metadata": {
        "colab": {
          "base_uri": "https://localhost:8080/",
          "height": 36
        },
        "id": "HiSsGRsbaEQe",
        "outputId": "7539fdf0-2f41-46cc-b158-3aea476ebcc0"
      },
      "execution_count": 10,
      "outputs": [
        {
          "output_type": "execute_result",
          "data": {
            "text/plain": [
              "'Even'"
            ],
            "application/vnd.google.colaboratory.intrinsic+json": {
              "type": "string"
            }
          },
          "metadata": {},
          "execution_count": 10
        }
      ]
    },
    {
      "cell_type": "code",
      "source": [
        "def x(a,b,c):\n",
        "  if a >= b and a>=c:\n",
        "    return a\n",
        "  elif b>=a and b>=c:\n",
        "    return b\n",
        "  else:\n",
        "    return c\n",
        "x(10, 20,30)"
      ],
      "metadata": {
        "colab": {
          "base_uri": "https://localhost:8080/"
        },
        "id": "suqtIrxnaEPM",
        "outputId": "3fb967ab-29c1-4849-e7f2-9c623661d75c"
      },
      "execution_count": 12,
      "outputs": [
        {
          "output_type": "execute_result",
          "data": {
            "text/plain": [
              "30"
            ]
          },
          "metadata": {},
          "execution_count": 12
        }
      ]
    },
    {
      "cell_type": "code",
      "source": [
        "def triangle_type(a,b,c):\n",
        "  if a==b and b==c:\n",
        "    return \"Equilateral\"\n",
        "  elif a==b or b==c or a==c:\n",
        "    return \"Isosceles\"\n",
        "  else:\n",
        "    return \"Scalene\"\n",
        "triangle_type(10,20,30)"
      ],
      "metadata": {
        "colab": {
          "base_uri": "https://localhost:8080/",
          "height": 36
        },
        "id": "mfgvxzkibb6C",
        "outputId": "f241bd85-49ac-4d12-8ff1-72518822e558"
      },
      "execution_count": 14,
      "outputs": [
        {
          "output_type": "execute_result",
          "data": {
            "text/plain": [
              "'Scalene'"
            ],
            "application/vnd.google.colaboratory.intrinsic+json": {
              "type": "string"
            }
          },
          "metadata": {},
          "execution_count": 14
        }
      ]
    },
    {
      "cell_type": "code",
      "source": [
        "def passward_strength(pw):\n",
        "  if len(pw) < 6:\n",
        "    return\"Weak\"\n",
        "  elif len(pw) < 10:\n",
        "    return \"Moderate\"\n",
        "  else:\n",
        "    return\"Strong\"\n",
        "passward_strength(\"test\")"
      ],
      "metadata": {
        "colab": {
          "base_uri": "https://localhost:8080/",
          "height": 36
        },
        "id": "JczGDdHsbzc1",
        "outputId": "1a0acbf6-b75a-429d-90d2-9907382ee39d"
      },
      "execution_count": 18,
      "outputs": [
        {
          "output_type": "execute_result",
          "data": {
            "text/plain": [
              "'Weak'"
            ],
            "application/vnd.google.colaboratory.intrinsic+json": {
              "type": "string"
            }
          },
          "metadata": {},
          "execution_count": 18
        }
      ]
    },
    {
      "cell_type": "code",
      "source": [
        "def f1(x):\n",
        "  def f2():\n",
        "    return \"Function 2\"\n",
        "  def f3():\n",
        "    return\"Function 3\"\n",
        "  if x==2:\n",
        "    return f2()\n",
        "  else:\n",
        "    return f3()\n",
        "f1(10)"
      ],
      "metadata": {
        "colab": {
          "base_uri": "https://localhost:8080/",
          "height": 36
        },
        "id": "F9h2taZqbzWP",
        "outputId": "90cb0111-c248-4830-8aaa-086941a5a860"
      },
      "execution_count": 19,
      "outputs": [
        {
          "output_type": "execute_result",
          "data": {
            "text/plain": [
              "'Function 3'"
            ],
            "application/vnd.google.colaboratory.intrinsic+json": {
              "type": "string"
            }
          },
          "metadata": {},
          "execution_count": 19
        }
      ]
    },
    {
      "cell_type": "code",
      "source": [
        "def add_and_square(a,b):\n",
        "  def square(n):\n",
        "    return n*n\n",
        "  result=a+b\n",
        "  return square(result)\n",
        "add_and_square(10,20)\n"
      ],
      "metadata": {
        "colab": {
          "base_uri": "https://localhost:8080/"
        },
        "id": "i9XDGxIFdls2",
        "outputId": "e2305171-1b4e-4f8e-ffda-ea2d4cc81b8c"
      },
      "execution_count": 20,
      "outputs": [
        {
          "output_type": "execute_result",
          "data": {
            "text/plain": [
              "900"
            ]
          },
          "metadata": {},
          "execution_count": 20
        }
      ]
    },
    {
      "cell_type": "code",
      "source": [
        "def x(n):\n",
        "  def y(num):\n",
        "    result=1\n",
        "    for i in range(2,num+1):\n",
        "      result*=i\n",
        "    return result\n",
        "  return y(n)\n",
        "x(5)"
      ],
      "metadata": {
        "colab": {
          "base_uri": "https://localhost:8080/"
        },
        "id": "mWcpk287eV3R",
        "outputId": "47a49e19-9d1b-4748-a2f0-7f5452545960"
      },
      "execution_count": 21,
      "outputs": [
        {
          "output_type": "execute_result",
          "data": {
            "text/plain": [
              "120"
            ]
          },
          "metadata": {},
          "execution_count": 21
        }
      ]
    },
    {
      "cell_type": "code",
      "source": [
        "def fibonacci(n):\n",
        "  def generate():\n",
        "    a,b=0,1\n",
        "    for _ in range(n):\n",
        "      yield a\n",
        "      a,b=b,a+b\n",
        "  return list(generate())\n",
        "fibonacci(10)"
      ],
      "metadata": {
        "colab": {
          "base_uri": "https://localhost:8080/"
        },
        "id": "jLyRX2LceV13",
        "outputId": "4fa0a413-9433-4b26-ee6a-3606fe59d31c"
      },
      "execution_count": 28,
      "outputs": [
        {
          "output_type": "execute_result",
          "data": {
            "text/plain": [
              "[0, 1, 1, 2, 3, 5, 8, 13, 21, 34]"
            ]
          },
          "metadata": {},
          "execution_count": 28
        }
      ]
    },
    {
      "cell_type": "code",
      "source": [
        "\"data\"\n",
        "\"atad\""
      ],
      "metadata": {
        "colab": {
          "base_uri": "https://localhost:8080/",
          "height": 36
        },
        "id": "cwW1ARKjgLTy",
        "outputId": "2247fecf-80cd-4f37-a8b9-aae64a739423"
      },
      "execution_count": 29,
      "outputs": [
        {
          "output_type": "execute_result",
          "data": {
            "text/plain": [
              "'atad'"
            ],
            "application/vnd.google.colaboratory.intrinsic+json": {
              "type": "string"
            }
          },
          "metadata": {},
          "execution_count": 29
        }
      ]
    },
    {
      "cell_type": "code",
      "source": [
        "\"madam\"[::-1]"
      ],
      "metadata": {
        "colab": {
          "base_uri": "https://localhost:8080/",
          "height": 36
        },
        "id": "aA8zdSjvgLSU",
        "outputId": "8c73c360-f212-4092-cc65-0287e8a65c6c"
      },
      "execution_count": 30,
      "outputs": [
        {
          "output_type": "execute_result",
          "data": {
            "text/plain": [
              "'madam'"
            ],
            "application/vnd.google.colaboratory.intrinsic+json": {
              "type": "string"
            }
          },
          "metadata": {},
          "execution_count": 30
        }
      ]
    },
    {
      "cell_type": "code",
      "source": [
        "def is_palindrome(x):\n",
        "  return x==x[::-1]\n",
        "is_palindrome(\"book\")"
      ],
      "metadata": {
        "colab": {
          "base_uri": "https://localhost:8080/"
        },
        "id": "BCDQWQ-egcP0",
        "outputId": "c6447f66-722c-40df-c43a-e1c0717db02a"
      },
      "execution_count": 31,
      "outputs": [
        {
          "output_type": "execute_result",
          "data": {
            "text/plain": [
              "False"
            ]
          },
          "metadata": {},
          "execution_count": 31
        }
      ]
    },
    {
      "cell_type": "code",
      "source": [
        "def function(a,b):\n",
        "  return a+b\n",
        "function(10,20)"
      ],
      "metadata": {
        "colab": {
          "base_uri": "https://localhost:8080/"
        },
        "id": "2qjiihI9gzVY",
        "outputId": "9c3c2759-72a9-462e-8ea5-9f51f3027d99"
      },
      "execution_count": 32,
      "outputs": [
        {
          "output_type": "execute_result",
          "data": {
            "text/plain": [
              "30"
            ]
          },
          "metadata": {},
          "execution_count": 32
        }
      ]
    },
    {
      "cell_type": "code",
      "source": [
        "import numpy as np\n",
        "x=lambda x,y:np.sqrt(x**2+y**2)\n",
        "x(2,4)"
      ],
      "metadata": {
        "colab": {
          "base_uri": "https://localhost:8080/"
        },
        "id": "Ug9mJe7UgzT0",
        "outputId": "cf469e26-69ea-4845-b628-3ef98597f0fa"
      },
      "execution_count": 33,
      "outputs": [
        {
          "output_type": "execute_result",
          "data": {
            "text/plain": [
              "np.float64(4.47213595499958)"
            ]
          },
          "metadata": {},
          "execution_count": 33
        }
      ]
    },
    {
      "cell_type": "code",
      "source": [
        "is_even=lambda x:x%2==0\n",
        "x=print(is_even(10))"
      ],
      "metadata": {
        "colab": {
          "base_uri": "https://localhost:8080/"
        },
        "id": "ga4MSOxYhZwX",
        "outputId": "0ba7809b-27b9-4559-8d01-7a9a5f5d05e0"
      },
      "execution_count": 34,
      "outputs": [
        {
          "output_type": "stream",
          "name": "stdout",
          "text": [
            "True\n"
          ]
        }
      ]
    },
    {
      "cell_type": "code",
      "source": [
        "x=lambda a,b: a if a > b else b\n",
        "x(10,20)"
      ],
      "metadata": {
        "colab": {
          "base_uri": "https://localhost:8080/"
        },
        "id": "UUSoyLfThq2t",
        "outputId": "bcafe041-e704-41d2-828f-1a16e06bb781"
      },
      "execution_count": 35,
      "outputs": [
        {
          "output_type": "execute_result",
          "data": {
            "text/plain": [
              "20"
            ]
          },
          "metadata": {},
          "execution_count": 35
        }
      ]
    },
    {
      "cell_type": "code",
      "source": [
        "x=lambda lst:[x**2 for x in lst]\n",
        "x([1,2,3,4])"
      ],
      "metadata": {
        "colab": {
          "base_uri": "https://localhost:8080/"
        },
        "id": "kunSGhVyh55q",
        "outputId": "2e7bf9b2-37d2-4fa7-d117-b13b9aad30eb"
      },
      "execution_count": 36,
      "outputs": [
        {
          "output_type": "execute_result",
          "data": {
            "text/plain": [
              "[1, 4, 9, 16]"
            ]
          },
          "metadata": {},
          "execution_count": 36
        }
      ]
    },
    {
      "cell_type": "code",
      "source": [
        "x=lambda x:x**0.5\n",
        "x(16)"
      ],
      "metadata": {
        "colab": {
          "base_uri": "https://localhost:8080/"
        },
        "id": "_BjkF5UAiTSh",
        "outputId": "322d9021-01e8-4de2-beb6-37bd007d395f"
      },
      "execution_count": 37,
      "outputs": [
        {
          "output_type": "execute_result",
          "data": {
            "text/plain": [
              "4.0"
            ]
          },
          "metadata": {},
          "execution_count": 37
        }
      ]
    },
    {
      "cell_type": "code",
      "source": [
        "def drop_missing(df):\n",
        "    return df.dropna()\n",
        "def fill_missing_mean(df, column):\n",
        "    df[column] = df[column].fillna(df[column].mean())\n",
        "    return df\n",
        "def fill_missing_mode(df, column):\n",
        "    df[column] = df[column].fillna(df[column].mode()[0])\n",
        "    return df\n",
        "def remove_duplicates(df):\n",
        "    return df.drop_duplicates()\n",
        "def remove_outliers(df, column):\n",
        "    Q1 = df[column].quantile(0.25)\n",
        "    Q3 = df[column].quantile(0.75)\n",
        "    IQR = Q3 - Q1\n",
        "    return df[(df[column] >= Q1 - 1.5 * IQR) & (df[column] <= Q3 + 1.5 * IQR)]\n",
        "def label_encode(df, column):\n",
        "    df[column] = df[column].astype('category').cat.codes\n",
        "    return df\n",
        "def one_hot_encode(df, column):\n",
        "    return pd.get_dummies(df, columns=[column])\n",
        "def clean_text(df, column):\n",
        "    df[column] = df[column].str.replace(r'[^A-Za-z0-9 ]+', '', regex=True)\n",
        "    return df\n"
      ],
      "metadata": {
        "id": "QrKpo5IgiTRF"
      },
      "execution_count": 38,
      "outputs": []
    },
    {
      "cell_type": "code",
      "source": [
        "def f1(x):\n",
        "  return (x**2)\n",
        "for i in range(1,10):\n",
        "  f1(i)"
      ],
      "metadata": {
        "id": "nfRFKroJjFi9"
      },
      "execution_count": 40,
      "outputs": []
    },
    {
      "cell_type": "code",
      "source": [
        "list(map(f1,range(1,10)))"
      ],
      "metadata": {
        "colab": {
          "base_uri": "https://localhost:8080/"
        },
        "id": "4DzMS8FRjFWQ",
        "outputId": "c96cbdaf-36a1-4780-9f62-3f57b1efc855"
      },
      "execution_count": 41,
      "outputs": [
        {
          "output_type": "execute_result",
          "data": {
            "text/plain": [
              "[1, 4, 9, 16, 25, 36, 49, 64, 81]"
            ]
          },
          "metadata": {},
          "execution_count": 41
        }
      ]
    },
    {
      "cell_type": "code",
      "source": [
        "list(map(lambda x:x**2,range(1,10)))"
      ],
      "metadata": {
        "colab": {
          "base_uri": "https://localhost:8080/"
        },
        "id": "y2idbq71j6bt",
        "outputId": "a39ef840-13ee-4a70-95e5-ddd12324f099"
      },
      "execution_count": 42,
      "outputs": [
        {
          "output_type": "execute_result",
          "data": {
            "text/plain": [
              "[1, 4, 9, 16, 25, 36, 49, 64, 81]"
            ]
          },
          "metadata": {},
          "execution_count": 42
        }
      ]
    },
    {
      "cell_type": "code",
      "source": [
        "list(map(lambda x:x.upper(),\"data\"))"
      ],
      "metadata": {
        "colab": {
          "base_uri": "https://localhost:8080/"
        },
        "id": "IL3z1U94kFrn",
        "outputId": "9fc915d2-afac-49ac-d677-c753aede627e"
      },
      "execution_count": 43,
      "outputs": [
        {
          "output_type": "execute_result",
          "data": {
            "text/plain": [
              "['D', 'A', 'T', 'A']"
            ]
          },
          "metadata": {},
          "execution_count": 43
        }
      ]
    }
  ]
}