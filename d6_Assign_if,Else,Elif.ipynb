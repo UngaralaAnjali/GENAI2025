{
  "nbformat": 4,
  "nbformat_minor": 0,
  "metadata": {
    "colab": {
      "provenance": []
    },
    "kernelspec": {
      "name": "python3",
      "display_name": "Python 3"
    },
    "language_info": {
      "name": "python"
    }
  },
  "cells": [
    {
      "cell_type": "code",
      "source": [
        "#EX:1\n",
        "x = 10\n",
        "if x > 5:\n",
        "  print(\"Greater than 5\")"
      ],
      "metadata": {
        "colab": {
          "base_uri": "https://localhost:8080/"
        },
        "id": "Wlh2bYZUKglG",
        "outputId": "fba4add8-1406-4ed3-d4a1-6345189ae5c9"
      },
      "execution_count": null,
      "outputs": [
        {
          "output_type": "stream",
          "name": "stdout",
          "text": [
            "Greater than 5\n"
          ]
        }
      ]
    },
    {
      "cell_type": "code",
      "source": [
        "#EX:2\n",
        "x = 3\n",
        "if x > 5:\n",
        "  print(\"Greater\")\n",
        "else:\n",
        "  print(\"Not Greater\")\n"
      ],
      "metadata": {
        "colab": {
          "base_uri": "https://localhost:8080/"
        },
        "id": "0Bk3IM_mKgej",
        "outputId": "f0f6221e-6802-4d60-ab1b-6cb37177c81d"
      },
      "execution_count": null,
      "outputs": [
        {
          "output_type": "stream",
          "name": "stdout",
          "text": [
            "Not Greater\n"
          ]
        }
      ]
    },
    {
      "cell_type": "code",
      "source": [
        "#EX:3 (if-elif-else)\n",
        "score = 85\n",
        "if score > 100:\n",
        "  print(\"A\")\n",
        "elif score > 80:\n",
        "  print(\"B\")\n",
        "else:\n",
        "  print(\"c\")\n",
        "\n",
        "\n",
        "\n"
      ],
      "metadata": {
        "colab": {
          "base_uri": "https://localhost:8080/"
        },
        "id": "Ot3EXVpGKgcM",
        "outputId": "cfacddcc-3d95-4152-b4fc-2a15d0f96991"
      },
      "execution_count": null,
      "outputs": [
        {
          "output_type": "stream",
          "name": "stdout",
          "text": [
            "B\n"
          ]
        }
      ]
    },
    {
      "cell_type": "code",
      "source": [
        "#EX:4\n",
        "name = \"Eren\"\n",
        "if name == \"Eren\":\n",
        "  print(\"Good bye Eren\")"
      ],
      "metadata": {
        "colab": {
          "base_uri": "https://localhost:8080/"
        },
        "id": "2tFwk5tlKgW3",
        "outputId": "42322c5b-5d6f-4833-f2dd-2e4cfcd674d1"
      },
      "execution_count": null,
      "outputs": [
        {
          "output_type": "stream",
          "name": "stdout",
          "text": [
            "Good bye Eren\n"
          ]
        }
      ]
    },
    {
      "cell_type": "code",
      "source": [
        "#EX:5\n",
        "age = 18\n",
        "if age >=18:\n",
        "  print(\"Adult\")\n",
        "else:\n",
        "  print(\"Minor\")\n"
      ],
      "metadata": {
        "colab": {
          "base_uri": "https://localhost:8080/"
        },
        "id": "eu2yTr6YKgP2",
        "outputId": "c16757cf-1294-4424-a2e0-6d714c2a2221"
      },
      "execution_count": null,
      "outputs": [
        {
          "output_type": "stream",
          "name": "stdout",
          "text": [
            "Adult\n"
          ]
        }
      ]
    },
    {
      "cell_type": "code",
      "source": [
        "#EX:6\n",
        "num = 0\n",
        "if num == 0:\n",
        "  print(\"Zero\")\n",
        "else:\n",
        "  print(\"Non Zero\")\n"
      ],
      "metadata": {
        "colab": {
          "base_uri": "https://localhost:8080/"
        },
        "id": "vyZOC0B3KgNy",
        "outputId": "459bbac6-3af4-48e8-cc37-83707e5d26d8"
      },
      "execution_count": null,
      "outputs": [
        {
          "output_type": "stream",
          "name": "stdout",
          "text": [
            "Zero\n"
          ]
        }
      ]
    },
    {
      "cell_type": "code",
      "source": [
        "#EX:7\n",
        "n = -67\n",
        "if n < 0:\n",
        "  print(\"Negative\")\n",
        "elif n == 0:\n",
        "  print(\"Zero\")\n",
        "else:\n",
        "  print(\"Positive\")"
      ],
      "metadata": {
        "colab": {
          "base_uri": "https://localhost:8080/"
        },
        "id": "HF68gBNHKgK7",
        "outputId": "a6e320b8-334f-4fe7-bc0a-c26c20fd3863"
      },
      "execution_count": null,
      "outputs": [
        {
          "output_type": "stream",
          "name": "stdout",
          "text": [
            "Negative\n"
          ]
        }
      ]
    },
    {
      "cell_type": "code",
      "source": [
        "#EX:8\n",
        "temp = 30\n",
        "if temp > 25:\n",
        "  print(\"Hot\")\n",
        "else:\n",
        "  print(\"cool\")"
      ],
      "metadata": {
        "colab": {
          "base_uri": "https://localhost:8080/"
        },
        "id": "2HZ0nwviKgIv",
        "outputId": "2e67df13-a90c-431a-de18-711c9d997715"
      },
      "execution_count": null,
      "outputs": [
        {
          "output_type": "stream",
          "name": "stdout",
          "text": [
            "Hot\n"
          ]
        }
      ]
    },
    {
      "cell_type": "code",
      "source": [
        "#EX:9\n",
        "language = \"Python\"\n",
        "if language == \"Python\":\n",
        "  print(\"Language matched \")"
      ],
      "metadata": {
        "colab": {
          "base_uri": "https://localhost:8080/"
        },
        "id": "Dk5rQfBtKgGY",
        "outputId": "77ae4d81-4358-4cff-eca2-72d15dc9b694"
      },
      "execution_count": null,
      "outputs": [
        {
          "output_type": "stream",
          "name": "stdout",
          "text": [
            "Language matched \n"
          ]
        }
      ]
    },
    {
      "cell_type": "code",
      "source": [
        "#Ex:10\n",
        "marks = 65\n",
        "if marks >= 90:\n",
        "  print(\"Excellent\")\n",
        "elif marks >=75:\n",
        "  print(\"Very Good\")\n",
        "elif marks >= 50:\n",
        "  print(\"Good\")\n",
        "else:\n",
        "  print(\"Fail\")\n"
      ],
      "metadata": {
        "colab": {
          "base_uri": "https://localhost:8080/"
        },
        "id": "Wn2UTdi-KgCW",
        "outputId": "afa3efd8-a3aa-4655-af4c-b1f778d600ba"
      },
      "execution_count": null,
      "outputs": [
        {
          "output_type": "stream",
          "name": "stdout",
          "text": [
            "Good\n"
          ]
        }
      ]
    },
    {
      "cell_type": "code",
      "source": [
        "#EX:11\n",
        "flag = True\n",
        "if flag:\n",
        "  print(\"a is less than b\")\n"
      ],
      "metadata": {
        "colab": {
          "base_uri": "https://localhost:8080/"
        },
        "id": "eng_0R41Kf7J",
        "outputId": "8aeb9b13-f0ee-46ab-fbe7-21d05cc41bf8"
      },
      "execution_count": null,
      "outputs": [
        {
          "output_type": "stream",
          "name": "stdout",
          "text": [
            "a is less than b\n"
          ]
        }
      ]
    },
    {
      "cell_type": "code",
      "execution_count": null,
      "metadata": {
        "colab": {
          "base_uri": "https://localhost:8080/"
        },
        "id": "3ILxVLO5KdZU",
        "outputId": "fe7d271e-a8cf-4360-9239-bfa6ac742934"
      },
      "outputs": [
        {
          "output_type": "stream",
          "name": "stdout",
          "text": [
            "a is less than b\n"
          ]
        }
      ],
      "source": [
        "#EX:12\n",
        "a,b = 100,234\n",
        "if a < b:\n",
        "  print(\"a is less than b\")"
      ]
    },
    {
      "cell_type": "code",
      "source": [
        "#EX:13\n",
        "x = 24\n",
        "if x % 2 == 0:\n",
        "  print(\"Even\")\n",
        "else:\n",
        "  print(\"odd\")"
      ],
      "metadata": {
        "colab": {
          "base_uri": "https://localhost:8080/"
        },
        "id": "haA72cwEReCX",
        "outputId": "e82cdad9-2679-4897-af57-0021c58f4f8d"
      },
      "execution_count": null,
      "outputs": [
        {
          "output_type": "stream",
          "name": "stdout",
          "text": [
            "Even\n"
          ]
        }
      ]
    },
    {
      "cell_type": "code",
      "source": [
        "#EX:14\n",
        "grade = \"A\"\n",
        "if grade == \"A\":\n",
        "  print(\"Excellent\")\n",
        "elif grade == \"B\":\n",
        "  print(\"Good\")\n",
        "else:\n",
        "  print(\"Average\")\n"
      ],
      "metadata": {
        "colab": {
          "base_uri": "https://localhost:8080/"
        },
        "id": "zB_Fs73pRd-6",
        "outputId": "0e6dd94b-7e0f-4ec8-fe89-1091688b7f39"
      },
      "execution_count": null,
      "outputs": [
        {
          "output_type": "stream",
          "name": "stdout",
          "text": [
            "Excellent\n"
          ]
        }
      ]
    },
    {
      "cell_type": "code",
      "source": [
        "#EX:15\n",
        "price = 120\n",
        "if price > 100:\n",
        "  print(\"To expensive\")\n"
      ],
      "metadata": {
        "colab": {
          "base_uri": "https://localhost:8080/"
        },
        "id": "a5_ZmYvfRd6c",
        "outputId": "4f60aba6-f420-450f-a6bc-15ec719efe9b"
      },
      "execution_count": null,
      "outputs": [
        {
          "output_type": "stream",
          "name": "stdout",
          "text": [
            "To expensive\n"
          ]
        }
      ]
    },
    {
      "cell_type": "code",
      "source": [
        "#EX:16\n",
        "rain = False\n",
        "if rain:\n",
        "  print(\"Take Umbrella\")\n",
        "else:\n",
        "  print(\"No Need\")\n"
      ],
      "metadata": {
        "colab": {
          "base_uri": "https://localhost:8080/"
        },
        "id": "yhFZGZQSRdxE",
        "outputId": "bec45265-7664-448f-8c50-d67d434dfcf7"
      },
      "execution_count": null,
      "outputs": [
        {
          "output_type": "stream",
          "name": "stdout",
          "text": [
            "No Need\n"
          ]
        }
      ]
    },
    {
      "cell_type": "code",
      "source": [
        "#EX:17\n",
        "fruit = \"Orange\"\n",
        "if fruit in [\"Apple\",\"Orange\",\"Banana\",\"Mango\"]:\n",
        "  print(\"Available\")"
      ],
      "metadata": {
        "colab": {
          "base_uri": "https://localhost:8080/"
        },
        "id": "VPo-BZvmTzha",
        "outputId": "6b9a3c6e-2d12-426d-e76b-5edad78d195a"
      },
      "execution_count": null,
      "outputs": [
        {
          "output_type": "stream",
          "name": "stdout",
          "text": [
            "Available\n"
          ]
        }
      ]
    },
    {
      "cell_type": "code",
      "source": [
        "#EX:18\n",
        "x = 15\n",
        "if x > 10 and x < 50:\n",
        "  print(\"In range\")"
      ],
      "metadata": {
        "colab": {
          "base_uri": "https://localhost:8080/"
        },
        "id": "Ulclik9PTzeB",
        "outputId": "b16cef52-4127-44d2-959c-5c62dbd4fb9a"
      },
      "execution_count": null,
      "outputs": [
        {
          "output_type": "stream",
          "name": "stdout",
          "text": [
            "In range\n"
          ]
        }
      ]
    },
    {
      "cell_type": "code",
      "source": [
        "#EX:19\n",
        "balance = 500\n",
        "withdraw = 600\n",
        "if balance >= withdraw:\n",
        "  print(\"withdraw sucessful\")\n",
        "else:\n",
        "  print(\"Insufficient balance\")"
      ],
      "metadata": {
        "colab": {
          "base_uri": "https://localhost:8080/"
        },
        "id": "GqsUBO_lTzbI",
        "outputId": "43c9821b-4109-40a3-b36a-6d57b62d2607"
      },
      "execution_count": null,
      "outputs": [
        {
          "output_type": "stream",
          "name": "stdout",
          "text": [
            "Insufficient balance\n"
          ]
        }
      ]
    },
    {
      "cell_type": "code",
      "source": [
        "#EX:20\n",
        "char = 'z'\n",
        "if char.isalpha():\n",
        "  print(\"Alphabet\")"
      ],
      "metadata": {
        "colab": {
          "base_uri": "https://localhost:8080/"
        },
        "id": "9iVDax0ETzYe",
        "outputId": "a747381a-dee6-4079-b73c-2b4cda13fde5"
      },
      "execution_count": null,
      "outputs": [
        {
          "output_type": "stream",
          "name": "stdout",
          "text": [
            "Alphabet\n"
          ]
        }
      ]
    },
    {
      "cell_type": "code",
      "source": [
        "#EX:21\n",
        "password = \"admin123\"\n",
        "if len(password) >=8:\n",
        "  print(\"Valid Password\")"
      ],
      "metadata": {
        "colab": {
          "base_uri": "https://localhost:8080/"
        },
        "id": "gBqSl6qPTzU4",
        "outputId": "96f0036a-6a21-4db3-8034-f1acace78267"
      },
      "execution_count": null,
      "outputs": [
        {
          "output_type": "stream",
          "name": "stdout",
          "text": [
            "Valid Password\n"
          ]
        }
      ]
    },
    {
      "cell_type": "code",
      "source": [
        "#EX:22\n",
        "x = 0\n",
        "if not x:\n",
        "  print(\"Access granted\")"
      ],
      "metadata": {
        "colab": {
          "base_uri": "https://localhost:8080/"
        },
        "id": "vIU6aYuWTzRN",
        "outputId": "e949fb3d-83a7-414b-eb4d-d6de585f68f3"
      },
      "execution_count": null,
      "outputs": [
        {
          "output_type": "stream",
          "name": "stdout",
          "text": [
            "Access granted\n"
          ]
        }
      ]
    },
    {
      "cell_type": "code",
      "source": [
        "#EX:23\n",
        "user = \"admin\"\n",
        "if user == \"admin\":\n",
        "  print(\"Acess granted\")"
      ],
      "metadata": {
        "colab": {
          "base_uri": "https://localhost:8080/"
        },
        "id": "zyGLPq4eTzOG",
        "outputId": "c34350c6-9549-4afb-b112-c9c7fcee269a"
      },
      "execution_count": null,
      "outputs": [
        {
          "output_type": "stream",
          "name": "stdout",
          "text": [
            "Acess granted\n"
          ]
        }
      ]
    },
    {
      "cell_type": "code",
      "source": [
        "#EX:24\n",
        "x = 15\n",
        "if x % 5 == 0:\n",
        "  print(\"Divisible by 5\")"
      ],
      "metadata": {
        "colab": {
          "base_uri": "https://localhost:8080/"
        },
        "id": "7yVGGfPgTzKd",
        "outputId": "7c6a4ade-4139-4254-cbc5-4541a15da978"
      },
      "execution_count": null,
      "outputs": [
        {
          "output_type": "stream",
          "name": "stdout",
          "text": [
            "Divisible by 5\n"
          ]
        }
      ]
    },
    {
      "cell_type": "code",
      "source": [
        "#EX:25\n",
        "s = \"OpenAI\"\n",
        "if s.startswith(\"O\"):\n",
        "  print(\"starts with O\")"
      ],
      "metadata": {
        "colab": {
          "base_uri": "https://localhost:8080/"
        },
        "id": "ykvlws5STzEx",
        "outputId": "1f8a5606-cc15-4c55-baab-ad6ddab8252f"
      },
      "execution_count": null,
      "outputs": [
        {
          "output_type": "stream",
          "name": "stdout",
          "text": [
            "starts with O\n"
          ]
        }
      ]
    },
    {
      "cell_type": "code",
      "source": [
        "#EX:26\n",
        "grade = 60\n",
        "if grade >= 50:\n",
        "  print(\"pass\")\n",
        "else:\n",
        "  print(\"Fail\")"
      ],
      "metadata": {
        "colab": {
          "base_uri": "https://localhost:8080/"
        },
        "id": "aP1cweewTzAn",
        "outputId": "c3da58ba-5fe7-4e02-bee5-ec6a36f4cae2"
      },
      "execution_count": null,
      "outputs": [
        {
          "output_type": "stream",
          "name": "stdout",
          "text": [
            "pass\n"
          ]
        }
      ]
    },
    {
      "cell_type": "code",
      "source": [
        "#EX:27\n",
        "time = 14\n",
        "if time < 12:\n",
        "  print(\"Morning\")\n",
        "elif time < 18:\n",
        "  print(\"Afternoon\")\n",
        "else:\n",
        "  print(\"Evening\")"
      ],
      "metadata": {
        "colab": {
          "base_uri": "https://localhost:8080/"
        },
        "id": "5DJhYA9iTy9H",
        "outputId": "4afbac17-8285-49ae-da37-9db3ef13307d"
      },
      "execution_count": null,
      "outputs": [
        {
          "output_type": "stream",
          "name": "stdout",
          "text": [
            "Afternoon\n"
          ]
        }
      ]
    },
    {
      "cell_type": "code",
      "source": [
        "#EX:28\n",
        "temp = 0\n",
        "if temp <= 0:\n",
        "  print(\"Freezing\")"
      ],
      "metadata": {
        "colab": {
          "base_uri": "https://localhost:8080/"
        },
        "id": "x7ppfUylTy3J",
        "outputId": "2c5c8a12-fcce-49a1-943a-23fa875f605c"
      },
      "execution_count": null,
      "outputs": [
        {
          "output_type": "stream",
          "name": "stdout",
          "text": [
            "Freezing\n"
          ]
        }
      ]
    },
    {
      "cell_type": "code",
      "source": [
        "#EX:29\n",
        "value = 10\n",
        "if value:\n",
        "  print(\"Truthy value\")\n"
      ],
      "metadata": {
        "colab": {
          "base_uri": "https://localhost:8080/"
        },
        "id": "9qa4zihhTyyr",
        "outputId": "bdccb6a1-b677-4e2a-a2a8-1a6ecd5af5aa"
      },
      "execution_count": null,
      "outputs": [
        {
          "output_type": "stream",
          "name": "stdout",
          "text": [
            "Truthy value\n"
          ]
        }
      ]
    },
    {
      "cell_type": "code",
      "source": [
        "#EX:30\n",
        "n = 21\n",
        "if value:\n",
        "  print(\"Truthy value\")"
      ],
      "metadata": {
        "colab": {
          "base_uri": "https://localhost:8080/"
        },
        "id": "n-zARjykTyq5",
        "outputId": "37ae9a4d-3a05-4af7-80ca-94a809bcb17b"
      },
      "execution_count": null,
      "outputs": [
        {
          "output_type": "stream",
          "name": "stdout",
          "text": [
            "Truthy value\n"
          ]
        }
      ]
    },
    {
      "cell_type": "code",
      "source": [
        "#EX:31\n",
        "status = \"success\"\n",
        "if status == \"success\":\n",
        "  print(\"Operation Successful\")\n"
      ],
      "metadata": {
        "id": "BVlsGjXDTyKo",
        "colab": {
          "base_uri": "https://localhost:8080/"
        },
        "outputId": "b9e76ffb-e6ef-4eab-9799-29b107715c2d"
      },
      "execution_count": null,
      "outputs": [
        {
          "output_type": "stream",
          "name": "stdout",
          "text": [
            "Operation Successful\n"
          ]
        }
      ]
    },
    {
      "cell_type": "code",
      "source": [
        "#EX:32\n",
        "gender = \"female\"\n",
        "if gender.lower() == \"female\":\n",
        "  print(\"Hello Madam\")"
      ],
      "metadata": {
        "id": "y2y_3ofGaqOg",
        "colab": {
          "base_uri": "https://localhost:8080/"
        },
        "outputId": "8ad8f726-7243-4082-97dc-223935aba2e0"
      },
      "execution_count": null,
      "outputs": [
        {
          "output_type": "stream",
          "name": "stdout",
          "text": [
            "Hello Madam\n"
          ]
        }
      ]
    },
    {
      "cell_type": "code",
      "source": [
        "#EX:33\n",
        "year = 2024\n",
        "if (year % 4 == 0 and year % 100 !=0):\n",
        "  print(\"Leap Year\")\n"
      ],
      "metadata": {
        "id": "P8xq1L9-aqMi",
        "colab": {
          "base_uri": "https://localhost:8080/"
        },
        "outputId": "f365aea2-421f-4236-f941-0d2100af6a56"
      },
      "execution_count": null,
      "outputs": [
        {
          "output_type": "stream",
          "name": "stdout",
          "text": [
            "Leap Year\n"
          ]
        }
      ]
    },
    {
      "cell_type": "code",
      "source": [
        "#Ex:34\n",
        "age = 5\n",
        "if age < 13:\n",
        "  print(\"Child\")\n",
        "elif age < 20:\n",
        "  print(\"Teen\")\n",
        "else:\n",
        "  print(\"Adult\")"
      ],
      "metadata": {
        "id": "VMsF8RYWaqJW",
        "colab": {
          "base_uri": "https://localhost:8080/"
        },
        "outputId": "7c4b0ca6-76ee-40d5-b4c6-b201e6b83a13"
      },
      "execution_count": null,
      "outputs": [
        {
          "output_type": "stream",
          "name": "stdout",
          "text": [
            "Child\n"
          ]
        }
      ]
    },
    {
      "cell_type": "code",
      "source": [
        "#EX:35\n",
        "speed = 80\n",
        "if speed > 60:\n",
        "  print(\"over speed\")\n"
      ],
      "metadata": {
        "id": "szRYBqITaqEQ",
        "colab": {
          "base_uri": "https://localhost:8080/"
        },
        "outputId": "5ad10d2f-9cca-4b53-90f9-a3fb52a415c8"
      },
      "execution_count": null,
      "outputs": [
        {
          "output_type": "stream",
          "name": "stdout",
          "text": [
            "over speed\n"
          ]
        }
      ]
    },
    {
      "cell_type": "code",
      "source": [
        "#EX:36\n",
        "income = 45000\n",
        "if income < 50000:\n",
        "  print(\"Low Income\")\n",
        "else:\n",
        "  print(\"Good Income\")"
      ],
      "metadata": {
        "id": "lHyfgkRxapz8",
        "colab": {
          "base_uri": "https://localhost:8080/"
        },
        "outputId": "c158456b-adb7-404d-b632-0a4a7d4f4df9"
      },
      "execution_count": null,
      "outputs": [
        {
          "output_type": "stream",
          "name": "stdout",
          "text": [
            "Low Income\n"
          ]
        }
      ]
    },
    {
      "cell_type": "code",
      "source": [
        "#EX:37\n",
        "height = 180\n",
        "if height > 168:\n",
        "  print(\"Tall\")"
      ],
      "metadata": {
        "id": "lt9d7s9qapuv",
        "colab": {
          "base_uri": "https://localhost:8080/"
        },
        "outputId": "314bbe71-63d9-4336-d7ce-d5cf92accb4f"
      },
      "execution_count": null,
      "outputs": [
        {
          "output_type": "stream",
          "name": "stdout",
          "text": [
            "Tall\n"
          ]
        }
      ]
    },
    {
      "cell_type": "code",
      "source": [
        "#EX:38\n",
        "weight = 70\n",
        "if weight < 60:\n",
        "  print(\"Under weight\")\n",
        "elif weight <= 80:\n",
        "  print(\"Normal\")\n",
        "else:\n",
        "  print(\"Overweight\")"
      ],
      "metadata": {
        "id": "nBtgmiW4aprR",
        "colab": {
          "base_uri": "https://localhost:8080/"
        },
        "outputId": "0de59008-c31d-4465-eb68-708a00456aad"
      },
      "execution_count": null,
      "outputs": [
        {
          "output_type": "stream",
          "name": "stdout",
          "text": [
            "Normal\n"
          ]
        }
      ]
    },
    {
      "cell_type": "code",
      "source": [
        "#EX:39\n",
        "letter = 'a'\n",
        "if letter in 'aeiou':\n",
        "  print(\"Vowel\")\n",
        "else:\n",
        "  print(\"Consonant\")"
      ],
      "metadata": {
        "colab": {
          "base_uri": "https://localhost:8080/"
        },
        "id": "BWLt0vg63_9U",
        "outputId": "60743fb3-cf27-499a-9bb8-922fd444319a"
      },
      "execution_count": null,
      "outputs": [
        {
          "output_type": "stream",
          "name": "stdout",
          "text": [
            "Vowel\n"
          ]
        }
      ]
    },
    {
      "cell_type": "code",
      "source": [
        "#EX:40\n",
        "x = 10\n",
        "if x != 0:\n",
        "   print(\"Not Zero\")"
      ],
      "metadata": {
        "id": "KQ_4BLoM3_7I",
        "colab": {
          "base_uri": "https://localhost:8080/"
        },
        "outputId": "cf2eb43c-0933-4353-b88d-fa312326dae2"
      },
      "execution_count": null,
      "outputs": [
        {
          "output_type": "stream",
          "name": "stdout",
          "text": [
            "Not Zero\n"
          ]
        }
      ]
    },
    {
      "cell_type": "code",
      "source": [
        "#EX:41\n",
        "count = 0\n",
        "if count == 0:\n",
        "  print(\"Empty\")"
      ],
      "metadata": {
        "id": "XgHL8-t83_4t",
        "colab": {
          "base_uri": "https://localhost:8080/"
        },
        "outputId": "b78377e9-a638-4522-de1a-642587787a89"
      },
      "execution_count": null,
      "outputs": [
        {
          "output_type": "stream",
          "name": "stdout",
          "text": [
            "Empty\n"
          ]
        }
      ]
    },
    {
      "cell_type": "code",
      "source": [
        "#EX:42\n",
        "role = \"manager\"\n",
        "if role == \"admin\":\n",
        "  print(\"admin access\")\n",
        "elif role == \"manager\":\n",
        "  print(\"Manager Access\")\n",
        "else:\n",
        "  print(\"Guest Access\")"
      ],
      "metadata": {
        "id": "9NI0mMeO3_wK",
        "colab": {
          "base_uri": "https://localhost:8080/"
        },
        "outputId": "7d297006-1b0f-4d66-8234-c1a8cd992a34"
      },
      "execution_count": null,
      "outputs": [
        {
          "output_type": "stream",
          "name": "stdout",
          "text": [
            "Manager Access\n"
          ]
        }
      ]
    },
    {
      "cell_type": "code",
      "source": [
        "#EX:43\n",
        "day = \"Sunday\"\n",
        "if day == \"Sunday\":\n",
        "  print(\"Holiday\")\n"
      ],
      "metadata": {
        "id": "9aq-zp6n3_mq",
        "colab": {
          "base_uri": "https://localhost:8080/"
        },
        "outputId": "827c3873-6e33-4934-c4ce-84290063ca90"
      },
      "execution_count": null,
      "outputs": [
        {
          "output_type": "stream",
          "name": "stdout",
          "text": [
            "Holiday\n"
          ]
        }
      ]
    },
    {
      "cell_type": "code",
      "source": [
        "#EX:44\n",
        "email = \"user@example.com\"\n",
        "if \"@\" in email:\n",
        "  print(\"Valid email\")"
      ],
      "metadata": {
        "id": "AQ32RxFK3_fP",
        "colab": {
          "base_uri": "https://localhost:8080/"
        },
        "outputId": "e307a8f2-694a-431c-bee3-b881f8c45b6b"
      },
      "execution_count": null,
      "outputs": [
        {
          "output_type": "stream",
          "name": "stdout",
          "text": [
            "Valid email\n"
          ]
        }
      ]
    },
    {
      "cell_type": "code",
      "source": [
        "#EX:45\n",
        "x = 9\n",
        "if x in [1,3,5,7,9]:\n",
        "  print(\"odd single-digit\")"
      ],
      "metadata": {
        "id": "ZqTuzbwf3_Xv",
        "colab": {
          "base_uri": "https://localhost:8080/"
        },
        "outputId": "f1632907-f350-47bc-f849-e62b940096e6"
      },
      "execution_count": null,
      "outputs": [
        {
          "output_type": "stream",
          "name": "stdout",
          "text": [
            "odd single-digit\n"
          ]
        }
      ]
    },
    {
      "cell_type": "code",
      "source": [
        "#EX:46\n",
        "celisius = 37\n",
        "if celisius >=37:\n",
        "  print(\"FEVER\")"
      ],
      "metadata": {
        "id": "Ka1Os4zN6sG8",
        "colab": {
          "base_uri": "https://localhost:8080/"
        },
        "outputId": "d7c487ad-4da6-46d6-cbb2-87df97299f3e"
      },
      "execution_count": null,
      "outputs": [
        {
          "output_type": "stream",
          "name": "stdout",
          "text": [
            "FEVER\n"
          ]
        }
      ]
    },
    {
      "cell_type": "code",
      "source": [
        "#EX:47\n",
        "n = 50\n",
        "if n > 100:\n",
        "  print(\"Huge\")\n",
        "else:\n",
        "  print(\"Moderate or small\")"
      ],
      "metadata": {
        "id": "EbtiVpkP6sBp",
        "colab": {
          "base_uri": "https://localhost:8080/"
        },
        "outputId": "29d9e9cd-4a79-4e97-c1fc-1b5ef2c07419"
      },
      "execution_count": null,
      "outputs": [
        {
          "output_type": "stream",
          "name": "stdout",
          "text": [
            "Moderate or small\n"
          ]
        }
      ]
    },
    {
      "cell_type": "code",
      "source": [
        "#EX:48\n",
        "x, y = 8,9\n",
        "if x == y:\n",
        "  print(\"Equal\")\n",
        "else:\n",
        "  print(\"Not Equal\")\n"
      ],
      "metadata": {
        "id": "_1yY7yY_6r-M",
        "colab": {
          "base_uri": "https://localhost:8080/"
        },
        "outputId": "f23d1d19-dda2-4e7e-d0bf-c6843ce061ad"
      },
      "execution_count": null,
      "outputs": [
        {
          "output_type": "stream",
          "name": "stdout",
          "text": [
            "Not Equal\n"
          ]
        }
      ]
    },
    {
      "cell_type": "code",
      "source": [
        "#EX:49\n",
        "score = 55\n",
        "if score >= 90:\n",
        "  print(\"A\")\n",
        "elif score >= 75:\n",
        "  print(\"B\")\n",
        "elif score >= 60:\n",
        "  print(\"C\")\n",
        "elif score >= 50:\n",
        "  print(\"D\")\n",
        "else:\n",
        "  print(\"F\")"
      ],
      "metadata": {
        "id": "GzH2jGzs6r7t",
        "colab": {
          "base_uri": "https://localhost:8080/"
        },
        "outputId": "ccaabaa7-73a6-4ffb-b5ae-2282d6d23c62"
      },
      "execution_count": null,
      "outputs": [
        {
          "output_type": "stream",
          "name": "stdout",
          "text": [
            "D\n"
          ]
        }
      ]
    },
    {
      "cell_type": "code",
      "source": [
        "#EX :50\n",
        "logged_in = True\n",
        "if logged_in:\n",
        "  print(\"Dashboard\")\n",
        "else:\n",
        "  print(\"Login First\")"
      ],
      "metadata": {
        "id": "5bVOuLF-8Qq-",
        "colab": {
          "base_uri": "https://localhost:8080/"
        },
        "outputId": "ce910597-4346-4d29-9fc1-95c0de470b45"
      },
      "execution_count": null,
      "outputs": [
        {
          "output_type": "stream",
          "name": "stdout",
          "text": [
            "Dashboard\n"
          ]
        }
      ]
    },
    {
      "cell_type": "code",
      "source": [
        "#EX:40\n",
        "x = 10\n",
        "if x != 0\n",
        "print(\"Not Zero\")"
      ],
      "metadata": {
        "id": "Mke_Pga2k7QH",
        "colab": {
          "base_uri": "https://localhost:8080/",
          "height": 106
        },
        "outputId": "331c75a5-6d67-4bbd-bdb6-32fdfd485eb4"
      },
      "execution_count": null,
      "outputs": [
        {
          "output_type": "error",
          "ename": "SyntaxError",
          "evalue": "expected ':' (<ipython-input-1-88fe8c0d305b>, line 3)",
          "traceback": [
            "\u001b[0;36m  File \u001b[0;32m\"<ipython-input-1-88fe8c0d305b>\"\u001b[0;36m, line \u001b[0;32m3\u001b[0m\n\u001b[0;31m    if x != 0\u001b[0m\n\u001b[0m             ^\u001b[0m\n\u001b[0;31mSyntaxError\u001b[0m\u001b[0;31m:\u001b[0m expected ':'\n"
          ]
        }
      ]
    }
  ]
}